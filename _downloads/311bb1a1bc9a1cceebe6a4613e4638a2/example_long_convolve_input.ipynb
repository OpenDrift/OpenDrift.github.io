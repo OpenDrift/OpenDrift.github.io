{
  "cells": [
    {
      "cell_type": "code",
      "execution_count": null,
      "metadata": {
        "collapsed": false
      },
      "outputs": [],
      "source": [
        "%matplotlib inline"
      ]
    },
    {
      "cell_type": "markdown",
      "metadata": {},
      "source": [
        "\nConvolve input\n=============\n\nDemonstrating how the spatial resolution of\nfields from a reader may be reduced.\n"
      ]
    },
    {
      "cell_type": "code",
      "execution_count": null,
      "metadata": {
        "collapsed": false
      },
      "outputs": [],
      "source": [
        "from datetime import datetime, timedelta\nimport matplotlib.pyplot as plt\nfrom opendrift.readers import reader_netCDF_CF_generic\nfrom opendrift.models.oceandrift import OceanDrift\n\n\nlon = 4.9; lat = 60.0\no = OceanDrift()\n\nreader_norkyst = reader_netCDF_CF_generic.Reader(o.test_data_folder() + '16Nov2015_NorKyst_z_surface/norkyst800_subset_16Nov2015.nc')\ntime = reader_norkyst.start_time\n\no.add_reader([reader_norkyst])\no.seed_elements(lon, lat, radius=1000, number=1000, time=time)\no.run(steps=20)\n\n# Store final field of x-component of current\noriginal_current = reader_norkyst.var_block_after[list(reader_norkyst.var_block_after.keys())[0]].data_dict['x_sea_water_velocity'].copy()\n\n# For the second run, the NorKyst currents are convolved with a kernel,\n# effectively lowering the spatial resolution.\n# <reader>.convolve may also be given as an array (kernel) directly\nN = 10  # Convolusion kernel size\nreader_norkyst.convolve = N  # Using convolution kernel for second run\no2 = OceanDrift()\no2.add_reader([reader_norkyst])\no2.seed_elements(lon, lat, radius=1000, number=1000, time=time)\no2.run(steps=20)\n# Store final field of x-component of (convolved) current\nconvolved_current = reader_norkyst.var_block_after[\"['y_sea_water_velocity', 'x_sea_water_velocity']\"].data_dict['x_sea_water_velocity']\n\nplt.subplot(2,1,1)\nplt.imshow(original_current, interpolation='nearest')\nplt.title('Original current field (x-component)')\nclim = plt.gci().get_clim()\nplt.colorbar()\nplt.subplot(2,1,2)\nplt.imshow(convolved_current, interpolation='nearest')\nplt.clim(clim)  # Make sure plots are comparable\nplt.colorbar()\nplt.title('Final, convolved current field (x-component)')\nplt.show()\n\n# Print and plot results\nprint(o)\no.animation(compare=o2, legend=[\n    'Original currents', 'Current convoled with kernel of size %s' % N],\n    filename='convolve_input.gif')"
      ]
    },
    {
      "cell_type": "markdown",
      "metadata": {},
      "source": [
        "![](/gallery/animations/convolve_input.gif)\n\n\n"
      ]
    }
  ],
  "metadata": {
    "kernelspec": {
      "display_name": "Python 3",
      "language": "python",
      "name": "python3"
    },
    "language_info": {
      "codemirror_mode": {
        "name": "ipython",
        "version": 3
      },
      "file_extension": ".py",
      "mimetype": "text/x-python",
      "name": "python",
      "nbconvert_exporter": "python",
      "pygments_lexer": "ipython3",
      "version": "3.7.3"
    }
  },
  "nbformat": 4,
  "nbformat_minor": 0
}
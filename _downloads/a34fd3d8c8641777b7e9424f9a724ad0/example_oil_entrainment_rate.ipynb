{
  "cells": [
    {
      "cell_type": "code",
      "execution_count": null,
      "metadata": {
        "collapsed": false
      },
      "outputs": [],
      "source": [
        "%matplotlib inline"
      ]
    },
    {
      "cell_type": "markdown",
      "metadata": {},
      "source": [
        "\nOil entrainment rate\n====================\n"
      ]
    },
    {
      "cell_type": "code",
      "execution_count": null,
      "metadata": {
        "collapsed": false
      },
      "outputs": [],
      "source": [
        "import numpy as np\nimport matplotlib.pyplot as plt\nfrom opendrift.models.physics_methods import oil_wave_entrainment_rate_li2017, oil_wave_entrainment_rate_tkalich2002"
      ]
    },
    {
      "cell_type": "code",
      "execution_count": null,
      "metadata": {
        "collapsed": false
      },
      "outputs": [],
      "source": [
        "vis = np.linspace(0, 20, 100)\n\ncolors = ['b', 'g', 'r']\nlstyles = ['-', '-.']"
      ]
    },
    {
      "cell_type": "markdown",
      "metadata": {},
      "source": [
        "Calculating and plotting the entrainment rate as function of viscosity\nfor 3 wind speeds\n\n"
      ]
    },
    {
      "cell_type": "code",
      "execution_count": null,
      "metadata": {
        "collapsed": false
      },
      "outputs": [],
      "source": [
        "for wind, color in zip([6, 10, 15], colors):\n\n    #%% Entrainment rate from Li (2017)\n    for ift, ls in zip([.003, .03], lstyles):\n        r = oil_wave_entrainment_rate_li2017(\n                dynamical_viscosity=vis, oil_density=950, interfacial_tension=ift,\n                wind_speed=wind)\n        #%% from instantaneous rate (s-1) we calculate the probability of entrainment within one hour:\n        p1h = 1-np.exp(-3600*r)\n        plt.plot(vis, p1h, color+ls, label='Li(2017), %s m/s wind, IFT: %s' % (wind, ift))\n\n    #%% Entrainment rate from Tkalich (2002)\n    r = oil_wave_entrainment_rate_tkalich2002(wind_speed=wind)\n    p1h = 1-np.exp(-3600*r)*np.ones(vis.shape)\n    plt.plot(vis, p1h, color + '.', label='Tkalich, wind = %s m/s' % wind)\n\nplt.ylabel('Fraction entrained in 1 hour')\nplt.xlabel('Dynamical viscosity [Stokes]')\nplt.legend()\nplt.show()"
      ]
    }
  ],
  "metadata": {
    "kernelspec": {
      "display_name": "Python 3",
      "language": "python",
      "name": "python3"
    },
    "language_info": {
      "codemirror_mode": {
        "name": "ipython",
        "version": 3
      },
      "file_extension": ".py",
      "mimetype": "text/x-python",
      "name": "python",
      "nbconvert_exporter": "python",
      "pygments_lexer": "ipython3",
      "version": "3.8.2"
    }
  },
  "nbformat": 4,
  "nbformat_minor": 0
}
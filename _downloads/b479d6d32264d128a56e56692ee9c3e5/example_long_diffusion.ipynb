{
  "cells": [
    {
      "cell_type": "code",
      "execution_count": null,
      "metadata": {
        "collapsed": false
      },
      "outputs": [],
      "source": [
        "%matplotlib inline"
      ]
    },
    {
      "cell_type": "markdown",
      "metadata": {},
      "source": [
        "\nDiffusion\n=============\n"
      ]
    },
    {
      "cell_type": "code",
      "execution_count": null,
      "metadata": {
        "collapsed": false
      },
      "outputs": [],
      "source": [
        "from datetime import datetime, timedelta\n\nfrom opendrift.readers import reader_netCDF_CF_generic\nfrom opendrift.models.oceandrift import OceanDrift\n\nlon = 4.5; lat = 60.0; # Outside Bergen\n\no = OceanDrift(loglevel=0)  # Set loglevel to 0 for debug information\n\n# Arome atmospheric model\nreader_arome = reader_netCDF_CF_generic.Reader(o.test_data_folder() + '16Nov2015_NorKyst_z_surface/arome_subset_16Nov2015.nc')\n# Norkyst ocean model\nreader_norkyst = reader_netCDF_CF_generic.Reader(o.test_data_folder() + '16Nov2015_NorKyst_z_surface/norkyst800_subset_16Nov2015.nc')\n# Uncomment to use live data from thredds\n#reader_arome = reader_netCDF_CF_generic.Reader('http://thredds.met.no/thredds/dodsC/meps25files/meps_det_extracted_2_5km_latest.nc')\n#reader_norkyst = reader_netCDF_CF_generic.Reader('http://thredds.met.no/thredds/dodsC/sea/norkyst800m/1h/aggregate_be')\n\no.add_reader([reader_norkyst, reader_arome])\ntime = reader_arome.start_time\no.seed_elements(lon, lat, radius=500, number=2000, time=time)\no.set_config('drift:current_uncertainty', 0)  # 0 is default\no.run(duration=timedelta(hours=24))\n\n# Second run, identical, except for added diffusion\n\no2 = OceanDrift(loglevel=0)  # Set loglevel to 0 for debug information\no2.add_reader([reader_norkyst, reader_arome])\no2.seed_elements(lon, lat, radius=500, number=2000, time=time)\no2.set_config('drift:current_uncertainty', .2) # Difference from first run\no2.run(duration=timedelta(hours=24))\n\n# Comparing\no2.animation(filename='diffusion.gif', compare=o, legend=['0.2 m/s std for current components', 'No diffusion'], legend_loc='upper center')"
      ]
    },
    {
      "cell_type": "markdown",
      "metadata": {},
      "source": [
        "![](/gallery/animations/diffusion.gif)\n\n\n"
      ]
    }
  ],
  "metadata": {
    "kernelspec": {
      "display_name": "Python 3",
      "language": "python",
      "name": "python3"
    },
    "language_info": {
      "codemirror_mode": {
        "name": "ipython",
        "version": 3
      },
      "file_extension": ".py",
      "mimetype": "text/x-python",
      "name": "python",
      "nbconvert_exporter": "python",
      "pygments_lexer": "ipython3",
      "version": "3.7.6"
    }
  },
  "nbformat": 4,
  "nbformat_minor": 0
}
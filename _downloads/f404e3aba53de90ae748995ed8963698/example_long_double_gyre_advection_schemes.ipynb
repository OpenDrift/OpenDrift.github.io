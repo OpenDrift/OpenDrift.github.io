{
  "cells": [
    {
      "cell_type": "code",
      "execution_count": null,
      "metadata": {
        "collapsed": false
      },
      "outputs": [],
      "source": [
        "%matplotlib inline"
      ]
    },
    {
      "cell_type": "markdown",
      "metadata": {},
      "source": [
        "\nDouble gyre, advection\n=============\n\nIllustrating the difference between Euler and Runge-Kutta propagation\nschemes, using an idealised (analytical) eddy current field.\n\nDouble gyre current field from\nhttp://shaddenlab.berkeley.edu/uploads/LCS-tutorial/examples.html\n"
      ]
    },
    {
      "cell_type": "code",
      "execution_count": null,
      "metadata": {
        "collapsed": false
      },
      "outputs": [],
      "source": [
        "import numpy as np\nfrom datetime import datetime, timedelta\n\nfrom opendrift.readers import reader_double_gyre\nfrom opendrift.models.oceandrift import OceanDrift\n\ndouble_gyre = reader_double_gyre.Reader(epsilon=.25, omega=0.628, A=0.25)\nduration=timedelta(seconds=6)\nx = [.6]\ny = [.3]\nlon, lat = double_gyre.xy2lonlat(x, y)\n\nruns = []\nleg = []\ni = 0\nfor scheme in ['euler', 'runge-kutta', 'runge-kutta4']:\n    for time_step  in [0.01, 0.1]:\n        leg.append(scheme + ', T=%.2fs' % time_step)\n        print(leg[-1])\n        o = OceanDrift(loglevel=50)\n        o.fallback_values['land_binary_mask'] = 0\n        o.set_config('drift:scheme', scheme)\n        o.add_reader(double_gyre)\n        o.seed_elements(lon, lat, time=double_gyre.initial_time)\n        o.run(duration=duration, time_step=time_step)\n        runs.append(o)\n        i = i + 1\n\nruns[0].plot(compare=runs[1:], legend=leg, buffer=0.000001)"
      ]
    }
  ],
  "metadata": {
    "kernelspec": {
      "display_name": "Python 3",
      "language": "python",
      "name": "python3"
    },
    "language_info": {
      "codemirror_mode": {
        "name": "ipython",
        "version": 3
      },
      "file_extension": ".py",
      "mimetype": "text/x-python",
      "name": "python",
      "nbconvert_exporter": "python",
      "pygments_lexer": "ipython3",
      "version": "3.7.3"
    }
  },
  "nbformat": 4,
  "nbformat_minor": 0
}
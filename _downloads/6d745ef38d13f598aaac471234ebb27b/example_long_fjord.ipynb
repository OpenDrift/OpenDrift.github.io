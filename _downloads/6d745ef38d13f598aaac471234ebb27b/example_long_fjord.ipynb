{
  "cells": [
    {
      "cell_type": "code",
      "execution_count": null,
      "metadata": {
        "collapsed": false
      },
      "outputs": [],
      "source": [
        "%matplotlib inline"
      ]
    },
    {
      "cell_type": "markdown",
      "metadata": {},
      "source": [
        "\nFjord\n==================================\n"
      ]
    },
    {
      "cell_type": "code",
      "execution_count": null,
      "metadata": {
        "collapsed": false
      },
      "outputs": [],
      "source": [
        "from datetime import timedelta\n\nfrom opendrift.readers import reader_basemap_landmask\nfrom opendrift.readers import reader_netCDF_CF_generic\nfrom opendrift.models.leeway import Leeway\n\no = Leeway(loglevel=0)  # Set loglevel to 0 for debug information\n\n# Arome\nreader_arome = reader_netCDF_CF_generic.Reader(o.test_data_folder() +\n    '16Nov2015_NorKyst_z_surface/arome_subset_16Nov2015.nc')\n\n# Norkyst\nreader_norkyst = reader_netCDF_CF_generic.Reader(o.test_data_folder() +\n    '16Nov2015_NorKyst_z_surface/norkyst800_subset_16Nov2015.nc')\n\n# Making customised, full resolution landmask (Basemap)\nreader_basemap = reader_basemap_landmask.Reader(\n                    llcrnrlon=5.5, llcrnrlat=61.05,\n                    urcrnrlon=6.65, urcrnrlat=61.21, resolution='f',\n                    projection='merc')\n\no.add_reader([reader_basemap, reader_norkyst, reader_arome])\n\n# Seed elements\nlat = 61.117594; lon = 6.55\n#time = [reader_arome.start_time,\n#        reader_arome.start_time + timedelta(hours=5)]\ntime = reader_arome.start_time\nobjType = 1  # 1: Person-in-water (PIW), unknown state (mean values)\no.seed_elements(lon, lat, radius=50, number=5000, time=time, objectType=objType)\n\n# Running model for 66 hours\no.run(steps=66*12, time_step=300)\n\n# Print and plot results\nprint(o)\no.plot()\no.animation(filename='fjord.gif')"
      ]
    },
    {
      "cell_type": "markdown",
      "metadata": {},
      "source": [
        "![](/gallery/animations/fjord.gif)\n\n\n"
      ]
    }
  ],
  "metadata": {
    "kernelspec": {
      "display_name": "Python 3",
      "language": "python",
      "name": "python3"
    },
    "language_info": {
      "codemirror_mode": {
        "name": "ipython",
        "version": 3
      },
      "file_extension": ".py",
      "mimetype": "text/x-python",
      "name": "python",
      "nbconvert_exporter": "python",
      "pygments_lexer": "ipython3",
      "version": "3.8.0"
    }
  },
  "nbformat": 4,
  "nbformat_minor": 0
}
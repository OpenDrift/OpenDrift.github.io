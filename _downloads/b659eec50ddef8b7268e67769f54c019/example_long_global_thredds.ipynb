{
  "cells": [
    {
      "cell_type": "code",
      "execution_count": null,
      "metadata": {
        "collapsed": false
      },
      "outputs": [],
      "source": [
        "%matplotlib inline"
      ]
    },
    {
      "cell_type": "markdown",
      "metadata": {},
      "source": [
        "\nThredds (global)\n==================================\n"
      ]
    },
    {
      "cell_type": "code",
      "execution_count": null,
      "metadata": {
        "collapsed": false
      },
      "outputs": [],
      "source": [
        "from datetime import datetime, timedelta\nfrom opendrift.models.oceandrift import OceanDrift\n\n# Basic ocean drift module: current + 2% of wind\no = OceanDrift()\n\n# Adding readers for global Thredds datasets:\n# - Ocean forecast from UK Met Office (FOAM model)\n# - Weather forecast from NOAA/NCEP\no.add_readers_from_list([\n    'http://tds.hycom.org/thredds/dodsC/GLBy0.08/latest',\n    'http://oos.soest.hawaii.edu/thredds/dodsC/hioos/model/atm/ncep_global/NCEP_Global_Atmospheric_Model_best.ncd'])\n\no.seed_elements(lat=24, lon=-81, time=datetime.now(),\n                number=5000, radius=10000)\n\no.run(time_step=timedelta(minutes=30),\n      duration=timedelta(days=5))\no.animation()"
      ]
    }
  ],
  "metadata": {
    "kernelspec": {
      "display_name": "Python 3",
      "language": "python",
      "name": "python3"
    },
    "language_info": {
      "codemirror_mode": {
        "name": "ipython",
        "version": 3
      },
      "file_extension": ".py",
      "mimetype": "text/x-python",
      "name": "python",
      "nbconvert_exporter": "python",
      "pygments_lexer": "ipython3",
      "version": "3.8.1"
    }
  },
  "nbformat": 4,
  "nbformat_minor": 0
}
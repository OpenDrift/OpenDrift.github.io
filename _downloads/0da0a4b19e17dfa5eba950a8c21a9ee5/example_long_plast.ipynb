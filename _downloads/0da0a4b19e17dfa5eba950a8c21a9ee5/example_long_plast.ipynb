{
  "cells": [
    {
      "cell_type": "code",
      "execution_count": null,
      "metadata": {
        "collapsed": false
      },
      "outputs": [],
      "source": [
        "%matplotlib inline"
      ]
    },
    {
      "cell_type": "markdown",
      "metadata": {},
      "source": [
        "\nPlastic\n==================================\n"
      ]
    },
    {
      "cell_type": "code",
      "execution_count": null,
      "metadata": {
        "collapsed": false
      },
      "outputs": [],
      "source": [
        "from datetime import datetime, timedelta\n\nfrom opendrift.readers import reader_netCDF_CF_generic\nfrom opendrift.models.plastdrift import PlastDrift\n\no = PlastDrift(loglevel=0)\no.list_configspec()\n\n# Arome atmospheric model\nreader_arome = reader_netCDF_CF_generic.Reader(o.test_data_folder() + '16Nov2015_NorKyst_z_surface/arome_subset_16Nov2015.nc')\n# Norkyst ocean model\nreader_norkyst = reader_netCDF_CF_generic.Reader(o.test_data_folder() + '16Nov2015_NorKyst_z_surface/norkyst800_subset_16Nov2015.nc')\n\no.add_reader([reader_norkyst, reader_arome])\nstart_time = reader_arome.start_time\nend_time = reader_arome.start_time + timedelta(hours=5)\nend_time = reader_arome.end_time\ntime = [start_time, start_time + timedelta(hours=5)]\n\n# Seeding some particles\nlon = 4.6; lat = 60.0; # Outside Bergen\no.seed_elements(lon, lat, radius=50, number=3000, time=time)\n\no.run(end_time=end_time, time_step=1800, time_step_output=3600)\n\no2 = PlastDrift(loglevel=0)\no2.add_reader([reader_norkyst])  # No wind/Stokes\no2.seed_elements(lon, lat, radius=50, number=3000, time=time)\n\no2.run(end_time=end_time, time_step=1800, time_step_output=3600)\n\n# Print and plot results\nprint(o)\no.animation(compare=o2, legend=['Current + wind/Stokes drift', 'Current only'], filename='plast_current_Stokes.gif')\n#o.animation(color='depth')\n#o.plot_property('depth')"
      ]
    },
    {
      "cell_type": "markdown",
      "metadata": {},
      "source": [
        "![](/gallery/animations/plast_current_Stokes.gif)\n\n\n"
      ]
    }
  ],
  "metadata": {
    "kernelspec": {
      "display_name": "Python 3",
      "language": "python",
      "name": "python3"
    },
    "language_info": {
      "codemirror_mode": {
        "name": "ipython",
        "version": 3
      },
      "file_extension": ".py",
      "mimetype": "text/x-python",
      "name": "python",
      "nbconvert_exporter": "python",
      "pygments_lexer": "ipython3",
      "version": "3.7.3"
    }
  },
  "nbformat": 4,
  "nbformat_minor": 0
}
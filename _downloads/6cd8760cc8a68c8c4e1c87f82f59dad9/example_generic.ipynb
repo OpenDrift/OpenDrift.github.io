{
  "cells": [
    {
      "cell_type": "code",
      "execution_count": null,
      "metadata": {
        "collapsed": false
      },
      "outputs": [],
      "source": [
        "%matplotlib inline"
      ]
    },
    {
      "cell_type": "markdown",
      "metadata": {},
      "source": [
        "\nGeneric example\n===============\n"
      ]
    },
    {
      "cell_type": "code",
      "execution_count": null,
      "metadata": {
        "collapsed": false
      },
      "outputs": [],
      "source": [
        "from datetime import datetime, timedelta\n\nfrom opendrift.readers import reader_netCDF_CF_generic\nfrom opendrift.models.openoil import OpenOil\n\no = OpenOil(loglevel=0)  # Set loglevel to 0 for debug information\n\n# Arome atmospheric model\nreader_arome = reader_netCDF_CF_generic.Reader(o.test_data_folder() + '16Nov2015_NorKyst_z_surface/arome_subset_16Nov2015.nc')\n# Norkyst ocean model\nreader_norkyst = reader_netCDF_CF_generic.Reader(o.test_data_folder() + '16Nov2015_NorKyst_z_surface/norkyst800_subset_16Nov2015.nc')\n\n# Uncomment to use live data from thredds\n#reader_arome = reader_netCDF_CF_generic.Reader('http://thredds.met.no/thredds/dodsC/meps25files/meps_det_extracted_2_5km_latest.nc')\n#reader_norkyst = reader_netCDF_CF_generic.Reader('http://thredds.met.no/thredds/dodsC/sea/norkyst800m/1h/aggregate_be')\n\no.add_reader([reader_norkyst, reader_arome])\n\n# Seeding some particles\nlon = 4.6; lat = 60.0; # Outside Bergen\n\n#time = datetime(2015, 9, 22, 6, 0, 0)\ntime = [reader_arome.start_time,\n        reader_arome.start_time + timedelta(hours=30)]\n#time = reader_arome.start_time\n\n# Seed oil elements at defined position and time\no.seed_elements(lon, lat, radius=50, number=3000, time=time,\n                wind_drift_factor=.02)\n\n# Adjusting some configuration\no.set_config('processes:dispersion', False)\no.set_config('processes:evaporation', False)\no.set_config('processes:emulsification', True)\no.set_config('drift:current_uncertainty', .1)\no.set_config('drift:wind_uncertainty', 1)"
      ]
    },
    {
      "cell_type": "markdown",
      "metadata": {},
      "source": [
        "Running model\n\n"
      ]
    },
    {
      "cell_type": "code",
      "execution_count": null,
      "metadata": {
        "collapsed": false
      },
      "outputs": [],
      "source": [
        "# Running model\no.run(end_time=reader_norkyst.end_time, time_step=1800,\n      time_step_output=3600, outfile='openoil.nc',\n      export_variables=['mass_oil'])\n\n# Print and plot results\n# print(o)\n#o.plot(background=['x_sea_water_velocity', 'y_sea_water_velocity'], buffer=.5)\n# o.animation(fast=True)\n# o.animation(density=True, show_elements=False, fast=True)\no.plot(fast=True)"
      ]
    },
    {
      "cell_type": "markdown",
      "metadata": {},
      "source": [
        "Or an animation can be done with:\n\n"
      ]
    },
    {
      "cell_type": "code",
      "execution_count": null,
      "metadata": {
        "collapsed": false
      },
      "outputs": [],
      "source": [
        "o.animation(fast=True, filename='openoil_time_seed.gif')"
      ]
    },
    {
      "cell_type": "markdown",
      "metadata": {},
      "source": [
        "![](/gallery/animations/openoil_time_seed.gif)\n\n\n"
      ]
    },
    {
      "cell_type": "code",
      "execution_count": null,
      "metadata": {
        "collapsed": false
      },
      "outputs": [],
      "source": [
        "#o.plot_property('mass_oil')\n#o.plot_property('x_sea_water_velocity')"
      ]
    }
  ],
  "metadata": {
    "kernelspec": {
      "display_name": "Python 3",
      "language": "python",
      "name": "python3"
    },
    "language_info": {
      "codemirror_mode": {
        "name": "ipython",
        "version": 3
      },
      "file_extension": ".py",
      "mimetype": "text/x-python",
      "name": "python",
      "nbconvert_exporter": "python",
      "pygments_lexer": "ipython3",
      "version": "3.7.3"
    }
  },
  "nbformat": 4,
  "nbformat_minor": 0
}
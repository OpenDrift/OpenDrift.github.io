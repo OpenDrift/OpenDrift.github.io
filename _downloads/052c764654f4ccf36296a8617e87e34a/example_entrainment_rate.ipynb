{
  "cells": [
    {
      "cell_type": "code",
      "execution_count": null,
      "metadata": {
        "collapsed": false
      },
      "outputs": [],
      "source": [
        "%matplotlib inline"
      ]
    },
    {
      "cell_type": "markdown",
      "metadata": {},
      "source": [
        "\nEntrainment rate\n==================================\n"
      ]
    },
    {
      "cell_type": "code",
      "execution_count": null,
      "metadata": {
        "collapsed": false
      },
      "outputs": [],
      "source": [
        "from datetime import datetime, timedelta\nfrom opendrift.models.openoil3D import OpenOil3D\nimport matplotlib.pyplot as plt\n\noiltype = 'VILJE 2009'"
      ]
    },
    {
      "cell_type": "markdown",
      "metadata": {},
      "source": [
        "Tkcalich & Chan (2002) entrainment rate\n###################################################\n\n"
      ]
    },
    {
      "cell_type": "code",
      "execution_count": null,
      "metadata": {
        "collapsed": false
      },
      "outputs": [],
      "source": [
        "o = OpenOil3D(loglevel=20, weathering_model='noaa')\no.fallback_values['land_binary_mask'] = 0\no.fallback_values['x_sea_water_velocity'] = -.2\no.fallback_values['y_sea_water_velocity'] = 0\no.fallback_values['x_wind'] = 12\no.fallback_values['y_wind'] = 0\no.fallback_values['sea_surface_wave_stokes_drift_x_velocity'] = .3\no.fallback_values['sea_surface_wave_stokes_drift_y_velocity'] = 0\no.set_config('wave_entrainment:entrainment_rate', 'Tkalich & Chan (2002)')\no.set_config('wave_entrainment:droplet_size_distribution', 'Johansen et al. (2015)')\no.set_config('processes:evaporation', False)\no.set_config('processes:dispersion', False)\no.set_config('turbulentmixing:droplet_diameter_min_wavebreaking', 1e-6)\no.set_config('turbulentmixing:droplet_diameter_max_wavebreaking', 1e-3)\no.seed_elements(lon=4, lat=60, time=datetime.now(), number=1000,\n                radius=100, z=0, oiltype=oiltype)\no.run(duration=timedelta(hours=24), time_step=900, time_step_output=1800)"
      ]
    },
    {
      "cell_type": "markdown",
      "metadata": {},
      "source": [
        "Li et al. (2017) entrainment rate\n#####################################################\n\n"
      ]
    },
    {
      "cell_type": "code",
      "execution_count": null,
      "metadata": {
        "collapsed": false
      },
      "outputs": [],
      "source": [
        "o2 = OpenOil3D(loglevel=20, weathering_model='noaa')\no2.fallback_values['land_binary_mask'] = 0\no2.fallback_values['x_sea_water_velocity'] = -.2\no2.fallback_values['y_sea_water_velocity'] = 0\no2.fallback_values['x_wind'] = 12\no2.fallback_values['y_wind'] = 0\no2.fallback_values['sea_surface_wave_stokes_drift_x_velocity'] = .3\no2.fallback_values['sea_surface_wave_stokes_drift_y_velocity'] = 0\no2.set_config('wave_entrainment:entrainment_rate', 'Li et al. (2017)')\no2.set_config('wave_entrainment:droplet_size_distribution', 'Johansen et al. (2015)')\no2.set_config('processes:evaporation', False)\no2.set_config('processes:dispersion', False)\no2.set_config('turbulentmixing:droplet_diameter_min_wavebreaking', 1e-6)\no2.set_config('turbulentmixing:droplet_diameter_max_wavebreaking', 1e-3)\no2.seed_elements(lon=4, lat=60, time=datetime.now(), number=1000,\n                radius=100, z=0, oiltype=oiltype)\no2.run(duration=timedelta(hours=24), time_step=900, time_step_output=1800)"
      ]
    },
    {
      "cell_type": "markdown",
      "metadata": {},
      "source": [
        "Plotting and comparing\n##########################\n\n"
      ]
    },
    {
      "cell_type": "code",
      "execution_count": null,
      "metadata": {
        "collapsed": false
      },
      "outputs": [],
      "source": [
        "o.plot_vertical_distribution()\no2.plot_vertical_distribution()\no.plot_oil_budget()\no2.plot_oil_budget()\nlegend = ['Tkalich & Chan (2002)', 'Li et al. (2017)']\no.animation_profile(compare=o2, legend=legend, filename='entrainment_rate.gif')"
      ]
    },
    {
      "cell_type": "markdown",
      "metadata": {},
      "source": [
        "![](/gallery/animations/entrainment_rate.gif)\n\n\n"
      ]
    },
    {
      "cell_type": "code",
      "execution_count": null,
      "metadata": {
        "collapsed": false
      },
      "outputs": [],
      "source": [
        "o.animation(compare=o2, legend=legend, filename='entrainment_rate_compare.gif', fast=True)"
      ]
    },
    {
      "cell_type": "markdown",
      "metadata": {},
      "source": [
        "![](/gallery/animations/entrainment_rate_compare.gif)\n\n\n"
      ]
    }
  ],
  "metadata": {
    "kernelspec": {
      "display_name": "Python 3",
      "language": "python",
      "name": "python3"
    },
    "language_info": {
      "codemirror_mode": {
        "name": "ipython",
        "version": 3
      },
      "file_extension": ".py",
      "mimetype": "text/x-python",
      "name": "python",
      "nbconvert_exporter": "python",
      "pygments_lexer": "ipython3",
      "version": "3.8.1"
    }
  },
  "nbformat": 4,
  "nbformat_minor": 0
}
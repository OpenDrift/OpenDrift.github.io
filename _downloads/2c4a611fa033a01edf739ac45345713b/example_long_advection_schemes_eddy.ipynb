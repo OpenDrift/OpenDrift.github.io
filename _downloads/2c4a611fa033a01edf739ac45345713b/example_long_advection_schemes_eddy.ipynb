{
  "cells": [
    {
      "cell_type": "code",
      "execution_count": null,
      "metadata": {
        "collapsed": false
      },
      "outputs": [],
      "source": [
        "%matplotlib inline"
      ]
    },
    {
      "cell_type": "markdown",
      "metadata": {},
      "source": [
        "\nAdvection schemes\n=============\nIllustrating the difference between Euler and Runge-Kutta propagation\nschemes, using an idealised (analytical) eddy current field.\n\nDouble gyre current field from\nhttp://shaddenlab.berkeley.edu/uploads/LCS-tutorial/examples.html\n"
      ]
    },
    {
      "cell_type": "code",
      "execution_count": null,
      "metadata": {
        "collapsed": false
      },
      "outputs": [],
      "source": [
        "import numpy as np\nfrom datetime import datetime, timedelta\n\nfrom opendrift.readers import reader_global_landmask\nfrom opendrift.readers import reader_double_gyre\nfrom opendrift.readers import reader_ArtificialOceanEddy\nfrom opendrift.models.oceandrift import OceanDrift\n\no = OceanDrift(loglevel=0)  # Set loglevel to 0 for debug information\n\nfake_eddy = reader_ArtificialOceanEddy.Reader(2, 62)\n\nreader_landmask = reader_global_landmask.Reader(\n                    llcrnrlon=-1.5, llcrnrlat=59,\n                    urcrnrlon=7, urcrnrlat=64)\n\nlon = 2.0; lat = 63.0; # Close to Station M\n\nruns = []\nleg = []\ni = 0\nfor scheme in ['euler', 'runge-kutta', 'runge-kutta4']:\n    for time_step  in [1800, 3600*3]:\n        leg.append(scheme + ', T=%.1fh' % (time_step/3600.))\n        print(leg[-1])\n        o = OceanDrift(loglevel=50)\n        o.fallback_values['land_binary_mask'] = 0\n        o.set_config('drift:scheme', scheme)\n        o.add_reader([fake_eddy, reader_landmask])\n        o.seed_elements(lon, lat, time=datetime.now())\n        o.run(duration=timedelta(days=9), time_step=time_step)\n        runs.append(o)\n        i = i + 1\n\nruns[0].plot(compare=runs[1:], legend=leg)"
      ]
    }
  ],
  "metadata": {
    "kernelspec": {
      "display_name": "Python 3",
      "language": "python",
      "name": "python3"
    },
    "language_info": {
      "codemirror_mode": {
        "name": "ipython",
        "version": 3
      },
      "file_extension": ".py",
      "mimetype": "text/x-python",
      "name": "python",
      "nbconvert_exporter": "python",
      "pygments_lexer": "ipython3",
      "version": "3.7.6"
    }
  },
  "nbformat": 4,
  "nbformat_minor": 0
}
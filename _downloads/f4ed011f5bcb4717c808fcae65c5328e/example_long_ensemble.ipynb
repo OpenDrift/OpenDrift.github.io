{
  "cells": [
    {
      "cell_type": "code",
      "execution_count": null,
      "metadata": {
        "collapsed": false
      },
      "outputs": [],
      "source": [
        "%matplotlib inline"
      ]
    },
    {
      "cell_type": "markdown",
      "metadata": {},
      "source": [
        "\nEnsemble\n==================================\n"
      ]
    },
    {
      "cell_type": "code",
      "execution_count": null,
      "metadata": {
        "collapsed": false
      },
      "outputs": [],
      "source": [
        "from datetime import timedelta\nimport numpy as np\nfrom opendrift.models.oceandrift import OceanDrift\nfrom opendrift.readers import reader_netCDF_CF_generic\n\n# Drift simulation using 10 member ensemble wind data\n# from MEPS model of MET Norway\n\no = OceanDrift()\nr = reader_netCDF_CF_generic.Reader('http://thredds.met.no/thredds/dodsC/meps25files/meps_allmembers_extracted_2_5km_latest.nc')\no.add_reader(r)\n\no.seed_elements(lat=60, lon=4.8, time=r.start_time,\n                radius=1000, number=10000)\n\no.run(duration=timedelta(hours=50), time_step=3600)\n\n# Ensemble members are recycled among the 10000 particles\nensemble_number = np.remainder(o.history['ID'], 10) + 1\n\no.animation(filename='wind_drift_ensemble.gif',\n            color=ensemble_number, clabel='Ensemble number')"
      ]
    },
    {
      "cell_type": "markdown",
      "metadata": {},
      "source": [
        "![](/gallery/animations/wind_drift_ensemble.gif)\n\n\n"
      ]
    }
  ],
  "metadata": {
    "kernelspec": {
      "display_name": "Python 3",
      "language": "python",
      "name": "python3"
    },
    "language_info": {
      "codemirror_mode": {
        "name": "ipython",
        "version": 3
      },
      "file_extension": ".py",
      "mimetype": "text/x-python",
      "name": "python",
      "nbconvert_exporter": "python",
      "pygments_lexer": "ipython3",
      "version": "3.8.0"
    }
  },
  "nbformat": 4,
  "nbformat_minor": 0
}
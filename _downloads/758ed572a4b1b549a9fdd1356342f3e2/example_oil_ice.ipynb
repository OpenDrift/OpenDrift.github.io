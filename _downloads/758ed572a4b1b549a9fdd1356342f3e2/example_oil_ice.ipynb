{
  "cells": [
    {
      "cell_type": "code",
      "execution_count": null,
      "metadata": {
        "collapsed": false
      },
      "outputs": [],
      "source": [
        "%matplotlib inline"
      ]
    },
    {
      "cell_type": "markdown",
      "metadata": {},
      "source": [
        "\nOil in ice\n==================================\n"
      ]
    },
    {
      "cell_type": "code",
      "execution_count": null,
      "metadata": {
        "collapsed": false
      },
      "outputs": [],
      "source": [
        "from datetime import datetime, timedelta\nfrom opendrift.readers import reader_netCDF_CF_generic\nfrom opendrift.models.openoil import OpenOil\n\no = OpenOil(loglevel=20)\n\n# Nordc4\nreader_arctic = reader_netCDF_CF_generic.Reader(o.test_data_folder() + '2Feb2016_Nordic_sigma_3d/Arctic20_1to5Feb_2016.nc')\no.add_reader([reader_arctic])\n\n#time = datetime(2015, 9, 22, 6, 0, 0)\n#time = [reader_nordic4.start_time,\n#        reader_nordic4.start_time + timedelta(hours=30)]\ntime = reader_arctic.start_time\n\n# Seed oil elements at defined position and time\no.seed_elements(lon=24.4, lat=77.3, radius=7000, number=3000, time=time)\no.fallback_values['y_wind'] = 4  # Adding some northwards wind\n\n# Adjusting some configuration\no.set_config('processes:dispersion',  False)\no.set_config('processes:evaporation',  False)\no.set_config('processes:emulsification',  False)\no.set_config('drift:current_uncertainty',  .5)\no.set_config('drift:wind_uncertainty',  5)\n\n# Running model (until end of driver data)\no.run(duration=timedelta(days=4), time_step=3600, time_step_output=3600*3)\n\n# Print and plot results\nprint(o)\no.animation(filename='oil_ice.gif', background='sea_ice_area_fraction',\n            fast=True)"
      ]
    },
    {
      "cell_type": "markdown",
      "metadata": {},
      "source": [
        "![](/gallery/animations/oil_ice.gif)\n\n\n"
      ]
    },
    {
      "cell_type": "code",
      "execution_count": null,
      "metadata": {
        "collapsed": false
      },
      "outputs": [],
      "source": [
        "o.plot(background='sea_ice_area_fraction', fast=True)"
      ]
    }
  ],
  "metadata": {
    "kernelspec": {
      "display_name": "Python 3",
      "language": "python",
      "name": "python3"
    },
    "language_info": {
      "codemirror_mode": {
        "name": "ipython",
        "version": 3
      },
      "file_extension": ".py",
      "mimetype": "text/x-python",
      "name": "python",
      "nbconvert_exporter": "python",
      "pygments_lexer": "ipython3",
      "version": "3.8.1"
    }
  },
  "nbformat": 4,
  "nbformat_minor": 0
}
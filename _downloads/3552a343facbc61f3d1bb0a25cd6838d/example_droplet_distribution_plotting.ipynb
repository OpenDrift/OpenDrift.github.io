{
  "cells": [
    {
      "cell_type": "code",
      "execution_count": null,
      "metadata": {
        "collapsed": false
      },
      "outputs": [],
      "source": [
        "%matplotlib inline"
      ]
    },
    {
      "cell_type": "markdown",
      "metadata": {},
      "source": [
        "\nDroplet distribution (plotting)\n==================================\n\nPlotting different droplet size distributions used in Opendrift (see openoil3D.py script)\n"
      ]
    },
    {
      "cell_type": "code",
      "execution_count": null,
      "metadata": {
        "collapsed": false
      },
      "outputs": [],
      "source": [
        "import numpy as np\nimport matplotlib.pyplot as plt\nfrom datetime import datetime, timedelta\nfrom opendrift.models.openoil3D import OpenOil3D\noiltype = 'VILJE 2009'"
      ]
    },
    {
      "cell_type": "markdown",
      "metadata": {},
      "source": [
        "Delvigne & Sweeney (1988) droplet spectrum\n###################################################\n\n"
      ]
    },
    {
      "cell_type": "code",
      "execution_count": null,
      "metadata": {
        "collapsed": false
      },
      "outputs": [],
      "source": [
        "o = OpenOil3D(loglevel=20, weathering_model='noaa')\no.fallback_values['land_binary_mask'] = 0\no.fallback_values['x_sea_water_velocity'] = -.2\no.fallback_values['y_sea_water_velocity'] = 0\no.fallback_values['x_wind'] = 12\no.fallback_values['y_wind'] = 0\no.fallback_values['sea_surface_wave_stokes_drift_x_velocity'] = .3\no.fallback_values['sea_surface_wave_stokes_drift_y_velocity'] = 0\no.set_config('wave_entrainment:droplet_size_distribution', 'Exponential')\no.set_config('processes:evaporation', False)\no.set_config('processes:dispersion', False)\no.set_config('turbulentmixing:droplet_diameter_min_wavebreaking', 1e-6)\no.set_config('turbulentmixing:droplet_diameter_max_wavebreaking', 1e-3)\no.set_config('turbulentmixing:droplet_size_exponent', -2.3)\no.seed_elements(lon=4, lat=60, time=datetime.now(), number=1000, radius=100,\n                z=0, oiltype=oiltype)\no.run(duration=timedelta(hours=1), time_step=3600)"
      ]
    },
    {
      "cell_type": "markdown",
      "metadata": {},
      "source": [
        "Uniform droplet spectrum\n#####################################################\n\n"
      ]
    },
    {
      "cell_type": "code",
      "execution_count": null,
      "metadata": {
        "collapsed": false
      },
      "outputs": [],
      "source": [
        "o2 = OpenOil3D(loglevel=20, weathering_model='noaa')\no2.fallback_values['land_binary_mask'] = 0\no2.fallback_values['x_sea_water_velocity'] = -.2\no2.fallback_values['y_sea_water_velocity'] = 0\no2.fallback_values['x_wind'] = 12\no2.fallback_values['y_wind'] = 0\no2.fallback_values['sea_surface_wave_stokes_drift_x_velocity'] = .3\no2.fallback_values['sea_surface_wave_stokes_drift_y_velocity'] = 0\no2.set_config('wave_entrainment:droplet_size_distribution', 'Exponential')\no2.set_config('processes:evaporation', False)\no2.set_config('processes:dispersion', False)\no2.set_config('turbulentmixing:droplet_diameter_min_wavebreaking', 1e-6)\no2.set_config('turbulentmixing:droplet_diameter_max_wavebreaking', 2e-3)\no2.set_config('turbulentmixing:droplet_size_exponent', 0)\no2.seed_elements(lon=4, lat=60, time=datetime.now(), number=1000, radius=100,\n                 z=0, oiltype=oiltype)\no2.run(duration=timedelta(hours=1), time_step=3600)"
      ]
    },
    {
      "cell_type": "markdown",
      "metadata": {},
      "source": [
        "Johansen et al. (2015) droplet spectrum\n#######################################################\n\n"
      ]
    },
    {
      "cell_type": "code",
      "execution_count": null,
      "metadata": {
        "collapsed": false
      },
      "outputs": [],
      "source": [
        "o3 = OpenOil3D(loglevel=20, weathering_model='noaa')\no3.fallback_values['land_binary_mask'] = 0\no3.fallback_values['x_sea_water_velocity'] = -.2\no3.fallback_values['y_sea_water_velocity'] = 0\no3.fallback_values['x_wind'] = 12\no3.fallback_values['y_wind'] = 0\no3.fallback_values['sea_surface_wave_stokes_drift_x_velocity'] = .3\no3.fallback_values['sea_surface_wave_stokes_drift_y_velocity'] = 0\no3.set_config('wave_entrainment:droplet_size_distribution', 'Johansen et al. (2015)')\no3.set_config('processes:evaporation', False)\no3.set_config('processes:dispersion', False)\no3.set_config('turbulentmixing:droplet_diameter_min_wavebreaking', 1e-6)\no3.set_config('turbulentmixing:droplet_diameter_max_wavebreaking', 2e-3)\no3.seed_elements(lon=4, lat=60, time=datetime.now(), number=1000, radius=100,\n                 z=0, oiltype=oiltype, oil_film_thickness=0.001)\no3.run(duration=timedelta(hours=1), time_step=3600)\n\ndmin = 1e-6 # Change dmin, dmax according to choice in config\ndmax = 2e-3\ndroplet_diameters = o.elements.diameter\ndroplet_diameters2 = o2.elements.diameter\ndroplet_diameters3 = o3.elements.diameter\n\n################## Plotting ##########################\nplt.subplot(2,2,1)\nplt.hist(droplet_diameters, 100, range=(dmin,dmax), align='mid')\nplt.xlabel('Droplet diameter d [m]', fontsize=8)\nplt.ylabel('N(d)', fontsize=8)\nplt.title('Delvigne & Sweeney (1988) distribution', fontsize=10)\n\nplt.subplot(2,2,2)\nplt.hist(droplet_diameters2, 100, range=(dmin,dmax), align='mid')\nplt.xlabel('Droplet diameter d [m]', fontsize=8)\nplt.ylabel('N(d)', fontsize=8)\nplt.title('Uniform distribution', fontsize=10)\n\nplt.subplot(2,2,3)\nplt.hist(droplet_diameters3, 100, range=(dmin,dmax), align='mid')\nplt.xlabel('Droplet diameter d [m]', fontsize=8)\nplt.ylabel('N(d)', fontsize=8)\nplt.title('Johansen et al. (2015) distribution', fontsize=10)\nplt.show()"
      ]
    }
  ],
  "metadata": {
    "kernelspec": {
      "display_name": "Python 3",
      "language": "python",
      "name": "python3"
    },
    "language_info": {
      "codemirror_mode": {
        "name": "ipython",
        "version": 3
      },
      "file_extension": ".py",
      "mimetype": "text/x-python",
      "name": "python",
      "nbconvert_exporter": "python",
      "pygments_lexer": "ipython3",
      "version": "3.8.1"
    }
  },
  "nbformat": 4,
  "nbformat_minor": 0
}
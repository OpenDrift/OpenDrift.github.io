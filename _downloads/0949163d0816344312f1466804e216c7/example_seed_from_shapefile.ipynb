{
  "cells": [
    {
      "cell_type": "code",
      "execution_count": null,
      "metadata": {
        "collapsed": false
      },
      "outputs": [],
      "source": [
        "%matplotlib inline"
      ]
    },
    {
      "cell_type": "markdown",
      "metadata": {},
      "source": [
        "\nSeeding from shapefile\n==================================\n"
      ]
    },
    {
      "cell_type": "code",
      "execution_count": null,
      "metadata": {
        "collapsed": false
      },
      "outputs": [],
      "source": [
        "from datetime import datetime\nfrom opendrift.models.oceandrift import OceanDrift\n\n\no = OceanDrift(loglevel=20)  # Set loglevel to 0 for debug information"
      ]
    },
    {
      "cell_type": "markdown",
      "metadata": {},
      "source": [
        "Seed oil particles within contours from shapefile\n####################################################\n\n"
      ]
    },
    {
      "cell_type": "code",
      "execution_count": null,
      "metadata": {
        "collapsed": false
      },
      "outputs": [],
      "source": [
        "o.seed_from_shapefile(o.test_data_folder() +\n                      'shapefile_spawning_areas/Torsk.shp',\n                      number=2000, layername=None,\n                      featurenum=[2, 4], time=datetime.now())\n\no.fallback_values['x_wind'] = -4  # Constant wind drift\no.fallback_values['y_wind'] = 8\no.set_config('drift:wind_uncertainty', 4) # Adding some diffusion\n\n# Running model\no.run(steps=50, time_step=3600)\n\n# Print and plot results\nprint(o)\no.plot(fast=True)\no.animation(filename='seed_from_shapefile.gif', fast=True)"
      ]
    },
    {
      "cell_type": "markdown",
      "metadata": {},
      "source": [
        "![](/gallery/animations/seed_from_shapefile.gif)\n\n\n"
      ]
    }
  ],
  "metadata": {
    "kernelspec": {
      "display_name": "Python 3",
      "language": "python",
      "name": "python3"
    },
    "language_info": {
      "codemirror_mode": {
        "name": "ipython",
        "version": 3
      },
      "file_extension": ".py",
      "mimetype": "text/x-python",
      "name": "python",
      "nbconvert_exporter": "python",
      "pygments_lexer": "ipython3",
      "version": "3.8.1"
    }
  },
  "nbformat": 4,
  "nbformat_minor": 0
}
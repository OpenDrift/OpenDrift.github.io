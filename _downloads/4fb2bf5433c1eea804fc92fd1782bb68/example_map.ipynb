{
  "cells": [
    {
      "cell_type": "code",
      "execution_count": null,
      "metadata": {
        "collapsed": false
      },
      "outputs": [],
      "source": [
        "%matplotlib inline"
      ]
    },
    {
      "cell_type": "markdown",
      "metadata": {},
      "source": [
        "\n# Plotting map\n"
      ]
    },
    {
      "cell_type": "code",
      "execution_count": null,
      "metadata": {
        "collapsed": false
      },
      "outputs": [],
      "source": [
        "import matplotlib.pyplot as plt\nimport cartopy.crs as ccrs\nimport cartopy.feature as cfeature\n\n\nfor lscale in ['coarse', 'low', 'intermediate', 'high', 'auto']:\n    fig = plt.figure()\n    sp = ccrs.Stereographic(central_longitude=0, central_latitude=60)\n    ax = fig.add_subplot(1, 1, 1, projection=sp)\n\n    corners = [-30, 30, 45, 75]\n    #s = cfeature.AdaptiveScaler('coarse',\n    #                (('low', 100), ('intermediate', 20), ('high', 5), ('full', 1)))\n    #lscale = s.scale_from_extent([corners[0], corners[1], corners[2], corners[3]])\n    #lscale = 'auto'\n    print(lscale, 'LSCALE ')\n    f = cfeature.GSHHSFeature(scale=lscale, levels=[1])\n    ax.add_geometries(\n        #f.intersecting_geometries(corners),\n        f.geometries(),\n        ccrs.PlateCarree(),\n        facecolor=cfeature.COLORS['land'],\n        edgecolor='black')\n\n    ax.set_extent(corners, crs=ccrs.PlateCarree())\n    gl = ax.gridlines(ccrs.PlateCarree())\n\n    plt.show()"
      ]
    }
  ],
  "metadata": {
    "kernelspec": {
      "display_name": "Python 3",
      "language": "python",
      "name": "python3"
    },
    "language_info": {
      "codemirror_mode": {
        "name": "ipython",
        "version": 3
      },
      "file_extension": ".py",
      "mimetype": "text/x-python",
      "name": "python",
      "nbconvert_exporter": "python",
      "pygments_lexer": "ipython3",
      "version": "3.9.10"
    }
  },
  "nbformat": 4,
  "nbformat_minor": 0
}
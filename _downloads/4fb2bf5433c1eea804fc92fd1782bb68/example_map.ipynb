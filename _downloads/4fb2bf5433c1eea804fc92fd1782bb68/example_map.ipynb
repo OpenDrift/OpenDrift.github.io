{
  "cells": [
    {
      "cell_type": "code",
      "execution_count": null,
      "metadata": {
        "collapsed": false
      },
      "outputs": [],
      "source": [
        "%matplotlib inline"
      ]
    },
    {
      "cell_type": "markdown",
      "metadata": {},
      "source": [
        "\n# Plotting map\n"
      ]
    },
    {
      "cell_type": "code",
      "execution_count": null,
      "metadata": {
        "collapsed": false
      },
      "outputs": [],
      "source": [
        "import matplotlib.pyplot as plt\nimport cartopy.crs as ccrs\nimport cartopy.feature as cfeature\nimport cartopy\nimport shapely\n\nprint(cartopy.__version__)\nprint(shapely.__version__)\n\nfig = plt.figure()\nsp = ccrs.Stereographic(central_longitude=0, central_latitude=60)\nax = fig.add_subplot(1, 1, 1, projection=sp)\n\ncorners = [-10, 10, 55, 65]\ncorners = [-30, 30, 45, 75]\nf = cfeature.GSHHSFeature(scale='auto', levels=[1])\nax.add_geometries(\n    #f.intersecting_geometries(corners),\n    f.geometries(),\n    ccrs.PlateCarree(),\n    facecolor=cfeature.COLORS['land'],\n    edgecolor='black')\n\nax.set_extent(corners, crs=ccrs.PlateCarree())\ngl = ax.gridlines(ccrs.PlateCarree())\n\nplt.show()"
      ]
    }
  ],
  "metadata": {
    "kernelspec": {
      "display_name": "Python 3",
      "language": "python",
      "name": "python3"
    },
    "language_info": {
      "codemirror_mode": {
        "name": "ipython",
        "version": 3
      },
      "file_extension": ".py",
      "mimetype": "text/x-python",
      "name": "python",
      "nbconvert_exporter": "python",
      "pygments_lexer": "ipython3",
      "version": "3.9.5"
    }
  },
  "nbformat": 4,
  "nbformat_minor": 0
}
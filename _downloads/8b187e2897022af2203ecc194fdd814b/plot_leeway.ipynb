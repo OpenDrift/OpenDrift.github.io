{
  "cells": [
    {
      "cell_type": "code",
      "execution_count": null,
      "metadata": {
        "collapsed": false
      },
      "outputs": [],
      "source": [
        "%matplotlib inline"
      ]
    },
    {
      "cell_type": "markdown",
      "metadata": {},
      "source": [
        "\nLeeway\n===============================\n\nasdf\n"
      ]
    },
    {
      "cell_type": "markdown",
      "metadata": {},
      "source": [
        "Testing some stuff1\n--------------------\n\nHere's the animation..\n\n\n"
      ]
    },
    {
      "cell_type": "code",
      "execution_count": null,
      "metadata": {
        "collapsed": false
      },
      "outputs": [],
      "source": [
        "from opendrift.readers import reader_netCDF_CF_generic\nfrom opendrift.models.leeway import Leeway\nimport matplotlib.pyplot as plt\n\nlw = Leeway(loglevel=0)  # Set loglevel to 0 for debug information\n\n# Arome\n#reader_arome = reader_netCDF_CF_generic.Reader('http://thredds.met.no/thredds/dodsC/meps25files/meps_det_extracted_2_5km_latest.nc')\nreader_arome = reader_netCDF_CF_generic.Reader(lw.test_data_folder() +\n    '16Nov2015_NorKyst_z_surface/arome_subset_16Nov2015.nc')\n\n# Norkyst\n#reader_norkyst = reader_netCDF_CF_generic.Reader('http://thredds.met.no/thredds/dodsC/sea/norkyst800m/1h/aggregate_be')\nreader_norkyst = reader_netCDF_CF_generic.Reader(lw.test_data_folder() +\n    '16Nov2015_NorKyst_z_surface/norkyst800_subset_16Nov2015.nc')"
      ]
    },
    {
      "cell_type": "markdown",
      "metadata": {},
      "source": [
        "does this work?\n\n"
      ]
    },
    {
      "cell_type": "code",
      "execution_count": null,
      "metadata": {
        "collapsed": false
      },
      "outputs": [],
      "source": [
        "# Adding readers succesively, and specifying which variables they\n# shall provide. This way, order of adding readers does not matter,\n# except for small rounding differences due to different projection\nlw.add_reader(reader_norkyst,\n              variables=['x_sea_water_velocity', 'y_sea_water_velocity'])\nlw.add_reader(reader_arome,\n              variables=['x_wind', 'y_wind'])\nlw.fallback_values['x_sea_water_velocity'] = 0\nlw.fallback_values['y_sea_water_velocity'] = 0\n\n# Seeding some particles\nlon = 4.5; lat = 60.0; # Outside Bergen\n\n# Seed leeway elements at defined position and time\nobjType = 26  # 26 = Life-raft, no ballast\nlw.seed_elements(lon, lat, radius=1000, number=3000,\n                 time=reader_arome.start_time, objectType=objType)\n\nlw.set_projection('+proj=merc')\n\n# Running model (until end of driver data)\nlw.run(steps=60, time_step=900)\nlw.animation(filename='plot_leeway.gif')\nplt.close('all')"
      ]
    },
    {
      "cell_type": "markdown",
      "metadata": {},
      "source": [
        "Testing some stuff\n------------------\n\nHere's the animation..\n\n![](/gallery/plot_leeway.gif)\n\n\n"
      ]
    },
    {
      "cell_type": "code",
      "execution_count": null,
      "metadata": {
        "collapsed": false
      },
      "outputs": [],
      "source": [
        "# Print and plot results\nprint(lw)\n#lw.animation(filename='leeway.gif')\nlw.plot()"
      ]
    }
  ],
  "metadata": {
    "kernelspec": {
      "display_name": "Python 3",
      "language": "python",
      "name": "python3"
    },
    "language_info": {
      "codemirror_mode": {
        "name": "ipython",
        "version": 3
      },
      "file_extension": ".py",
      "mimetype": "text/x-python",
      "name": "python",
      "nbconvert_exporter": "python",
      "pygments_lexer": "ipython3",
      "version": "3.8.0"
    }
  },
  "nbformat": 4,
  "nbformat_minor": 0
}
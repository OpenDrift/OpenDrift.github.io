{
  "cells": [
    {
      "cell_type": "code",
      "execution_count": null,
      "metadata": {
        "collapsed": false
      },
      "outputs": [],
      "source": [
        "%matplotlib inline"
      ]
    },
    {
      "cell_type": "markdown",
      "metadata": {},
      "source": [
        "\nOil budget (NOAA)\n==================================\n"
      ]
    },
    {
      "cell_type": "code",
      "execution_count": null,
      "metadata": {
        "collapsed": false
      },
      "outputs": [],
      "source": [
        "from datetime import datetime\nfrom opendrift.readers import reader_netCDF_CF_generic\nfrom opendrift.models.openoil3D import OpenOil3D\n\n# NOAA OilLibrary must be installed to run this example\no = OpenOil3D(loglevel=0, weathering_model='noaa')\n\n# Using constand wind and current\n#o.fallback_values['x_wind'] = 7\n#o.fallback_values['x_sea_water_velocity'] = .7\n#o.fallback_values['y_sea_water_velocity'] = .3\n#o.fallback_values['land_binary_mask'] = 0\n\n# Arome atmospheric model\nreader_arome = reader_netCDF_CF_generic.Reader(o.test_data_folder() + '16Nov2015_NorKyst_z_surface/arome_subset_16Nov2015.nc')\n# Norkyst ocean model\nreader_norkyst = reader_netCDF_CF_generic.Reader(o.test_data_folder() + '16Nov2015_NorKyst_z_surface/norkyst800_subset_16Nov2015.nc')\n\no.add_reader([reader_arome, reader_norkyst])\n\n# Seeding some particles\nlon = 4.88; lat = 60.1; # Outside Bergen\ntime = datetime.now()\ntime = reader_norkyst.start_time\no.seed_elements(lon, lat, radius=3000, number=500, time=time, z=0,\n                #oiltype='GULLFAKS, EXXON')\n                oiltype='MARTIN LINGE CRUDE')\n                #oiltype='ALGERIAN CONDENSATE')\n\n# Adjusting some configuration\no.set_config('processes:dispersion', False)\no.set_config('processes:evaporation', True)\no.set_config('processes:emulsification', True)\no.set_config('processes:turbulentmixing', True)\no.set_config('turbulentmixing:timestep', 2)\n\n# Running model (until end of driver data)\no.run(steps=4*24, time_step=900)\n\n# Print and plot results\n#o.plot_oil_budget('oil_budget_MartinLingeCrude.png')\no.plot_oil_budget()\no.plot()\no.animation(filename='oil_budget_noaa.gif')"
      ]
    },
    {
      "cell_type": "markdown",
      "metadata": {},
      "source": [
        "![](/gallery/animations/oil_budget_noaa.gif)\n\n\n"
      ]
    },
    {
      "cell_type": "code",
      "execution_count": null,
      "metadata": {
        "collapsed": false
      },
      "outputs": [],
      "source": [
        "o.plot_property('fraction_evaporated')\no.plot_property('density')\no.plot_property('water_fraction')\no.plot_property('viscosity')\no.plot_property('interfacial_area')\no.plot_property('z')"
      ]
    }
  ],
  "metadata": {
    "kernelspec": {
      "display_name": "Python 3",
      "language": "python",
      "name": "python3"
    },
    "language_info": {
      "codemirror_mode": {
        "name": "ipython",
        "version": 3
      },
      "file_extension": ".py",
      "mimetype": "text/x-python",
      "name": "python",
      "nbconvert_exporter": "python",
      "pygments_lexer": "ipython3",
      "version": "3.8.0"
    }
  },
  "nbformat": 4,
  "nbformat_minor": 0
}
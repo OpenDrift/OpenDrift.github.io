{
  "cells": [
    {
      "cell_type": "code",
      "execution_count": null,
      "metadata": {
        "collapsed": false
      },
      "outputs": [],
      "source": [
        "%matplotlib inline"
      ]
    },
    {
      "cell_type": "markdown",
      "metadata": {},
      "source": [
        "\nOpenberg stat\n==================================\n"
      ]
    },
    {
      "cell_type": "code",
      "execution_count": null,
      "metadata": {
        "collapsed": false
      },
      "outputs": [],
      "source": [
        "from datetime import datetime, timedelta\n\nfrom opendrift.readers import reader_basemap_landmask\nfrom opendrift.readers import reader_netCDF_CF_generic\nfrom opendrift.readers import reader_current_from_track\n\nfrom opendrift.models.openberg import OpenBerg"
      ]
    },
    {
      "cell_type": "markdown",
      "metadata": {},
      "source": [
        "Create observation of iceberg track\n######################################\n\n"
      ]
    },
    {
      "cell_type": "code",
      "execution_count": null,
      "metadata": {
        "collapsed": false
      },
      "outputs": [],
      "source": [
        "obslon = [3.1, 3.123456]\nobslat = [61.1, 61.132198]\nobstime = [datetime(2015, 11, 16, 0), datetime(2015, 11, 16, 6)]"
      ]
    },
    {
      "cell_type": "markdown",
      "metadata": {},
      "source": [
        "Initialize model\n#####################\n\n"
      ]
    },
    {
      "cell_type": "code",
      "execution_count": null,
      "metadata": {
        "collapsed": false
      },
      "outputs": [],
      "source": [
        "steps = 60   # This is the number of forecast steps\no = OpenBerg()  # Basic drift model suitable for icebergs"
      ]
    },
    {
      "cell_type": "markdown",
      "metadata": {},
      "source": [
        "Preparing Readers\n####################\n\n"
      ]
    },
    {
      "cell_type": "code",
      "execution_count": null,
      "metadata": {
        "collapsed": false
      },
      "outputs": [],
      "source": [
        "reader_wind = reader_netCDF_CF_generic.Reader(o.test_data_folder() +\n   '16Nov2015_NorKyst_z_surface/arome_subset_16Nov2015.nc',name='WIND')\n\n\nreader_current = reader_current_from_track.Reader(obslon, obslat, obstime,\n\t\t\t\t\twind_east=0, wind_north=0, windreader=reader_wind, wind_factor=0.018)\n\nreader_basemap = reader_basemap_landmask.Reader(llcrnrlon=3., llcrnrlat=61.,\n                        urcrnrlon=5., urcrnrlat=61.8, resolution='l',\n                        projection='gall')\n\no.add_reader([reader_current,reader_wind,reader_basemap])"
      ]
    },
    {
      "cell_type": "markdown",
      "metadata": {},
      "source": [
        "Seeding elements\n######################\n\n"
      ]
    },
    {
      "cell_type": "code",
      "execution_count": null,
      "metadata": {
        "collapsed": false
      },
      "outputs": [],
      "source": [
        "# Icebergs are moved with the ocean current as per Barker et al (2004),\n# in addition to a fraction of the wind speed (wind_drift_factor).\n# This factor depends on the properties of the elements.\n# Default empirical values are:\n# - Wind drift fraction: 0.018 (1.8 %) (Garret 1985)\n# - Iceberg size: \tKeel dept = 60m\n#\t\t\t\t\tWaterline length = 90.5m\n# \t\t\t\t\tNB! Iceberg size is irrelevant for current_reader with 1D z-profile\n\no.seed_elements(3.3, 61.3, radius=3000, number=10, time=reader_current.start_time)"
      ]
    },
    {
      "cell_type": "markdown",
      "metadata": {},
      "source": [
        "Run model\n######################\n\n"
      ]
    },
    {
      "cell_type": "code",
      "execution_count": null,
      "metadata": {
        "collapsed": false
      },
      "outputs": [],
      "source": [
        "print('Starting free run .../n')\n\nprint('Start time: ' + str(o.start_time))\n\no.run(time_step=3600,steps=steps)"
      ]
    },
    {
      "cell_type": "markdown",
      "metadata": {},
      "source": [
        "Print and plot results\n########################\n\n"
      ]
    },
    {
      "cell_type": "code",
      "execution_count": null,
      "metadata": {
        "collapsed": false
      },
      "outputs": [],
      "source": [
        "o.plot(filename='example_stat.pdf')\no.animation(filename='example_stat.gif')"
      ]
    },
    {
      "cell_type": "markdown",
      "metadata": {},
      "source": [
        "![](/gallery/animations/example_stat.gif)\n\n\n"
      ]
    },
    {
      "cell_type": "code",
      "execution_count": null,
      "metadata": {
        "collapsed": false
      },
      "outputs": [],
      "source": [
        "#\n# print('############## Latitudes:', o.history['lat'])\n# print('############## Longitudes:',o.history['lon'])"
      ]
    }
  ],
  "metadata": {
    "kernelspec": {
      "display_name": "Python 3",
      "language": "python",
      "name": "python3"
    },
    "language_info": {
      "codemirror_mode": {
        "name": "ipython",
        "version": 3
      },
      "file_extension": ".py",
      "mimetype": "text/x-python",
      "name": "python",
      "nbconvert_exporter": "python",
      "pygments_lexer": "ipython3",
      "version": "3.8.0"
    }
  },
  "nbformat": 4,
  "nbformat_minor": 0
}
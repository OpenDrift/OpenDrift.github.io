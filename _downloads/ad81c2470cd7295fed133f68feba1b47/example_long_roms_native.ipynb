{
  "cells": [
    {
      "cell_type": "code",
      "execution_count": null,
      "metadata": {
        "collapsed": false
      },
      "outputs": [],
      "source": [
        "%matplotlib inline"
      ]
    },
    {
      "cell_type": "markdown",
      "metadata": {},
      "source": [
        "\nROMS native reader\n==================================\n"
      ]
    },
    {
      "cell_type": "code",
      "execution_count": null,
      "metadata": {
        "collapsed": false
      },
      "outputs": [],
      "source": [
        "import numpy as np\n\nfrom opendrift.readers import reader_global_landmask\nfrom opendrift.readers import reader_ROMS_native\nfrom opendrift.models.oceandrift import OceanDrift\n\no = OceanDrift(loglevel=0)  # Set loglevel to 0 for debug information\n\n# Nordic 4km\nnordic_native = reader_ROMS_native.Reader(o.test_data_folder() +\n    '2Feb2016_Nordic_sigma_3d/Nordic-4km_SLEVELS_avg_00_subset2Feb2016.nc')\n\n# Landmask\nreader_landmask = reader_global_landmask.Reader(\n                    llcrnrlon=11.0, llcrnrlat=67.5,\n                    urcrnrlon=16.0, urcrnrlat=69.0)\n\no.add_reader([reader_landmask, nordic_native])\n\n# Seeding some particles\ntime = nordic_native.start_time\nlon = 12.0; lat = 68.3;\n\n# Seed oil elements at defined position and time\no.seed_elements(lon, lat, radius=0, number=10, z=np.linspace(0, -150, 10), time=time)\n\nprint(o)\n\n# Running model\no.run(time_step=3600)\n\n# Print and plot results\nprint(o)\no.plot(linecolor='z')\n#o.animation()"
      ]
    }
  ],
  "metadata": {
    "kernelspec": {
      "display_name": "Python 3",
      "language": "python",
      "name": "python3"
    },
    "language_info": {
      "codemirror_mode": {
        "name": "ipython",
        "version": 3
      },
      "file_extension": ".py",
      "mimetype": "text/x-python",
      "name": "python",
      "nbconvert_exporter": "python",
      "pygments_lexer": "ipython3",
      "version": "3.7.6"
    }
  },
  "nbformat": 4,
  "nbformat_minor": 0
}
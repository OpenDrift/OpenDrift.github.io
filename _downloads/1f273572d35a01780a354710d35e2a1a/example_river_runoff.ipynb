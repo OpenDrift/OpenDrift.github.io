{
  "cells": [
    {
      "cell_type": "code",
      "execution_count": null,
      "metadata": {
        "collapsed": false
      },
      "outputs": [],
      "source": [
        "%matplotlib inline"
      ]
    },
    {
      "cell_type": "markdown",
      "metadata": {},
      "source": [
        "\n# River runoff\n"
      ]
    },
    {
      "cell_type": "code",
      "execution_count": null,
      "metadata": {
        "collapsed": false
      },
      "outputs": [],
      "source": [
        "import os\nfrom datetime import datetime, timedelta\nimport numpy as np\nimport matplotlib.pyplot as plt\nimport matplotlib.dates as mdates\nimport opendrift\nfrom opendrift.models.oceandrift import OceanDrift\nfrom opendrift.readers import reader_oscillating\n\n\noutfile = 'runoff.nc'  # Raw simulation output\nanalysis_file = 'runoff_density.nc'  # Raw simulation output\ntry:\n    os.remove(analysis_file)\nexcept OSError:\n    pass"
      ]
    },
    {
      "cell_type": "markdown",
      "metadata": {},
      "source": [
        "First make a simulation with two seedings, marked by *origin_marker*\n\n"
      ]
    },
    {
      "cell_type": "code",
      "execution_count": null,
      "metadata": {
        "collapsed": false
      },
      "outputs": [],
      "source": [
        "o = OceanDrift(loglevel=20)\nt1 = datetime.now()\nt2 = t1 + timedelta(hours=48)\nnumber = 25000\no.seed_elements(time=[t1, t2], lon=9.017931, lat=58.562702, number=number,\n                origin_marker=0)  # River 1\no.seed_elements(time=[t1, t2], lon=8.824815, lat=58.425648, number=number,\n                origin_marker=1)  # River 2\nseed_times = o.elements_scheduled_time[0:number]\n\nreader_x = reader_oscillating.Reader('x_sea_water_velocity', period_seconds=3600*24,\n                amplitude=1, zero_time=t1)\nreader_y = reader_oscillating.Reader('y_sea_water_velocity', period_seconds=3600*72,\n                amplitude=.5, zero_time=t2)\no.add_reader([reader_x, reader_y])\no.set_config('drift:horizontal_diffusivity', 300)\no.set_config('general:coastline_action', 'previous')\no.run(duration=timedelta(hours=48),\n      time_step=1800, time_step_output=3600, outfile=outfile)"
      ]
    },
    {
      "cell_type": "markdown",
      "metadata": {},
      "source": [
        "Opening the output file lazily with Xarray.\nThis will work even if the file is too large to fit in memory, as it\nwill read and process data chuck-by-chunk directly from file using Dask.\nNote that the analysis file will be re-used if existing. Thus this file should be deleted after making any changes to the simulation above.\n\n"
      ]
    },
    {
      "cell_type": "code",
      "execution_count": null,
      "metadata": {
        "collapsed": false
      },
      "outputs": [],
      "source": [
        "o = opendrift.open_xarray(outfile, analysis_file=analysis_file)"
      ]
    },
    {
      "cell_type": "markdown",
      "metadata": {},
      "source": [
        "Animation of the spatial density of river runoff water.\nAlthough there are the same number of elements from each river, the density plots are\nweighted with the actual runoff at time of seeding. This weighting can be done/changed\nafterwards without needing to redo the simulation.\nThe calculated density fields will be stored/cached in the analysis file\nfor later re-use, as their calculation may be time consuming\nfor huge output files.\nNote that other analysis/plotting methods are not yet adapted\nto datasets opened lazily with open_xarray\n\n"
      ]
    },
    {
      "cell_type": "code",
      "execution_count": null,
      "metadata": {
        "collapsed": false
      },
      "outputs": [],
      "source": [
        "runoff_river1 = np.abs(np.cos(np.arange(number)*2*np.pi/(number)))  # Impose a temporal variation of runoff\nrunoff_river2 = 10*runoff_river1  # Let river 2 have 10 times as large runoff as river 1\nplt.plot(seed_times, runoff_river1, 'b', label='River 1')\nplt.plot(seed_times, runoff_river2, 'r', label='River 2')\nplt.ylabel('Runoff  [m3/s]')\nplt.gca().xaxis.set_major_formatter(mdates.DateFormatter('%d %b %H:%M'))\nplt.margins(x=0)\nplt.legend()\nplt.show()\n\nrunoff = np.concatenate((runoff_river1, runoff_river2))\ntext = [{'s': 'River 1', 'x': 8.55, 'y': 58.56, 'fontsize': 20, 'color': 'g',\n         'backgroundcolor': 'white', 'bbox': dict(facecolor='white', alpha=0.8), 'zorder': 1000},\n        {'s': 'River 2', 'x': 8.35, 'y': 58.42, 'fontsize': 20, 'color': 'g',\n         'backgroundcolor': 'white', 'bbox': dict(facecolor='white', alpha=0.8), 'zorder': 1000}]\no.animation(density=runoff, density_pixelsize_m=1500, fast=True,\n            show_elements=False, vmin=0, vmax=120, text=text)"
      ]
    },
    {
      "cell_type": "markdown",
      "metadata": {},
      "source": [
        "<img src=\"file://gallery/animations/example_river_runoff_0.gif\">\n\n"
      ]
    },
    {
      "cell_type": "code",
      "execution_count": null,
      "metadata": {
        "collapsed": false
      },
      "outputs": [],
      "source": [
        "# Cleaning up\nos.remove(outfile)\nos.remove(analysis_file)"
      ]
    }
  ],
  "metadata": {
    "kernelspec": {
      "display_name": "Python 3",
      "language": "python",
      "name": "python3"
    },
    "language_info": {
      "codemirror_mode": {
        "name": "ipython",
        "version": 3
      },
      "file_extension": ".py",
      "mimetype": "text/x-python",
      "name": "python",
      "nbconvert_exporter": "python",
      "pygments_lexer": "ipython3",
      "version": "3.9.6"
    }
  },
  "nbformat": 4,
  "nbformat_minor": 0
}
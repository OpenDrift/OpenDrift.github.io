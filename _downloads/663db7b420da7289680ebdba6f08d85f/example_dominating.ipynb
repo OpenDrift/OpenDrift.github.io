{
  "cells": [
    {
      "cell_type": "code",
      "execution_count": null,
      "metadata": {
        "collapsed": false
      },
      "outputs": [],
      "source": [
        "%matplotlib inline"
      ]
    },
    {
      "cell_type": "markdown",
      "metadata": {},
      "source": [
        "\n# Show dominating source\n"
      ]
    },
    {
      "cell_type": "code",
      "execution_count": null,
      "metadata": {
        "collapsed": false
      },
      "outputs": [],
      "source": [
        "import os\nfrom datetime import datetime\nimport xarray as xr\nimport opendrift\nfrom opendrift.models.oceandrift import OceanDrift\n\nof = 'test.nc'\naf = 'test_analysis.nc'\nfor fi in [of, af]:\n    try:\n        os.remove(fi)\n    except:\n        pass"
      ]
    },
    {
      "cell_type": "markdown",
      "metadata": {},
      "source": [
        "Seed elements at 5 different locations/longitudes\n\n"
      ]
    },
    {
      "cell_type": "code",
      "execution_count": null,
      "metadata": {
        "collapsed": false
      },
      "outputs": [],
      "source": [
        "lons = [4, 4.2, 4.3, 4.32, 4.6]\nt = datetime.now()\n\no = OceanDrift(loglevel=20)\n\nfor i, lon in enumerate(lons):\n    o.seed_elements(lon=lon, lat=60, radius=3000, number=2000, time=t, origin_marker_name='Lon %f' % lon)\no.set_config('environment:constant:y_sea_water_velocity', .1)\no.run(steps=15, outfile=of)"
      ]
    },
    {
      "cell_type": "markdown",
      "metadata": {},
      "source": [
        "Calculate spatial density of elements at 1500m grid spacing\n\n"
      ]
    },
    {
      "cell_type": "code",
      "execution_count": null,
      "metadata": {
        "collapsed": false
      },
      "outputs": [],
      "source": [
        "oa = opendrift.open_xarray(of, analysis_file=af)\noa.get_density_xarray(pixelsize_m=1500, weights=None, dominating_origin_marker=True)"
      ]
    },
    {
      "cell_type": "markdown",
      "metadata": {},
      "source": [
        "Show which of the 5 sources are dominating within each grid cell\n\n"
      ]
    },
    {
      "cell_type": "code",
      "execution_count": null,
      "metadata": {
        "collapsed": false
      },
      "outputs": [],
      "source": [
        "oa.animation(background=oa.ads.dominating_origin_marker, show_elements=False, bgalpha=1,\n             legend=oa.origin_marker, vmin=0, vmax=4)"
      ]
    },
    {
      "cell_type": "markdown",
      "metadata": {},
      "source": [
        "<img src=\"file://gallery/animations/example_dominating_0.gif\">\n\n"
      ]
    }
  ],
  "metadata": {
    "kernelspec": {
      "display_name": "Python 3",
      "language": "python",
      "name": "python3"
    },
    "language_info": {
      "codemirror_mode": {
        "name": "ipython",
        "version": 3
      },
      "file_extension": ".py",
      "mimetype": "text/x-python",
      "name": "python",
      "nbconvert_exporter": "python",
      "pygments_lexer": "ipython3",
      "version": "3.9.7"
    }
  },
  "nbformat": 4,
  "nbformat_minor": 0
}
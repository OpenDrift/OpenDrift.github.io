{
  "cells": [
    {
      "cell_type": "code",
      "execution_count": null,
      "metadata": {
        "collapsed": false
      },
      "outputs": [],
      "source": [
        "%matplotlib inline"
      ]
    },
    {
      "cell_type": "markdown",
      "metadata": {},
      "source": [
        "\nLCS Norkyst\n==================================\n"
      ]
    },
    {
      "cell_type": "code",
      "execution_count": null,
      "metadata": {
        "collapsed": false
      },
      "outputs": [],
      "source": [
        "from datetime import datetime, timedelta\n\nfrom opendrift.readers import reader_netCDF_CF_generic\nfrom opendrift.models.oceandrift import OceanDrift\n\no = OceanDrift(loglevel=20)  # Set loglevel to 0 for debug information\n\n# Norkyst ocean model\nreader_norkyst = reader_netCDF_CF_generic.Reader(o.test_data_folder() + '16Nov2015_NorKyst_z_surface/norkyst800_subset_16Nov2015.nc')\n\n#o.add_reader([reader_norkyst, reader_arome])\no.add_reader([reader_norkyst])\n\n\n# Calculating attracting/backwards FTLE/LCS at 20 hours\nlcs = o.calculate_ftle(\n    time=reader_norkyst.start_time + timedelta(hours=20),\n    time_step=timedelta(minutes=30),\n    duration=timedelta(hours=5), delta=1000,\n    RLCS=False)\n\n# Simulation from beginning and up to 30 hours (time of LCS)\no.reset()\no.seed_elements(lon=4.4, lat=60.2, number=1000, radius=1000,\n                time=reader_norkyst.start_time)\no.run(end_time=reader_norkyst.start_time+timedelta(hours=20),\n      time_step=timedelta(minutes=30))\n\no.plot(lcs=lcs, vmin=1e-7, vmax=1e-4, colorbar=True, show_particles=True)"
      ]
    }
  ],
  "metadata": {
    "kernelspec": {
      "display_name": "Python 3",
      "language": "python",
      "name": "python3"
    },
    "language_info": {
      "codemirror_mode": {
        "name": "ipython",
        "version": 3
      },
      "file_extension": ".py",
      "mimetype": "text/x-python",
      "name": "python",
      "nbconvert_exporter": "python",
      "pygments_lexer": "ipython3",
      "version": "3.7.3"
    }
  },
  "nbformat": 4,
  "nbformat_minor": 0
}
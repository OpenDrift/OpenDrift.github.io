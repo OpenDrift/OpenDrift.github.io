{
  "cells": [
    {
      "cell_type": "code",
      "execution_count": null,
      "metadata": {
        "collapsed": false
      },
      "outputs": [],
      "source": [
        "%matplotlib inline"
      ]
    },
    {
      "cell_type": "markdown",
      "metadata": {},
      "source": [
        "\nOil 3d (vertical mixing)\n==================================\n"
      ]
    },
    {
      "cell_type": "code",
      "execution_count": null,
      "metadata": {
        "collapsed": false
      },
      "outputs": [],
      "source": [
        "from datetime import timedelta\nfrom opendrift.readers import reader_netCDF_CF_generic\nfrom opendrift.models.openoil3D import OpenOil3D\n\n\no = OpenOil3D(loglevel=20)  # Set loglevel to 0 for debug information\n\nncfile = 'oil3Dmixing.nc'\nimport_file = False  # Set to True to import previous run\n\nif import_file is True:\n    o.io_import_file(ncfile)\nelse:\n    reader_arome = reader_netCDF_CF_generic.Reader('http://thredds.met.no/thredds/dodsC/meps25files/meps_det_extracted_2_5km_latest.nc')\n    reader_norkyst = reader_netCDF_CF_generic.Reader('http://thredds.met.no/thredds/dodsC/sea/norkyst800m/1h/aggregate_be')\n\n    o.add_reader([reader_norkyst, reader_arome])\n\n    # Seed oil elements at defined position and time\n    o.seed_elements(lon=4.9, lat=62.1, z=0, radius=1000, number=2000,\n                    time=reader_arome.start_time)\n\n    # Adjusting some configuration\n    o.set_config('processes:evaporation', False)\n    o.set_config('processes:turbulentmixing', True)\n    o.set_config('processes:dispersion', False)\n    #o.set_config('turbulentmixing:diffusivitymodel', 'windspeed_Sundby1983')\n\n    # Running model\n    o.run(end_time=reader_arome.start_time + timedelta(hours=12),\n          time_step=900, time_step_output=1800, outfile=ncfile)"
      ]
    },
    {
      "cell_type": "markdown",
      "metadata": {},
      "source": [
        "Print and plot results\n\n"
      ]
    },
    {
      "cell_type": "code",
      "execution_count": null,
      "metadata": {
        "collapsed": false
      },
      "outputs": [],
      "source": [
        "print(o)\n\no.plot(linecolor='z', fast=True)\no.plot_property('z')\no.plot_oil_budget()\no.animation(fast=True)"
      ]
    },
    {
      "cell_type": "markdown",
      "metadata": {},
      "source": [
        "![](/gallery/animations/example_oil3d_verticalmixing_0.gif)\n\n\n"
      ]
    }
  ],
  "metadata": {
    "kernelspec": {
      "display_name": "Python 3",
      "language": "python",
      "name": "python3"
    },
    "language_info": {
      "codemirror_mode": {
        "name": "ipython",
        "version": 3
      },
      "file_extension": ".py",
      "mimetype": "text/x-python",
      "name": "python",
      "nbconvert_exporter": "python",
      "pygments_lexer": "ipython3",
      "version": "3.8.1"
    }
  },
  "nbformat": 4,
  "nbformat_minor": 0
}
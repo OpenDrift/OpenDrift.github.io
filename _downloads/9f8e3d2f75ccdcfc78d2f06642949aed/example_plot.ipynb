{
  "cells": [
    {
      "cell_type": "markdown",
      "metadata": {},
      "source": [
        "\n# Example plot (for front page)\n"
      ]
    },
    {
      "cell_type": "code",
      "execution_count": null,
      "metadata": {
        "collapsed": false
      },
      "outputs": [],
      "source": [
        "from datetime import datetime, timedelta\nfrom opendrift.models.oceandrift import OceanDrift\n\no = OceanDrift(loglevel=30)\no.add_readers_from_list(\n    ['https://thredds.met.no/thredds/dodsC/fou-hi/norkystv3_800m_m00_be'])\no.seed_elements(lon=4.85, lat=60, time=datetime.now(), number=10000, radius=1000)\n\no.run(duration=timedelta(hours=24))\no.animation(filename='animation.mp4')"
      ]
    },
    {
      "cell_type": "markdown",
      "metadata": {},
      "source": [
        "<img src=\"file://gallery/animations/example_plot_0.gif\">\n\n"
      ]
    }
  ],
  "metadata": {
    "kernelspec": {
      "display_name": "Python 3",
      "language": "python",
      "name": "python3"
    },
    "language_info": {
      "codemirror_mode": {
        "name": "ipython",
        "version": 3
      },
      "file_extension": ".py",
      "mimetype": "text/x-python",
      "name": "python",
      "nbconvert_exporter": "python",
      "pygments_lexer": "ipython3",
      "version": "3.13.5"
    }
  },
  "nbformat": 4,
  "nbformat_minor": 0
}
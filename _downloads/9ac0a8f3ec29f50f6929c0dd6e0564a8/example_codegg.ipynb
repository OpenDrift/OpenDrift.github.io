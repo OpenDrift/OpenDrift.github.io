{
  "cells": [
    {
      "cell_type": "code",
      "execution_count": null,
      "metadata": {
        "collapsed": false
      },
      "outputs": [],
      "source": [
        "%matplotlib inline"
      ]
    },
    {
      "cell_type": "markdown",
      "metadata": {},
      "source": [
        "\nCod egg\n=============\n"
      ]
    },
    {
      "cell_type": "code",
      "execution_count": null,
      "metadata": {
        "collapsed": false
      },
      "outputs": [],
      "source": [
        "from opendrift.readers import reader_netCDF_CF_generic\nfrom opendrift.models.pelagicegg import PelagicEggDrift\nimport datetime\n\no = PelagicEggDrift(loglevel=20)  # Set loglevel to 0 for debug information\n\n# Arome\n#reader_arome = reader_netCDF_CF_generic.Reader(o.test_data_folder() + '16Nov2015_NorKyst_z_surface/arome_subset_16Nov2015.nc')\n#reader_arome = reader_netCDF_CF_generic.Reader('https://thredds.met.no/thredds/dodsC/mepslatest/meps_lagged_6_h_latest_2_5km_latest.nc')\n\n# Norkyst\n#reader_norkyst = reader_netCDF_CF_generic.Reader(o.test_data_folder() + '16Nov2015_NorKyst_z_surface/norkyst800_subset_16Nov2015.nc')\n#reader_norkyst = reader_netCDF_CF_generic.Reader('https://thredds.met.no/thredds/dodsC/sea/norkyst800m/1h/aggregate_be')\nreader_norkyst = reader_netCDF_CF_generic.Reader('https://thredds.met.no/thredds/dodsC/sea/norkyst800m/1h/aggregate_be')\nreader_norshelf = reader_netCDF_CF_generic.Reader('https://thredds.met.no/thredds/dodsC/sea_norshelf_his_ZDEPTHS_agg')\n\no.add_reader([reader_norkyst, reader_norshelf])"
      ]
    },
    {
      "cell_type": "markdown",
      "metadata": {},
      "source": [
        "spawn NEA cod eggs at defined position and time\n\n"
      ]
    },
    {
      "cell_type": "code",
      "execution_count": null,
      "metadata": {
        "collapsed": false
      },
      "outputs": [],
      "source": [
        "time = datetime.datetime.today() - datetime.timedelta(1)\no.seed_elements(14. , 68.1, z=-40, radius=2000, number=500,\n                time=time, diameter=0.0014, neutral_buoyancy_salinity=31.25)\no.seed_elements(12.5, 68., z=-40, radius=2000, number=500,\n                time=time, diameter=0.0014, neutral_buoyancy_salinity=31.25)\no.seed_elements(13.5, 68., z=-40, radius=2000, number=500,\n                time=time, diameter=0.0014, neutral_buoyancy_salinity=31.25)\no.seed_elements(13., 67.8, z=-40, radius=2000, number=500,\n                time=time, diameter=0.0014, neutral_buoyancy_salinity=31.25)"
      ]
    },
    {
      "cell_type": "markdown",
      "metadata": {},
      "source": [
        "Adjusting some configuration\n\n"
      ]
    },
    {
      "cell_type": "code",
      "execution_count": null,
      "metadata": {
        "collapsed": false
      },
      "outputs": [],
      "source": [
        "o.set_config('drift:vertical_mixing', True)\n#o.set_config('vertical_mixing:diffusivitymodel', 'windspeed_Sundby1983') # windspeed parameterization for eddy diffusivity\no.set_config('vertical_mixing:diffusivitymodel', 'environment') # use eddy diffusivity from ocean model"
      ]
    },
    {
      "cell_type": "markdown",
      "metadata": {},
      "source": [
        "Vertical mixing requires fast time step\n\n"
      ]
    },
    {
      "cell_type": "code",
      "execution_count": null,
      "metadata": {
        "collapsed": false
      },
      "outputs": [],
      "source": [
        "o.set_config('vertical_mixing:timestep', 60.) # seconds"
      ]
    },
    {
      "cell_type": "markdown",
      "metadata": {},
      "source": [
        "Running model\n\n"
      ]
    },
    {
      "cell_type": "code",
      "execution_count": null,
      "metadata": {
        "collapsed": false
      },
      "outputs": [],
      "source": [
        "o.run(steps=96, time_step=3600)"
      ]
    },
    {
      "cell_type": "markdown",
      "metadata": {},
      "source": [
        "Print and plot results\n\n"
      ]
    },
    {
      "cell_type": "code",
      "execution_count": null,
      "metadata": {
        "collapsed": false
      },
      "outputs": [],
      "source": [
        "print(o)\n\no.plot(fast=True)\no.animation(fast=True)"
      ]
    },
    {
      "cell_type": "markdown",
      "metadata": {},
      "source": [
        "![](/gallery/animations/example_codegg_0.gif)\n\n\n"
      ]
    },
    {
      "cell_type": "code",
      "execution_count": null,
      "metadata": {
        "collapsed": false
      },
      "outputs": [],
      "source": [
        "o.plot_vertical_distribution()"
      ]
    }
  ],
  "metadata": {
    "kernelspec": {
      "display_name": "Python 3",
      "language": "python",
      "name": "python3"
    },
    "language_info": {
      "codemirror_mode": {
        "name": "ipython",
        "version": 3
      },
      "file_extension": ".py",
      "mimetype": "text/x-python",
      "name": "python",
      "nbconvert_exporter": "python",
      "pygments_lexer": "ipython3",
      "version": "3.8.3"
    }
  },
  "nbformat": 4,
  "nbformat_minor": 0
}
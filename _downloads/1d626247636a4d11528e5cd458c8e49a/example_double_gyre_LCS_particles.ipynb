{
  "cells": [
    {
      "cell_type": "code",
      "execution_count": null,
      "metadata": {
        "collapsed": false
      },
      "outputs": [],
      "source": [
        "%matplotlib inline"
      ]
    },
    {
      "cell_type": "markdown",
      "metadata": {},
      "source": [
        "\nDouble gyre (propagation schemes, particles)\n==================================\n\nIllustrating the difference between Euler and Runge-Kutta propagation\nschemes, using an idealised (analytical) eddy current field.\n"
      ]
    },
    {
      "cell_type": "code",
      "execution_count": null,
      "metadata": {
        "collapsed": false
      },
      "outputs": [],
      "source": [
        "from datetime import datetime, timedelta\nimport matplotlib.pyplot as plt\n\nfrom opendrift.readers import reader_double_gyre\nfrom opendrift.models.oceandrift import OceanDrift"
      ]
    },
    {
      "cell_type": "markdown",
      "metadata": {},
      "source": [
        "Setting some parameters\n\n"
      ]
    },
    {
      "cell_type": "code",
      "execution_count": null,
      "metadata": {
        "collapsed": false
      },
      "outputs": [],
      "source": [
        "duration = timedelta(seconds=15)  # T\ntime_step=timedelta(seconds=.5)\ntime_step_output=timedelta(seconds=.5)\ndelta=.01  # spatial resolution\nsteps = int(duration.total_seconds()/\n            time_step_output.total_seconds() + 1)"
      ]
    },
    {
      "cell_type": "code",
      "execution_count": null,
      "metadata": {
        "collapsed": false
      },
      "outputs": [],
      "source": [
        "o = OceanDrift(loglevel=20)\n\no.fallback_values['land_binary_mask'] = 0\n# Note that Runge-Kutta here makes a difference to Euler scheme\no.set_config('drift:scheme', 'runge-kutta4')\n\ndouble_gyre = reader_double_gyre.Reader(epsilon=.25, omega=0.628, A=0.1)\nprint(double_gyre)\n\no.add_reader(double_gyre)\n\n# Calculate Lyapunov exponents\ntimes = [double_gyre.initial_time +\n         n*time_step_output for n in range(steps)]\nlcs = o.calculate_ftle(time=times, time_step=time_step,\n                       duration=duration, delta=delta, RLCS=False)\n\n# Make run with particles for the same period\no.reset()\nx = [.9]\ny = [.5]\nlon, lat = double_gyre.xy2lonlat(x, y)\n\no.seed_elements(lon, lat, radius=.1, number=1000,\n                time=double_gyre.initial_time)\no.run(duration=duration, time_step=time_step,\n      time_step_output=time_step_output)\no.animation(buffer=0, lcs=lcs, filename='ALCS_with_particles.gif')"
      ]
    },
    {
      "cell_type": "markdown",
      "metadata": {},
      "source": [
        "![](/gallery/animations/ALCS_with_particles.gif)\n\n\n"
      ]
    }
  ],
  "metadata": {
    "kernelspec": {
      "display_name": "Python 3",
      "language": "python",
      "name": "python3"
    },
    "language_info": {
      "codemirror_mode": {
        "name": "ipython",
        "version": 3
      },
      "file_extension": ".py",
      "mimetype": "text/x-python",
      "name": "python",
      "nbconvert_exporter": "python",
      "pygments_lexer": "ipython3",
      "version": "3.8.1"
    }
  },
  "nbformat": 4,
  "nbformat_minor": 0
}
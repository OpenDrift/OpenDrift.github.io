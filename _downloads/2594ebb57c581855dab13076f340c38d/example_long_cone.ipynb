{
  "cells": [
    {
      "cell_type": "code",
      "execution_count": null,
      "metadata": {
        "collapsed": false
      },
      "outputs": [],
      "source": [
        "%matplotlib inline"
      ]
    },
    {
      "cell_type": "markdown",
      "metadata": {},
      "source": [
        "\nCone seeding\n=============\n"
      ]
    },
    {
      "cell_type": "code",
      "execution_count": null,
      "metadata": {
        "collapsed": false
      },
      "outputs": [],
      "source": [
        "from datetime import timedelta\n\nfrom opendrift.readers import reader_netCDF_CF_generic\nfrom opendrift.models.openoil import OpenOil\n\no = OpenOil(loglevel=0)  # Set loglevel to 0 for debug information\n\n# Arome\nreader_arome = reader_netCDF_CF_generic.Reader(o.test_data_folder() +\n    '16Nov2015_NorKyst_z_surface/arome_subset_16Nov2015.nc')\n\n# Norkyst\nreader_norkyst = reader_netCDF_CF_generic.Reader(o.test_data_folder() +\n    '16Nov2015_NorKyst_z_surface/norkyst800_subset_16Nov2015.nc')\n\no.add_reader([reader_norkyst, reader_arome])\n\n# Seeding some particles\nlon = [3.6, 5.1]; lat = [61., 59.6]; # Outside Bergen\n\n# Seed elements along cone, e.g. ship track with\n# increasing uncertainty in position\ntime = [reader_arome.start_time,\n        reader_arome.start_time + timedelta(hours=30)]\n#time = reader_arome.start_time\n\n# Seed oil elements at defined position and time\no.seed_elements(lon, lat, radius=[1000, 10000], number=5000,\n                time=time, cone=True)\n\n# Adjusting some configuration\no.set_config('processes:dispersion', True)\no.set_config('processes:evaporation', True)\no.set_config('processes:emulsification', True)\no.set_config('drift:current_uncertainty', .1)\no.set_config('drift:wind_uncertainty', 1)\n\n# Running model (until end of driver data)\no.run(steps=66*2, time_step=1800)\n\n# Print and plot results\nprint(o)\no.plot()\no.animation(filename='cone.gif')"
      ]
    },
    {
      "cell_type": "markdown",
      "metadata": {},
      "source": [
        "![](/gallery/animations/cone.gif)\n\n\n"
      ]
    }
  ],
  "metadata": {
    "kernelspec": {
      "display_name": "Python 3",
      "language": "python",
      "name": "python3"
    },
    "language_info": {
      "codemirror_mode": {
        "name": "ipython",
        "version": 3
      },
      "file_extension": ".py",
      "mimetype": "text/x-python",
      "name": "python",
      "nbconvert_exporter": "python",
      "pygments_lexer": "ipython3",
      "version": "3.7.3"
    }
  },
  "nbformat": 4,
  "nbformat_minor": 0
}
{
  "cells": [
    {
      "cell_type": "code",
      "execution_count": null,
      "metadata": {
        "collapsed": false
      },
      "outputs": [],
      "source": [
        "%matplotlib inline"
      ]
    },
    {
      "cell_type": "markdown",
      "metadata": {},
      "source": [
        "\nIce berg (openberg) deterministic\n==================================\n"
      ]
    },
    {
      "cell_type": "code",
      "execution_count": null,
      "metadata": {
        "collapsed": false
      },
      "outputs": [],
      "source": [
        "from opendrift.readers import reader_netCDF_CF_generic\nfrom opendrift.readers import reader_global_landmask\n\nfrom opendrift.models.openberg import OpenBerg"
      ]
    },
    {
      "cell_type": "markdown",
      "metadata": {},
      "source": [
        "Initialize model\n#####################\n\n"
      ]
    },
    {
      "cell_type": "code",
      "execution_count": null,
      "metadata": {
        "collapsed": false
      },
      "outputs": [],
      "source": [
        "steps = 60  # This is the number of forecast steps\n\no = OpenBerg()  # Basic drift model suitable for icebergs"
      ]
    },
    {
      "cell_type": "markdown",
      "metadata": {},
      "source": [
        "Preparing Readers\n###########################################\n\n"
      ]
    },
    {
      "cell_type": "code",
      "execution_count": null,
      "metadata": {
        "collapsed": false
      },
      "outputs": [],
      "source": [
        "reader_current = reader_netCDF_CF_generic.Reader(o.test_data_folder() +\n   '16Nov2015_NorKyst_z_surface/norkyst800_subset_16Nov2015.nc')\n\nreader_wind = reader_netCDF_CF_generic.Reader(o.test_data_folder() +\n   '16Nov2015_NorKyst_z_surface/arome_subset_16Nov2015.nc')\n\nreader_landmask = reader_global_landmask.Reader(llcrnrlon=2.9, llcrnrlat=59.7,\n                        urcrnrlon=4.9, urcrnrlat=61.5)\no.add_reader([reader_current,reader_wind,reader_landmask])"
      ]
    },
    {
      "cell_type": "markdown",
      "metadata": {},
      "source": [
        "Seeding elements\n######################\n\n"
      ]
    },
    {
      "cell_type": "code",
      "execution_count": null,
      "metadata": {
        "collapsed": false
      },
      "outputs": [],
      "source": [
        "# Icebergs are moved with the ocean current as per Barker et al (2004),\n# in addition to a fraction of the wind speed (wind_drift_factor).\n# This factor depends on the properties of the elements.\n# Default empirical values are:\n# - Wind drift fraction: 0.018 (1.8 %) (Garret 1985)\n# - Iceberg size: \tKeel dept = 60m\n#\t\t\t\t\tWaterline length = 90.5m\n\n\no.seed_elements(3.3, 60., radius=3000,\n                time=reader_current.start_time,water_line_length=100,\n                keel_depth=90,number=100)\n\n\nprint('Starting free run .../n')\n\nprint('Start time: ' + str(o.start_time))"
      ]
    },
    {
      "cell_type": "markdown",
      "metadata": {},
      "source": [
        "Running model\n######################\n\n"
      ]
    },
    {
      "cell_type": "code",
      "execution_count": null,
      "metadata": {
        "collapsed": false
      },
      "outputs": [],
      "source": [
        "o.run(time_step=3600,steps=steps)"
      ]
    },
    {
      "cell_type": "markdown",
      "metadata": {},
      "source": [
        "Print and plot results\n########################\n\n"
      ]
    },
    {
      "cell_type": "code",
      "execution_count": null,
      "metadata": {
        "collapsed": false
      },
      "outputs": [],
      "source": [
        "o.plot()\no.animation(filename='example_det.gif')"
      ]
    },
    {
      "cell_type": "markdown",
      "metadata": {},
      "source": [
        "![](/gallery/animations/example_det.gif)\n\n\n"
      ]
    },
    {
      "cell_type": "code",
      "execution_count": null,
      "metadata": {
        "collapsed": false
      },
      "outputs": [],
      "source": [
        "print('############## Latitudes:', o.history['lat'])\nprint('############## Longitudes:',o.history['lon'])"
      ]
    }
  ],
  "metadata": {
    "kernelspec": {
      "display_name": "Python 3",
      "language": "python",
      "name": "python3"
    },
    "language_info": {
      "codemirror_mode": {
        "name": "ipython",
        "version": 3
      },
      "file_extension": ".py",
      "mimetype": "text/x-python",
      "name": "python",
      "nbconvert_exporter": "python",
      "pygments_lexer": "ipython3",
      "version": "3.8.1"
    }
  },
  "nbformat": 4,
  "nbformat_minor": 0
}
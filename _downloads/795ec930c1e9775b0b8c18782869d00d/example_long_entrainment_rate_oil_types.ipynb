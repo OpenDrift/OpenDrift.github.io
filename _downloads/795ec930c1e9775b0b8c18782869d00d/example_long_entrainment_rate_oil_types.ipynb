{
  "cells": [
    {
      "cell_type": "code",
      "execution_count": null,
      "metadata": {
        "collapsed": false
      },
      "outputs": [],
      "source": [
        "%matplotlib inline"
      ]
    },
    {
      "cell_type": "markdown",
      "metadata": {},
      "source": [
        "\nEntrainment rate (oil types)\n==================================\n"
      ]
    },
    {
      "cell_type": "code",
      "execution_count": null,
      "metadata": {
        "collapsed": false
      },
      "outputs": [],
      "source": [
        "from datetime import datetime, timedelta\nfrom opendrift.models.openoil3D import OpenOil3D\n\nimport matplotlib.pyplot as plt\nimport numpy as np"
      ]
    },
    {
      "cell_type": "markdown",
      "metadata": {},
      "source": [
        "Li et al. (2017) entrainment rate (light vs. heavy oil)\n#####################################################\n\n"
      ]
    },
    {
      "cell_type": "code",
      "execution_count": null,
      "metadata": {
        "collapsed": false
      },
      "outputs": [],
      "source": [
        "o2 = OpenOil3D(loglevel=0, weathering_model='noaa')\no2.fallback_values['land_binary_mask'] = 0\no2.fallback_values['x_sea_water_velocity'] = -.2\no2.fallback_values['y_sea_water_velocity'] = 0\no2.fallback_values['x_wind'] = 10\no2.fallback_values['y_wind'] = 0\no2.fallback_values['sea_surface_wave_stokes_drift_x_velocity'] = .3\no2.fallback_values['sea_surface_wave_stokes_drift_y_velocity'] = 0\no2.set_config('wave_entrainment:entrainment_rate', 'Li et al. (2017)')\no2.set_config('wave_entrainment:droplet_size_distribution', 'Johansen et al. (2015)')\no2.set_config('processes:evaporation', False)\no2.set_config('processes:dispersion', False)\no2.set_config('turbulentmixing:droplet_diameter_min_wavebreaking', 1e-6)\no2.set_config('turbulentmixing:droplet_diameter_max_wavebreaking', 1e-3)\no2.seed_elements(lon=4, lat=60, time=datetime.now(), number=1000,\n                radius=100, z=0, oiltype='TIA JUANA HEAVY, OIL & GAS')\no2.run(duration=timedelta(hours=12), time_step=900)\n\no3 = OpenOil3D(loglevel=0, weathering_model='noaa')\no3.fallback_values['land_binary_mask'] = 0\no3.fallback_values['x_sea_water_velocity'] = -.2\no3.fallback_values['y_sea_water_velocity'] = 0\no3.fallback_values['x_wind'] = 10\no3.fallback_values['y_wind'] = 0\no3.fallback_values['sea_surface_wave_stokes_drift_x_velocity'] = .3\no3.fallback_values['sea_surface_wave_stokes_drift_y_velocity'] = 0\no3.set_config('wave_entrainment:entrainment_rate', 'Li et al. (2017)')\no3.set_config('wave_entrainment:droplet_size_distribution', 'Johansen et al. (2015)')\no3.set_config('processes:evaporation', False)\no3.set_config('processes:dispersion', False)\no3.set_config('turbulentmixing:droplet_diameter_min_wavebreaking', 1e-6)\no3.set_config('turbulentmixing:droplet_diameter_max_wavebreaking', 1e-3)\no3.seed_elements(lon=4, lat=60, time=datetime.now(), number=1000,\n                 radius=100, z=0, oiltype='TIA JUANA LIGHT, OIL & GAS') #'EKOFISK BLEND, STATOIL' similar ent.\no3.run(duration=timedelta(hours=12), time_step=900)"
      ]
    },
    {
      "cell_type": "markdown",
      "metadata": {},
      "source": [
        "Plotting and comparing\n##########################\n\n"
      ]
    },
    {
      "cell_type": "code",
      "execution_count": null,
      "metadata": {
        "collapsed": false
      },
      "outputs": [],
      "source": [
        "print('#######################')\nprint('Entrainment rate (heavy)', np.mean(o2.oil_wave_entrainment_rate()))\nprint('Entrainment rate (light)', np.mean(o3.oil_wave_entrainment_rate()))\nprint('Viscosity (heavy)', np.mean(o2.elements.viscosity))\nprint('Viscosity (light)', np.mean(o3.elements.viscosity))\nprint('Density (heavy)', np.mean(o2.elements.density))\nprint('Density (light)', np.mean(o3.elements.density))\nprint('#######################')\n\no2.plot_oil_budget()\no3.plot_oil_budget()\nlegend = ['TIA JUANA HEAVY', 'TIA JUANA LIGHT']\no2.animation_profile(compare=o3, legend=legend, filname='entrainment_rate_oil_types.gif')"
      ]
    },
    {
      "cell_type": "markdown",
      "metadata": {},
      "source": [
        "![](/gallery/animations/entrainment_rate_oil_types.gif)\n\n\n"
      ]
    },
    {
      "cell_type": "code",
      "execution_count": null,
      "metadata": {
        "collapsed": false
      },
      "outputs": [],
      "source": [
        "o2.animation(compare=o3, legend=legend, filename='entrainment_rate_oil_types_2.gif')"
      ]
    },
    {
      "cell_type": "markdown",
      "metadata": {},
      "source": [
        "![](/gallery/animations/entrainment_rate_oil_types_2.gif)\n\n\n"
      ]
    }
  ],
  "metadata": {
    "kernelspec": {
      "display_name": "Python 3",
      "language": "python",
      "name": "python3"
    },
    "language_info": {
      "codemirror_mode": {
        "name": "ipython",
        "version": 3
      },
      "file_extension": ".py",
      "mimetype": "text/x-python",
      "name": "python",
      "nbconvert_exporter": "python",
      "pygments_lexer": "ipython3",
      "version": "3.8.1"
    }
  },
  "nbformat": 4,
  "nbformat_minor": 0
}
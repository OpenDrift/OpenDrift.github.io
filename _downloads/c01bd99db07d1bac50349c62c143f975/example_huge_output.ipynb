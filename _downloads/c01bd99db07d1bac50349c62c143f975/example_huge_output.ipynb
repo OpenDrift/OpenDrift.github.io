{
  "cells": [
    {
      "cell_type": "code",
      "execution_count": null,
      "metadata": {
        "collapsed": false
      },
      "outputs": [],
      "source": [
        "%matplotlib inline"
      ]
    },
    {
      "cell_type": "markdown",
      "metadata": {},
      "source": [
        "\n# Analysing huge output files\n"
      ]
    },
    {
      "cell_type": "code",
      "execution_count": null,
      "metadata": {
        "collapsed": false
      },
      "outputs": [],
      "source": [
        "from datetime import datetime, timedelta\nimport opendrift\nfrom opendrift.models.oceandrift import OceanDrift\nfrom opendrift.readers import reader_oscillating\n\n#%\n# First make a simulation with two seedings, marked by *origin_marker*\no = OceanDrift(loglevel=50)\nt1 = datetime.now()\nt2 = t1 + timedelta(hours=6)\nnumber = 10000\noutfile = 'simulation.nc'  # Raw simulation output\no.seed_elements(time=t1, lon=4, lat=60, number=number,\n                origin_marker=0)\no.seed_elements(time=[t1, t2], lon=4.2, lat=60.4, number=number,\n                origin_marker=1)\n\nreader_x = reader_oscillating.Reader('x_sea_water_velocity',\n                amplitude=1, zero_time=t1)\nreader_y = reader_oscillating.Reader('y_sea_water_velocity',\n                amplitude=1, zero_time=t2)\no.add_reader([reader_x, reader_y])\no.set_config('drift:horizontal_diffusivity', 10)\no.run(duration=timedelta(hours=24),\n      time_step=900, time_step_output=1800, outfile=outfile)\n\n#%\n# Opening the output file lazily with Xarray.\n# This will work even if the file is too large to fit in memory, as it\n# will read and process data chuck-by-chunk directly from file using Dask.\n# Note that the analysis file will be re-used if existing. Thus this file should be deleted after making any changes to the simulation above.\no = opendrift.open_xarray(outfile, analysis_file='simulation_density.nc')\n\n#%\n# Making two animations, for each of the two seedings / origin_markere.\n# The calculated density fields will be stored/cached in the analysis file\n# for later re-use, as their calculation may be time consuming\n# for huge output files.\n# Note that other analysis/plotting methods are not yet adapted\n# to datasets opened lazily with open_xarray\nfor om in [0, 1]:\n    o.animation(density=True, density_pixelsize_m=500, fast=False,\n                origin_marker=om, show_elements=False, vmin=0, vmax=200)\n\n#%\n# First seeding"
      ]
    },
    {
      "cell_type": "markdown",
      "metadata": {},
      "source": [
        "<img src=\"file://gallery/animations/example_huge_output_0.gif\">\n\n"
      ]
    },
    {
      "cell_type": "code",
      "execution_count": null,
      "metadata": {
        "collapsed": false
      },
      "outputs": [],
      "source": [
        "#%\n# Second seeding"
      ]
    },
    {
      "cell_type": "markdown",
      "metadata": {},
      "source": [
        "<img src=\"file://gallery/animations/example_huge_output_1.gif\">\n\n"
      ]
    }
  ],
  "metadata": {
    "kernelspec": {
      "display_name": "Python 3",
      "language": "python",
      "name": "python3"
    },
    "language_info": {
      "codemirror_mode": {
        "name": "ipython",
        "version": 3
      },
      "file_extension": ".py",
      "mimetype": "text/x-python",
      "name": "python",
      "nbconvert_exporter": "python",
      "pygments_lexer": "ipython3",
      "version": "3.9.1"
    }
  },
  "nbformat": 4,
  "nbformat_minor": 0
}
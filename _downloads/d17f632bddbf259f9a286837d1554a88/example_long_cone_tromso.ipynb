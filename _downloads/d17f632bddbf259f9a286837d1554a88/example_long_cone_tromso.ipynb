{
  "cells": [
    {
      "cell_type": "code",
      "execution_count": null,
      "metadata": {
        "collapsed": false
      },
      "outputs": [],
      "source": [
        "%matplotlib inline"
      ]
    },
    {
      "cell_type": "markdown",
      "metadata": {},
      "source": [
        "\nCone seeding (Tromso)\n=============\n"
      ]
    },
    {
      "cell_type": "code",
      "execution_count": null,
      "metadata": {
        "collapsed": false
      },
      "outputs": [],
      "source": [
        "from datetime import timedelta\n\nfrom opendrift.readers import reader_netCDF_CF_generic\nfrom opendrift.models.openoil import OpenOil\n\no = OpenOil(loglevel=0)  # Set loglevel to 0 for debug information\n\n# Using live data from Thredds\nreader_arome = reader_netCDF_CF_generic.Reader('http://thredds.met.no/thredds/dodsC/meps25files/meps_det_extracted_2_5km_latest.nc')\nreader_norkyst = reader_netCDF_CF_generic.Reader('http://thredds.met.no/thredds/dodsC/sea/norkyst800m/1h/aggregate_be')\n\no.add_reader([reader_norkyst, reader_arome])\n\n# Seed elements along cone, e.g. ship track with\n# increasing uncertainty in position\nlatstart = 68.988911\nlonstart = 16.040701\n#latstart = 69.477754\n#lonstart = 16.441702\nlatend = 69.991446\nlonend = 17.760061\nlon = [lonstart, lonend]; lat = [latstart, latend]; # Outside Tromso\n\ntime = [reader_arome.start_time,\n        reader_arome.start_time + timedelta(hours=30)]\no.seed_elements(lon, lat, radius=[100, 500], number=10000,\n                time=time, cone=True)\n\nprint(o)\n\n# Adjusting some configuration\no.set_config('processes:dispersion', True)\no.set_config('processes:evaporation', False)\no.set_config('processes:emulsification', True)\n\n# Running model (until end of driver data)\no.run(steps=66*2, time_step=1800)\n\n# Print and plot results\nprint(o)\no.plot()\no.animation(filename=\"cone_tromso.gif\")"
      ]
    },
    {
      "cell_type": "markdown",
      "metadata": {},
      "source": [
        "![](https://camo.githubusercontent.com/af4b84eeee83afd94bc60169834b272b1f064537/68747470733a2f2f646c2e64726f70626f7875736572636f6e74656e742e636f6d2f732f747936646d7166306f6f6865776b792f6f696c7370696c6c5f74726f6d736f652e6769663f646c3d30)\n\n\n"
      ]
    },
    {
      "cell_type": "code",
      "execution_count": null,
      "metadata": {
        "collapsed": false
      },
      "outputs": [],
      "source": [
        "# .. image:: /gallery/animations/cone_tromso.gif"
      ]
    }
  ],
  "metadata": {
    "kernelspec": {
      "display_name": "Python 3",
      "language": "python",
      "name": "python3"
    },
    "language_info": {
      "codemirror_mode": {
        "name": "ipython",
        "version": 3
      },
      "file_extension": ".py",
      "mimetype": "text/x-python",
      "name": "python",
      "nbconvert_exporter": "python",
      "pygments_lexer": "ipython3",
      "version": "3.8.1"
    }
  },
  "nbformat": 4,
  "nbformat_minor": 0
}
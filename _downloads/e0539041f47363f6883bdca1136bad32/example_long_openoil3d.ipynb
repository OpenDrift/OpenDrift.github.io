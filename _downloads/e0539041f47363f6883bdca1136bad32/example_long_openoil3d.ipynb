{
  "cells": [
    {
      "cell_type": "code",
      "execution_count": null,
      "metadata": {
        "collapsed": false
      },
      "outputs": [],
      "source": [
        "%matplotlib inline"
      ]
    },
    {
      "cell_type": "markdown",
      "metadata": {},
      "source": [
        "\nOpenoil 3d\n==================================\n"
      ]
    },
    {
      "cell_type": "code",
      "execution_count": null,
      "metadata": {
        "collapsed": false
      },
      "outputs": [],
      "source": [
        "from datetime import datetime, timedelta\n\nfrom opendrift.readers import reader_netCDF_CF_generic\nfrom opendrift.models.openoil3D import OpenOil3D\n\n# NOAA OilLibrary must be installed to run this example\no = OpenOil3D(loglevel=0, weathering_model='noaa')\n\nprint(o.oiltypes)  # Print available oil types\n\n# Arome\nreader_arome = reader_netCDF_CF_generic.Reader(o.test_data_folder() +\n    '16Nov2015_NorKyst_z_surface/arome_subset_16Nov2015.nc')\n# Norkyst\nreader_norkyst = reader_netCDF_CF_generic.Reader(o.test_data_folder() +\n    '16Nov2015_NorKyst_z_surface/norkyst800_subset_16Nov2015.nc')\n\no.add_reader([reader_norkyst, reader_arome])\n\n# Seeding some particles\nlon = 4.9; lat = 60.1; # Outside Bergen\n#time = [reader_arome.start_time,\n#        reader_arome.start_time + timedelta(hours=30)]\ntime = reader_arome.start_time\n\n# Seed oil elements at defined position and time\no.seed_elements(lon, lat, radius=3000, number=2000, time=time, z=0,\n                #oiltype='GULLFAKS, EXXON')\n                #oiltype='ARABIAN MEDIUM, API')\n                oiltype='ALGERIAN CONDENSATE')\n\n# Adjusting some configuration\no.set_config('processes:evaporation',  True)\no.set_config('processes:emulsification',  True)\no.set_config('processes:turbulentmixing',  True)\no.set_config('turbulentmixing:timestep',  5)\n\n# Running model (until end of driver data)\no.run(steps=4*40, time_step=900,\n      time_step_output=3600,\n      outfile='openoil3d.nc')\n\n# Print and plot results\nprint(o)\no.plot()\no.plot_oil_budget(filename='openoil3d_oil_budget.png')\n#o.plot(filename='openoil3d_drift')\no.plot_vertical_distribution()\no.plot_property('water_fraction', mean=True)\no.plot_property('z')\n#o.plot_property('mass_evaporated')\n#o.plot_property('water_fraction')\n#o.plot_property('interfacial_area')\no.animation(filename='openoil3d.gif')"
      ]
    },
    {
      "cell_type": "markdown",
      "metadata": {},
      "source": [
        "![](/gallery/animations/openoil3d.gif)\n\n\n"
      ]
    }
  ],
  "metadata": {
    "kernelspec": {
      "display_name": "Python 3",
      "language": "python",
      "name": "python3"
    },
    "language_info": {
      "codemirror_mode": {
        "name": "ipython",
        "version": 3
      },
      "file_extension": ".py",
      "mimetype": "text/x-python",
      "name": "python",
      "nbconvert_exporter": "python",
      "pygments_lexer": "ipython3",
      "version": "3.7.3"
    }
  },
  "nbformat": 4,
  "nbformat_minor": 0
}
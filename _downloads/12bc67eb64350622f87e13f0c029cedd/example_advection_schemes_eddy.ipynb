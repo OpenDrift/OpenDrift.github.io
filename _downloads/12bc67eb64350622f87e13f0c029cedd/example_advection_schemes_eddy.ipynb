{
  "cells": [
    {
      "cell_type": "code",
      "execution_count": null,
      "metadata": {
        "collapsed": false
      },
      "outputs": [],
      "source": [
        "%matplotlib inline"
      ]
    },
    {
      "cell_type": "markdown",
      "metadata": {},
      "source": [
        "\nAdvection schemes\n=================\nIllustrating the difference between Euler and Runge-Kutta propagation\nschemes, using an idealised (analytical) eddy current field.\n"
      ]
    },
    {
      "cell_type": "code",
      "execution_count": null,
      "metadata": {
        "collapsed": false
      },
      "outputs": [],
      "source": [
        "from datetime import datetime, timedelta\nfrom opendrift.readers import reader_ArtificialOceanEddy\nfrom opendrift.models.oceandrift import OceanDrift\n\nfake_eddy = reader_ArtificialOceanEddy.Reader(2, 62)\n\nruns = []\nleg = []\nfor scheme in ['euler', 'runge-kutta', 'runge-kutta4']:\n    for time_step  in [1800, 3600*3]:\n        leg.append(scheme + ', T=%.1fh' % (time_step/3600.))\n        print(leg[-1])\n        o = OceanDrift(loglevel=50)\n        o.fallback_values['land_binary_mask'] = 0\n        o.set_config('drift:scheme', scheme)\n        o.add_reader(fake_eddy)\n        o.seed_elements(lon=2.0, lat=63.0, time=datetime.now())\n        o.set_config('drift:vertical_mixing', False)\n        o.run(duration=timedelta(days=9), time_step=time_step)\n        runs.append(o)\n\nruns[0].plot(compare=runs[1:], legend=leg, fast=True, buffer=.3)"
      ]
    }
  ],
  "metadata": {
    "kernelspec": {
      "display_name": "Python 3",
      "language": "python",
      "name": "python3"
    },
    "language_info": {
      "codemirror_mode": {
        "name": "ipython",
        "version": 3
      },
      "file_extension": ".py",
      "mimetype": "text/x-python",
      "name": "python",
      "nbconvert_exporter": "python",
      "pygments_lexer": "ipython3",
      "version": "3.8.3"
    }
  },
  "nbformat": 4,
  "nbformat_minor": 0
}
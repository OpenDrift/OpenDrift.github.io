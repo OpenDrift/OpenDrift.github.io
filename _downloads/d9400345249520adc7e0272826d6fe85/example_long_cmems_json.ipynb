{
  "cells": [
    {
      "cell_type": "code",
      "execution_count": null,
      "metadata": {
        "collapsed": false
      },
      "outputs": [],
      "source": [
        "%matplotlib inline"
      ]
    },
    {
      "cell_type": "markdown",
      "metadata": {},
      "source": [
        "\n# Initialising reader from JSON string\n"
      ]
    },
    {
      "cell_type": "code",
      "execution_count": null,
      "metadata": {
        "collapsed": false
      },
      "outputs": [],
      "source": [
        "from datetime import datetime, timedelta\nfrom opendrift.models.leeway import Leeway\n\no = Leeway()"
      ]
    },
    {
      "cell_type": "markdown",
      "metadata": {},
      "source": [
        "Adding a CMEMS reader as a JSON string, and NCEP winds from thredds URL.\nFor CMEMS, username or password must be stored in a .netrc file under\nmachine name \"cmems\", or provided explicitly instead of *null*\n\n"
      ]
    },
    {
      "cell_type": "code",
      "execution_count": null,
      "metadata": {
        "collapsed": false
      },
      "outputs": [],
      "source": [
        "o.add_readers_from_list(['{\"reader\": \"reader_cmems\", \"dataset\": \"global-analysis-forecast-phy-001-024-hourly-t-u-v-ssh\", \"cmems_user\": null, \"cmems_password\": null}',\n    'https://pae-paha.pacioos.hawaii.edu/thredds/dodsC/ncep_global/NCEP_Global_Atmospheric_Model_best.ncd'])\n\no.seed_elements(time=datetime.utcnow(), lon=123, lat=-16.1,\n                number=1000, radius=1000)\n\no.run(duration=timedelta(hours=72))\n\nprint(o)\n\no.animation(fast=False, skip=1, scale=10, background=\n            ['x_sea_water_velocity', 'y_sea_water_velocity'])"
      ]
    }
  ],
  "metadata": {
    "kernelspec": {
      "display_name": "Python 3",
      "language": "python",
      "name": "python3"
    },
    "language_info": {
      "codemirror_mode": {
        "name": "ipython",
        "version": 3
      },
      "file_extension": ".py",
      "mimetype": "text/x-python",
      "name": "python",
      "nbconvert_exporter": "python",
      "pygments_lexer": "ipython3",
      "version": "3.9.2"
    }
  },
  "nbformat": 4,
  "nbformat_minor": 0
}
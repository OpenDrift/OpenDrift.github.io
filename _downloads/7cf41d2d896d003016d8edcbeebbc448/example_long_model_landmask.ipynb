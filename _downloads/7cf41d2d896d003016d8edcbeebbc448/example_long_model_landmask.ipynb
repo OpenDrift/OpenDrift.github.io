{
  "cells": [
    {
      "cell_type": "code",
      "execution_count": null,
      "metadata": {
        "collapsed": false
      },
      "outputs": [],
      "source": [
        "%matplotlib inline"
      ]
    },
    {
      "cell_type": "markdown",
      "metadata": {},
      "source": [
        "\nModel landmask\n===============================\n\nComparing two simulation runs, with and without wind\n"
      ]
    },
    {
      "cell_type": "code",
      "execution_count": null,
      "metadata": {
        "collapsed": false
      },
      "outputs": [],
      "source": [
        "#!/usr/bin/env python\n\n# Comparing two simulation runs, with and without wind\n\nfrom datetime import timedelta\n\nfrom opendrift.readers import reader_ROMS_native\nfrom opendrift.models.oceandrift import OceanDrift\n\nlon = 14.75; lat = 68.1\n\no = OceanDrift(loglevel=0)\n\nreader_nordic = reader_ROMS_native.Reader(o.test_data_folder() +\n    '2Feb2016_Nordic_sigma_3d/Nordic-4km_SLEVELS_avg_00_subset2Feb2016.nc')\n\n# First run, with landmask\no.add_reader([reader_nordic])\ntime = reader_nordic.start_time\no.seed_elements(lon, lat, radius=3000, number=1000, time=time)\no.set_config('general:use_auto_landmask', True)\no.run(end_time=reader_nordic.end_time, time_step=1800)\n\n# Second run, with landmask from ocean model\no2 = OceanDrift(loglevel=0)\no2.add_reader([reader_nordic])\nlon = 14.75; lat = 68.1\no2.seed_elements(lon, lat, radius=3000, number=1000, time=time)\no2.set_config('general:use_auto_landmask', False)\no2.run(end_time=reader_nordic.end_time, time_step=1800)\n\n\n# Animation illustrating that red particles strand at ocean model land cells, and black particles strand at Basemap land polygons\no.animation(compare=o2, background='land_binary_mask',\n            legend=['Landmask', 'Ocean model landmask'])"
      ]
    }
  ],
  "metadata": {
    "kernelspec": {
      "display_name": "Python 3",
      "language": "python",
      "name": "python3"
    },
    "language_info": {
      "codemirror_mode": {
        "name": "ipython",
        "version": 3
      },
      "file_extension": ".py",
      "mimetype": "text/x-python",
      "name": "python",
      "nbconvert_exporter": "python",
      "pygments_lexer": "ipython3",
      "version": "3.8.1"
    }
  },
  "nbformat": 4,
  "nbformat_minor": 0
}
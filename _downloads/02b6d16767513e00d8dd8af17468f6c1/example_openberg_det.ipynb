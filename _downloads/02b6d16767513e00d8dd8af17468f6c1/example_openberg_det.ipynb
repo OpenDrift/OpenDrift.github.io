{
  "cells": [
    {
      "cell_type": "code",
      "execution_count": null,
      "metadata": {
        "collapsed": false
      },
      "outputs": [],
      "source": [
        "%matplotlib inline"
      ]
    },
    {
      "cell_type": "markdown",
      "metadata": {},
      "source": [
        "\n# Ice berg (openberg) deterministic\n"
      ]
    },
    {
      "cell_type": "code",
      "execution_count": null,
      "metadata": {
        "collapsed": false
      },
      "outputs": [],
      "source": [
        "from opendrift.readers import reader_netCDF_CF_generic\nfrom opendrift.models.openberg import OpenBerg"
      ]
    },
    {
      "cell_type": "markdown",
      "metadata": {},
      "source": [
        "Initialize model\n\n"
      ]
    },
    {
      "cell_type": "code",
      "execution_count": null,
      "metadata": {
        "collapsed": false
      },
      "outputs": [],
      "source": [
        "steps = 60  # This is the number of forecast steps\n\no = OpenBerg()  # Basic drift model suitable for icebergs"
      ]
    },
    {
      "cell_type": "markdown",
      "metadata": {},
      "source": [
        "Preparing Readers\n\n"
      ]
    },
    {
      "cell_type": "code",
      "execution_count": null,
      "metadata": {
        "collapsed": false
      },
      "outputs": [],
      "source": [
        "reader_current = reader_netCDF_CF_generic.Reader(o.test_data_folder() +\n   '16Nov2015_NorKyst_z_surface/norkyst800_subset_16Nov2015.nc')\n\nreader_wind = reader_netCDF_CF_generic.Reader(o.test_data_folder() +\n   '16Nov2015_NorKyst_z_surface/arome_subset_16Nov2015.nc')\n\no.add_reader([reader_current, reader_wind])"
      ]
    },
    {
      "cell_type": "markdown",
      "metadata": {},
      "source": [
        "Seeding elements\n\n Icebergs are moved with the ocean current as per Barker et al (2004),\n in addition to a fraction of the wind speed (wind_drift_factor).\n This factor depends on the properties of the elements.\n Default empirical values are:\n - Wind drift fraction: 0.018 (1.8 %) (Garret 1985)\n - Iceberg size: \tKeel dept = 60m\n\t\t\t\t\tWaterline length = 90.5m\n\n"
      ]
    },
    {
      "cell_type": "code",
      "execution_count": null,
      "metadata": {
        "collapsed": false
      },
      "outputs": [],
      "source": [
        "o.seed_elements(3.3, 60., radius=3000,\n                time=reader_current.start_time,\n                water_line_length=100,\n                keel_depth=90, number=200)\n\n\nprint('Starting free run .../n')\n\nprint('Start time: ' + str(o.start_time))"
      ]
    },
    {
      "cell_type": "markdown",
      "metadata": {},
      "source": [
        "Running model\n\n"
      ]
    },
    {
      "cell_type": "code",
      "execution_count": null,
      "metadata": {
        "collapsed": false
      },
      "outputs": [],
      "source": [
        "o.run(time_step=3600, steps=steps)"
      ]
    },
    {
      "cell_type": "markdown",
      "metadata": {},
      "source": [
        "Print and plot results\n\n"
      ]
    },
    {
      "cell_type": "code",
      "execution_count": null,
      "metadata": {
        "collapsed": false
      },
      "outputs": [],
      "source": [
        "o.plot(fast=True)\no.animation(fast=True)"
      ]
    },
    {
      "cell_type": "markdown",
      "metadata": {},
      "source": [
        "<img src=\"file://gallery/animations/example_openberg_det_0.gif\">\n\n"
      ]
    },
    {
      "cell_type": "code",
      "execution_count": null,
      "metadata": {
        "collapsed": false
      },
      "outputs": [],
      "source": [
        "print('############## Latitudes:', o.history['lat'])\nprint('############## Longitudes:',o.history['lon'])"
      ]
    }
  ],
  "metadata": {
    "kernelspec": {
      "display_name": "Python 3",
      "language": "python",
      "name": "python3"
    },
    "language_info": {
      "codemirror_mode": {
        "name": "ipython",
        "version": 3
      },
      "file_extension": ".py",
      "mimetype": "text/x-python",
      "name": "python",
      "nbconvert_exporter": "python",
      "pygments_lexer": "ipython3",
      "version": "3.8.6"
    }
  },
  "nbformat": 4,
  "nbformat_minor": 0
}
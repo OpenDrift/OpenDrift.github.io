{
  "cells": [
    {
      "cell_type": "code",
      "execution_count": null,
      "metadata": {
        "collapsed": false
      },
      "outputs": [],
      "source": [
        "%matplotlib inline"
      ]
    },
    {
      "cell_type": "markdown",
      "metadata": {},
      "source": [
        "\n# Leeway\n"
      ]
    },
    {
      "cell_type": "code",
      "execution_count": null,
      "metadata": {
        "collapsed": false
      },
      "outputs": [],
      "source": [
        "from datetime import timedelta\nfrom opendrift.readers import reader_netCDF_CF_generic\nfrom opendrift.models.leeway import Leeway\n\nlw = Leeway(loglevel=20)  # Set loglevel to 0 for debug information\n\n# Atmospheric model for wind\n#reader_arome = reader_netCDF_CF_generic.Reader('https://thredds.met.no/thredds/dodsC/mepslatest/meps_lagged_6_h_latest_2_5km_latest.nc')\nreader_arome = reader_netCDF_CF_generic.Reader(lw.test_data_folder() +\n    '16Nov2015_NorKyst_z_surface/arome_subset_16Nov2015.nc')\n\n# Ocean model for current\n#reader_norkyst = reader_netCDF_CF_generic.Reader('https://thredds.met.no/thredds/dodsC/mepslatest/meps_lagged_6_h_latest_2_5km_latest.nc')\nreader_norkyst = reader_netCDF_CF_generic.Reader(lw.test_data_folder() +\n    '16Nov2015_NorKyst_z_surface/norkyst800_subset_16Nov2015.nc')"
      ]
    },
    {
      "cell_type": "markdown",
      "metadata": {},
      "source": [
        "Adding readers successively, and specifying which variables they\nshall provide. This way, order of adding readers does not matter\n\n"
      ]
    },
    {
      "cell_type": "code",
      "execution_count": null,
      "metadata": {
        "collapsed": false
      },
      "outputs": [],
      "source": [
        "lw.add_reader(reader_norkyst,\n              variables=['x_sea_water_velocity', 'y_sea_water_velocity'])\nlw.add_reader(reader_arome, variables=['x_wind', 'y_wind'])\nlw.set_config('environment:fallback:x_sea_water_velocity', 0)\nlw.set_config('environment:fallback:y_sea_water_velocity', 0)"
      ]
    },
    {
      "cell_type": "markdown",
      "metadata": {},
      "source": [
        "Seed leeway elements at defined position and time\n\n"
      ]
    },
    {
      "cell_type": "code",
      "execution_count": null,
      "metadata": {
        "collapsed": false
      },
      "outputs": [],
      "source": [
        "objType = 26  # 26 = Life-raft, no ballast\nlw.seed_elements(lon=4.5, lat=59.6, radius=100, number=1000,\n                 time=reader_arome.start_time, objectType=objType)"
      ]
    },
    {
      "cell_type": "markdown",
      "metadata": {},
      "source": [
        "Running model\n\n"
      ]
    },
    {
      "cell_type": "code",
      "execution_count": null,
      "metadata": {
        "collapsed": false
      },
      "outputs": [],
      "source": [
        "lw.run(duration=timedelta(hours=48), time_step=900, time_step_output=3600)"
      ]
    },
    {
      "cell_type": "markdown",
      "metadata": {},
      "source": [
        "Print and plot results\n\n"
      ]
    },
    {
      "cell_type": "code",
      "execution_count": null,
      "metadata": {
        "collapsed": false
      },
      "outputs": [],
      "source": [
        "print(lw)"
      ]
    },
    {
      "cell_type": "markdown",
      "metadata": {},
      "source": [
        "Animation with current as background.\nNote that drift is also depending on wind, which is not shown.\n\n"
      ]
    },
    {
      "cell_type": "code",
      "execution_count": null,
      "metadata": {
        "collapsed": false
      },
      "outputs": [],
      "source": [
        "lw.animation(background=['x_sea_water_velocity', 'y_sea_water_velocity'],\n             fast=True)"
      ]
    },
    {
      "cell_type": "markdown",
      "metadata": {},
      "source": [
        "<img src=\"file://gallery/animations/example_leeway_0.gif\">\n\n"
      ]
    },
    {
      "cell_type": "code",
      "execution_count": null,
      "metadata": {
        "collapsed": false
      },
      "outputs": [],
      "source": [
        "lw.plot(fast=True)"
      ]
    }
  ],
  "metadata": {
    "kernelspec": {
      "display_name": "Python 3",
      "language": "python",
      "name": "python3"
    },
    "language_info": {
      "codemirror_mode": {
        "name": "ipython",
        "version": 3
      },
      "file_extension": ".py",
      "mimetype": "text/x-python",
      "name": "python",
      "nbconvert_exporter": "python",
      "pygments_lexer": "ipython3",
      "version": "3.9.1"
    }
  },
  "nbformat": 4,
  "nbformat_minor": 0
}
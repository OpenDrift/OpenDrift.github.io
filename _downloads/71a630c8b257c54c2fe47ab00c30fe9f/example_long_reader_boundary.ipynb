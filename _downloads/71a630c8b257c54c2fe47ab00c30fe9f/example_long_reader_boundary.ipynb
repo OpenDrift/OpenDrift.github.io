{
  "cells": [
    {
      "cell_type": "code",
      "execution_count": null,
      "metadata": {
        "collapsed": false
      },
      "outputs": [],
      "source": [
        "%matplotlib inline"
      ]
    },
    {
      "cell_type": "markdown",
      "metadata": {},
      "source": [
        "\nReader boundary\n==================================\n\nSeeding elements around the border of a ocean model domain (NorKyst800)\nto demonstrate autmatic transition back and forth with another model\ncovering a larger domain (Nordic).\n"
      ]
    },
    {
      "cell_type": "code",
      "execution_count": null,
      "metadata": {
        "collapsed": false
      },
      "outputs": [],
      "source": [
        "import numpy as np\n\nfrom opendrift.readers import reader_global_landmask\nfrom opendrift.readers import reader_netCDF_CF_generic\nfrom opendrift.models.oceandrift import OceanDrift\n\no = OceanDrift(loglevel=0)  # Set loglevel to 0 for debug information\n\n# Norkyst\nreader_norkyst = reader_netCDF_CF_generic.Reader('http://thredds.met.no/thredds/dodsC/sea/norkyst800m/1h/aggregate_be')\n\n# Nordic4\nreader_nordic4 = reader_netCDF_CF_generic.Reader('http://thredds.met.no/thredds/dodsC/sea/nordic4km/zdepths1h/aggregate_be')\n\n# Landmask\n#reader_landmask = reader_global_landmask.Reader(\n#                    llcrnrlon=9.5, llcrnrlat=68.8,\n#                    urcrnrlon=19.0, urcrnrlat=71.2)\n#\n#o.add_reader([reader_landmask, reader_norkyst, reader_nordic4])\no.add_reader([reader_norkyst, reader_nordic4])\n#o.add_reader([reader_landmask, reader_norkyst])\n\n# Seeding some particles\nlons = np.linspace(10.2, 12.2, 50)\nlats = np.linspace(69.8, 70.8, 50)\nlons, lats = np.meshgrid(lons, lats)\nlons = lons.ravel()\nlats = lats.ravel()\n\n# Seed oil elements at defined position and time\no.seed_elements(lons, lats, radius=0, number=2500,\n                time=reader_norkyst.start_time)\n\n# Running model (until end of driver data)\no.run(steps=16*4, time_step=900)\n\n# Print and plot results\nprint(o)\no.animation(filename='reader_boundary.gif')"
      ]
    },
    {
      "cell_type": "markdown",
      "metadata": {},
      "source": [
        "![](/gallery/animations/reader_boundary.gif)\n\n\n"
      ]
    }
  ],
  "metadata": {
    "kernelspec": {
      "display_name": "Python 3",
      "language": "python",
      "name": "python3"
    },
    "language_info": {
      "codemirror_mode": {
        "name": "ipython",
        "version": 3
      },
      "file_extension": ".py",
      "mimetype": "text/x-python",
      "name": "python",
      "nbconvert_exporter": "python",
      "pygments_lexer": "ipython3",
      "version": "3.7.6"
    }
  },
  "nbformat": 4,
  "nbformat_minor": 0
}
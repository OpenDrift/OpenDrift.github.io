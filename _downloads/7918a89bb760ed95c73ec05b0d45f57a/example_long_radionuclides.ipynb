{
  "cells": [
    {
      "cell_type": "code",
      "execution_count": null,
      "metadata": {
        "collapsed": false
      },
      "outputs": [],
      "source": [
        "%matplotlib inline"
      ]
    },
    {
      "cell_type": "markdown",
      "metadata": {},
      "source": [
        "\nRadionuclides\n=============\n"
      ]
    },
    {
      "cell_type": "code",
      "execution_count": null,
      "metadata": {
        "collapsed": false
      },
      "outputs": [],
      "source": [
        "#!/usr/bin/env python\n\n\nfrom opendrift.readers import reader_netCDF_CF_generic, reader_ROMS_native\nfrom opendrift.models.radionuclides import RadionuclideDrift\nfrom datetime import timedelta, datetime\nimport numpy as np\nfrom numpy import dtype\n\n\n\n\no = RadionuclideDrift(\n                      loglevel=20,seed=0)  # Set loglevel to 0 for debug information\n\n# Arome\n#reader_arome = reader_netCDF_CF_generic.Reader(o.test_data_folder() + '16Nov2015_NorKyst_z_surface/arome_subset_16Nov2015.nc')\n#reader_arome = reader_netCDF_CF_generic.Reader('http://thredds.met.no/thredds/dodsC/meps25files/meps_det_extracted_2_5km_latest.nc')\n\n# Norkyst\n#reader_norkyst = reader_netCDF_CF_generic.Reader(o.test_data_folder() + '/14Jan2016_NorKyst_z_3d/NorKyst-800m_ZDEPTHS_his_00_3Dsubset.nc')\nreader_norkyst = reader_netCDF_CF_generic.Reader('http://thredds.met.no/thredds/dodsC/sea/norkyst800m/1h/aggregate_be')\n\n#o.add_reader([reader_norkyst, reader_arome])\no.add_reader([reader_norkyst])\n\n#time = reader_norkyst.start_time\ntd=datetime.today()\ntime = datetime(td.year, td.month, td.day,0)\n\n#latseed= 61.2; lonseed= 4.3    # Sognesjen\nlatseed= 59.0;   lonseed= 10.75 # Hvaler/Koster\n\n\n\nntraj=2000\niniz=np.random.rand(ntraj) * -10.         # seeding the radionuclides in the upper 10m\ninit_speciation = np.ones(ntraj)*0\ndiam=np.zeros_like(init_speciation,dtype=np.float32)\no.seed_elements(lonseed, latseed, z=iniz, radius=100,number=ntraj,\n                time=time,\n                diameter=diam, specie=init_speciation)\n\ninit_speciation = np.ones(ntraj)*1\ndiam=np.zeros_like(init_speciation,dtype=np.float32) * 5.e-6\no.seed_elements(lonseed, latseed, z=iniz, radius=100,number=ntraj,\n                time=time,\n                diameter=diam, specie=init_speciation)\n\n# init_speciation = np.ones(ntraj)*2\n# o.seed_elements(lonseed, latseed, z=iniz, radius=100,number=ntraj,\n#                 time=time,\n#                 diameter=diam, specie=init_speciation)\n\n# Adjusting some configuration\no.set_config('processes:turbulentmixing', True)\no.set_config('turbulentmixing:diffusivitymodel','zero')  # include settling without vertical turbulent mixing\n#o.set_config('turbulentmixing:diffusivitymodel','environment')  # include settling without vertical turbulent mixing\n# Vertical mixing requires fast time step\no.set_config('turbulentmixing:timestep', 600.) # seconds\n\n# Activate the desired species\no.set_config('radionuclide:species:LMM', True)\n#o.set_config('radionuclide:species:LMMcation', True)\n#o.set_config('radionuclide:species:LMManion', True)\n#o.set_config('radionuclide:species:Colloid', True)\n#o.set_config('radionuclide:species:Humic_colloid', True)\n#o.set_config('radionuclide:species:Polymer', True)\no.set_config('radionuclide:species:Particle_reversible', True)\n#o.set_config('radionuclide:species:Particle_irreversible', True)\no.set_config('radionuclide:species:Particle_slowly_reversible', True)\n\no.set_config('radionuclide:species:Sediment_reversible', True)\n#o.set_config('radionuclide:species:Sediment_irreversible', True)\no.set_config('radionuclide:species:Sediment_slowly_reversible', True)\n\no.set_config('radionuclide:particle_diameter',5.e-6)  # m\n#o.set_config('radionuclide:particle_diameter_uncertainty',1.e-7) # m\no.set_config('radionuclide:transformations:Kd',2.e0) # (m3/kg)\n#o.set_config('radionuclide:transformations:slow_coeff',1.e-6)\n\no.set_config('radionuclide:sediment:resuspension_depth',2.)\no.set_config('radionuclide:sediment:resuspension_depth_uncert',0.1)\no.set_config('radionuclide:sediment:resuspension_critvel',0.15)\n\n\n#\n#o.set_config('radionuclide:transfer_setup','dummy')\no.set_config('radionuclide:transfer_setup','Bokna_137Cs')\n#o.set_config('radionuclide:transfer_setup','Sandnesfj_Al')\n\n# By default, radionuclides do not strand towards coastline\no.set_config('general:coastline_action', 'previous')\n\n#o.set_config('general:use_auto_landmask',False)\n\no.list_configspec()\n\n# Running model (until end of driver data)\no.run(steps=48*2, time_step=1800,outfile='radio.nc')\n\n\n# Print and plot results\nprint(o)\nprint('Final speciation:')\nfor isp,sp in enumerate(o.name_species):\n    print ('{:32}: {:>6}'.format(sp,sum(o.elements.specie==isp)))\n\nprint('Number of transformations:')\nprint (o.ntransformations)\n\n\no.animation(color='specie',\n            vmin=0,vmax=o.nspecies-1,\n            colorbar=True,\n            filename='radionuclides.gif'\n\n#            fast = True\n            )"
      ]
    },
    {
      "cell_type": "markdown",
      "metadata": {},
      "source": [
        "![](/gallery/animations/radionuclides.gif)\n\n\n"
      ]
    },
    {
      "cell_type": "code",
      "execution_count": null,
      "metadata": {
        "collapsed": false
      },
      "outputs": [],
      "source": [
        "#o.plot_vertical_distribution()\n#o.plot_property('specie')\no.animation_profile(filename='radionuclides_profile.gif')"
      ]
    },
    {
      "cell_type": "markdown",
      "metadata": {},
      "source": [
        "![](/gallery/animations/radionuclides_profile.gif)\n\n\n"
      ]
    },
    {
      "cell_type": "code",
      "execution_count": null,
      "metadata": {
        "collapsed": false
      },
      "outputs": [],
      "source": [
        "o.plot(linecolor='specie',vmin=0,vmax=o.nspecies-1,#fast=True,\n#       background='land_binary_mask',\n       #background='sea_floor_depth_below_sea_level'\n       )"
      ]
    }
  ],
  "metadata": {
    "kernelspec": {
      "display_name": "Python 3",
      "language": "python",
      "name": "python3"
    },
    "language_info": {
      "codemirror_mode": {
        "name": "ipython",
        "version": 3
      },
      "file_extension": ".py",
      "mimetype": "text/x-python",
      "name": "python",
      "nbconvert_exporter": "python",
      "pygments_lexer": "ipython3",
      "version": "3.7.6"
    }
  },
  "nbformat": 4,
  "nbformat_minor": 0
}
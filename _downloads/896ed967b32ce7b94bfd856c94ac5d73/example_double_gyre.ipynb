{
  "cells": [
    {
      "cell_type": "markdown",
      "metadata": {},
      "source": [
        "\n# Double gyre\n\nDrift in an idealised (analytical) double gyre eddy current field from\nhttps://shaddenlab.berkeley.edu/uploads/LCS-tutorial/examples.html\n"
      ]
    },
    {
      "cell_type": "code",
      "execution_count": null,
      "metadata": {
        "collapsed": false
      },
      "outputs": [],
      "source": [
        "from datetime import datetime, timedelta\n\nfrom opendrift.readers import reader_double_gyre\nfrom opendrift.models.oceandrift import OceanDrift\n\no = OceanDrift(loglevel=20)  # Set loglevel to 0 for debug information\no.set_config('environment:fallback:land_binary_mask', 0)\no.set_config('drift:advection_scheme', 'runge-kutta4')\n\ndouble_gyre = reader_double_gyre.Reader(epsilon=.25, omega=0.628, A=0.1)\nprint (double_gyre)\n\no.add_reader(double_gyre)\n\nx = [.9]\ny = [.5]\nlon, lat = double_gyre.xy2lonlat(x, y)\n\no.seed_elements(lon, lat, radius=.1, number=5000,\n                time=double_gyre.initial_time)\n\no.run(duration=timedelta(seconds=10), time_step=0.1)\no.animation(buffer=0, hide_landmask=True)"
      ]
    },
    {
      "cell_type": "markdown",
      "metadata": {},
      "source": [
        "<img src=\"file://gallery/animations/example_double_gyre_0.gif\">\n\n"
      ]
    },
    {
      "cell_type": "code",
      "execution_count": null,
      "metadata": {
        "collapsed": false
      },
      "outputs": [],
      "source": [
        "o.plot(buffer=0, hide_landmask=True)"
      ]
    }
  ],
  "metadata": {
    "kernelspec": {
      "display_name": "Python 3",
      "language": "python",
      "name": "python3"
    },
    "language_info": {
      "codemirror_mode": {
        "name": "ipython",
        "version": 3
      },
      "file_extension": ".py",
      "mimetype": "text/x-python",
      "name": "python",
      "nbconvert_exporter": "python",
      "pygments_lexer": "ipython3",
      "version": "3.11.3"
    }
  },
  "nbformat": 4,
  "nbformat_minor": 0
}
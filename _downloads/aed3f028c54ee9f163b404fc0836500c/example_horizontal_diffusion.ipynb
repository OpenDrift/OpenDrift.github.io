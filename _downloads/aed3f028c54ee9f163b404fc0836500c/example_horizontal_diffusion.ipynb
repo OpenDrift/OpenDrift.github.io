{
  "cells": [
    {
      "cell_type": "markdown",
      "metadata": {},
      "source": [
        "\n# Horizontal diffusion\n"
      ]
    },
    {
      "cell_type": "code",
      "execution_count": null,
      "metadata": {
        "collapsed": false
      },
      "outputs": [],
      "source": [
        "from datetime import datetime, timedelta\nfrom opendrift.readers import reader_netCDF_CF_generic\nfrom opendrift.models.oceandrift import OceanDrift\n\nlon = 4.5; lat = 60.0; # Outside Bergen\n\no = OceanDrift(loglevel=20)  # Set loglevel to 0 for debug information"
      ]
    },
    {
      "cell_type": "markdown",
      "metadata": {},
      "source": [
        "Adding readers\n\n"
      ]
    },
    {
      "cell_type": "code",
      "execution_count": null,
      "metadata": {
        "collapsed": false
      },
      "outputs": [],
      "source": [
        "# Arome atmospheric model\nreader_arome = reader_netCDF_CF_generic.Reader(o.test_data_folder() + '16Nov2015_NorKyst_z_surface/arome_subset_16Nov2015.nc')\n# Norkyst ocean model\nreader_norkyst = reader_netCDF_CF_generic.Reader(o.test_data_folder() + '16Nov2015_NorKyst_z_surface/norkyst800_subset_16Nov2015.nc')\n# Uncomment to use live data from thredds\n#reader_arome = reader_netCDF_CF_generic.Reader('https://thredds.met.no/thredds/dodsC/mepslatest/meps_lagged_6_h_latest_2_5km_latest.nc')\n#reader_norkyst = reader_netCDF_CF_generic.Reader('https://thredds.met.no/thredds/dodsC/sea/norkyst800m/1h/aggregate_be')\n\no.add_reader([reader_norkyst, reader_arome])\ntime = reader_arome.start_time\no.seed_elements(lon, lat, radius=500, number=2000, time=time)"
      ]
    },
    {
      "cell_type": "markdown",
      "metadata": {},
      "source": [
        "First run, with no horizontal diffusion\n\n"
      ]
    },
    {
      "cell_type": "code",
      "execution_count": null,
      "metadata": {
        "collapsed": false
      },
      "outputs": [],
      "source": [
        "o.set_config('drift:current_uncertainty', 0)\no.set_config('drift:wind_uncertainty', 0)\no.run(duration=timedelta(hours=24))"
      ]
    },
    {
      "cell_type": "markdown",
      "metadata": {},
      "source": [
        "Second run, identical, except for added diffusion\n\n"
      ]
    },
    {
      "cell_type": "code",
      "execution_count": null,
      "metadata": {
        "collapsed": false
      },
      "outputs": [],
      "source": [
        "o2 = OceanDrift(loglevel=20)  # Set loglevel to 0 for debug information\no2.add_reader([reader_norkyst, reader_arome])\no2.seed_elements(lon, lat, radius=500, number=2000, time=time)\n#o2.set_config('drift:current_uncertainty', .2) # Difference from first run\n#o2.set_config('drift:wind_uncertainty', 1)     # Difference from first run\no2.set_config('drift:horizontal_diffusivity', 10)     # Difference from first run\no2.run(duration=timedelta(hours=24))"
      ]
    },
    {
      "cell_type": "markdown",
      "metadata": {},
      "source": [
        "Third run, identical, except for diffusion and shorter timestep\n\n"
      ]
    },
    {
      "cell_type": "code",
      "execution_count": null,
      "metadata": {
        "collapsed": false
      },
      "outputs": [],
      "source": [
        "o3 = OceanDrift(loglevel=20)  # Set loglevel to 0 for debug information\no3.add_reader([reader_norkyst, reader_arome])\no3.seed_elements(lon, lat, radius=500, number=2000, time=time)\n#o3.set_config('drift:current_uncertainty', .2) # Difference from first run\n#o3.set_config('drift:wind_uncertainty', 1)     # Difference from first run\no3.set_config('drift:horizontal_diffusivity', 10)     # Difference from first run\no3.run(duration=timedelta(hours=24), time_step=300, time_step_output=3600)"
      ]
    },
    {
      "cell_type": "markdown",
      "metadata": {},
      "source": [
        "Comparing\n\n"
      ]
    },
    {
      "cell_type": "code",
      "execution_count": null,
      "metadata": {
        "collapsed": false
      },
      "outputs": [],
      "source": [
        "o2.animation(compare=[o3, o], legend=['Diffusion, timstep 3600s', 'Diffusion, timestep 300s', 'No diffusion'],\n             legend_loc='upper center', fast=True)"
      ]
    },
    {
      "cell_type": "markdown",
      "metadata": {},
      "source": [
        "<img src=\"file://gallery/animations/example_horizontal_diffusion_0.gif\">\n\n"
      ]
    }
  ],
  "metadata": {
    "kernelspec": {
      "display_name": "Python 3",
      "language": "python",
      "name": "python3"
    },
    "language_info": {
      "codemirror_mode": {
        "name": "ipython",
        "version": 3
      },
      "file_extension": ".py",
      "mimetype": "text/x-python",
      "name": "python",
      "nbconvert_exporter": "python",
      "pygments_lexer": "ipython3",
      "version": "3.11.4"
    }
  },
  "nbformat": 4,
  "nbformat_minor": 0
}
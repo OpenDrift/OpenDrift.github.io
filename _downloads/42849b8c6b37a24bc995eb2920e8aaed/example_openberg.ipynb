{
  "cells": [
    {
      "cell_type": "markdown",
      "metadata": {},
      "source": [
        "\n# Icebergs (OpenBerg module)\n"
      ]
    },
    {
      "cell_type": "code",
      "execution_count": null,
      "metadata": {
        "collapsed": false
      },
      "outputs": [],
      "source": [
        "from opendrift.models.openberg import OpenBerg\nfrom datetime import datetime,timedelta\n \no = OpenBerg(add_stokes_drift = True,\n             wave_rad = True,\n             grounding = False,\n             vertical_profile = False,\n             melting = False,\n             choose_melting  = {\"wave\": True, \"lateral\": True, \"basal\": True})\n\no.add_readers_from_list([\n        'https://thredds.met.no/thredds/dodsC/cmems/topaz6/dataset-topaz6-arc-15min-3km-be.ncml',\n        'https://pae-paha.pacioos.hawaii.edu/thredds/dodsC/ncep_global/NCEP_Global_Atmospheric_Model_best.ncd'])\n\n\no.seed_elements(lon= -57,lat= 69,time=datetime.now(), number=1000, radius=1000)\no.run(duration=timedelta(days=2)) \no.plot(fast=True)"
      ]
    }
  ],
  "metadata": {
    "kernelspec": {
      "display_name": "Python 3",
      "language": "python",
      "name": "python3"
    },
    "language_info": {
      "codemirror_mode": {
        "name": "ipython",
        "version": 3
      },
      "file_extension": ".py",
      "mimetype": "text/x-python",
      "name": "python",
      "nbconvert_exporter": "python",
      "pygments_lexer": "ipython3",
      "version": "3.11.6"
    }
  },
  "nbformat": 4,
  "nbformat_minor": 0
}
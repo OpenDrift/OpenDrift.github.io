{
  "cells": [
    {
      "cell_type": "markdown",
      "metadata": {},
      "source": [
        "\n# Icebergs (openberg)\n"
      ]
    },
    {
      "cell_type": "code",
      "execution_count": null,
      "metadata": {
        "collapsed": false
      },
      "outputs": [],
      "source": [
        "from opendrift.models.openberg import OpenBerg\nfrom datetime import datetime,timedelta\n \no = OpenBerg()\n\n# The user can overwrite the default setup using set_config method\no.set_config('drift:vertical_profile', False) # use surface currents for this test\n\n\n\no.add_readers_from_list([\n        'https://thredds.met.no/thredds/dodsC/cmems/topaz6/dataset-topaz6-arc-15min-3km-be.ncml',\n        'https://pae-paha.pacioos.hawaii.edu/thredds/dodsC/ncep_global/NCEP_Global_Atmospheric_Model_best.ncd'])\n\n\no.seed_elements(lon= -56,lat= 72,time=datetime.now(),\n                number=100, radius=500,\n                sail=10,draft=50,length=90,width=40)\n\no.run(duration=timedelta(days=3))\no.plot(fast=True)\no.plot_property('draft')"
      ]
    }
  ],
  "metadata": {
    "kernelspec": {
      "display_name": "Python 3",
      "language": "python",
      "name": "python3"
    },
    "language_info": {
      "codemirror_mode": {
        "name": "ipython",
        "version": 3
      },
      "file_extension": ".py",
      "mimetype": "text/x-python",
      "name": "python",
      "nbconvert_exporter": "python",
      "pygments_lexer": "ipython3",
      "version": "3.11.6"
    }
  },
  "nbformat": 4,
  "nbformat_minor": 0
}
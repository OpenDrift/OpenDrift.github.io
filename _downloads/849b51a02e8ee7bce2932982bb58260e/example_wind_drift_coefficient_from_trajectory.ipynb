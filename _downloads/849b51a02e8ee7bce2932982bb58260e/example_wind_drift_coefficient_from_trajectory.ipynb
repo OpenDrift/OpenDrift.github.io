{
  "cells": [
    {
      "cell_type": "code",
      "execution_count": null,
      "metadata": {
        "collapsed": false
      },
      "outputs": [],
      "source": [
        "%matplotlib inline"
      ]
    },
    {
      "cell_type": "markdown",
      "metadata": {},
      "source": [
        "\n# Retieving wind drift factor from trajectory\n"
      ]
    },
    {
      "cell_type": "code",
      "execution_count": null,
      "metadata": {
        "collapsed": false
      },
      "outputs": [],
      "source": [
        "from datetime import datetime, timedelta\nimport matplotlib.pyplot as plt\nfrom opendrift.models.oceandrift import OceanDrift\nfrom opendrift.models.physics_methods import wind_drift_factor_from_trajectory"
      ]
    },
    {
      "cell_type": "markdown",
      "metadata": {},
      "source": [
        "A very simple drift model is: current + wind_drift_factor*wind\nwhere wind_drift_factor for surface drift is typically\n0.035 if Stokes drift included, and 0.02 in addition to Stokes drift.\nThis example illustrates how a best-fit wind_drift_factor\ncan be calculated from an observed trajectory.\n\n"
      ]
    },
    {
      "cell_type": "markdown",
      "metadata": {},
      "source": [
        "First we simulate a synthetic drifter trajectory\n\n"
      ]
    },
    {
      "cell_type": "code",
      "execution_count": null,
      "metadata": {
        "collapsed": false
      },
      "outputs": [],
      "source": [
        "ot = OceanDrift(loglevel=50)\not.add_readers_from_list([ot.test_data_folder() +\n    '16Nov2015_NorKyst_z_surface/norkyst800_subset_16Nov2015.nc',\n    ot.test_data_folder() + '16Nov2015_NorKyst_z_surface/arome_subset_16Nov2015.nc'], lazy=False)"
      ]
    },
    {
      "cell_type": "markdown",
      "metadata": {},
      "source": [
        "Using a wind_drift_factor of 0.33 i.e. drift is current + 3.3% of wind speed\n\n"
      ]
    },
    {
      "cell_type": "code",
      "execution_count": null,
      "metadata": {
        "collapsed": false
      },
      "outputs": [],
      "source": [
        "ot.seed_elements(lon=4, lat=60, number=1, time=ot.readers[list(ot.readers)[0]].start_time,\n        wind_drift_factor=0.033)"
      ]
    },
    {
      "cell_type": "markdown",
      "metadata": {},
      "source": [
        "Adding some horizontal diffusivity as \"noise\"\n\n"
      ]
    },
    {
      "cell_type": "code",
      "execution_count": null,
      "metadata": {
        "collapsed": false
      },
      "outputs": [],
      "source": [
        "ot.set_config('drift:horizontal_diffusivity', 10)\not.run(duration=timedelta(hours=12), time_step=600)\n\not.plot(fast=True, title='Synthetic drifter trajectory')"
      ]
    },
    {
      "cell_type": "markdown",
      "metadata": {},
      "source": [
        "Secondly, calculating the wind_drift_factor which reproduces the \"observed\" trajectory with minimal difference\n\n"
      ]
    },
    {
      "cell_type": "code",
      "execution_count": null,
      "metadata": {
        "collapsed": false
      },
      "outputs": [],
      "source": [
        "drifter_lons = ot.history['lon'][0]\ndrifter_lats = ot.history['lat'][0]\ndrifter_times = ot.get_time_array()[0]\n\no = OceanDrift(loglevel=50)\no.add_readers_from_list([o.test_data_folder() +\n    '16Nov2015_NorKyst_z_surface/norkyst800_subset_16Nov2015.nc',\n    o.test_data_folder() + '16Nov2015_NorKyst_z_surface/arome_subset_16Nov2015.nc'], lazy=False)\nt = o.get_variables_along_trajectory(variables=['x_sea_water_velocity', 'y_sea_water_velocity', 'x_wind', 'y_wind'],\n        lons=drifter_lons, lats=drifter_lats, times=drifter_times)\n\nwind_drift_factor = wind_drift_factor_from_trajectory(t)\nprint(wind_drift_factor)"
      ]
    },
    {
      "cell_type": "markdown",
      "metadata": {},
      "source": [
        "The mean retrieved wind_drift_factor is 0.036, slichtly higher than the value 0.033 used for the simulation.\nThe difference is due to the \"noise\" added by horizontal diffusion.\nNote that the retieved wind_drift_factor is linked to the wind and current used for the retrieval,\nother forcing datasets will yeld different value of the wind_drift_factor.\n\n"
      ]
    },
    {
      "cell_type": "code",
      "execution_count": null,
      "metadata": {
        "collapsed": false
      },
      "outputs": [],
      "source": [
        "print(wind_drift_factor.mean())\n\nplt.hist(wind_drift_factor, label='Retrieved wind_drift_factor')\nplt.axvline(x=0.033, label='Actual wind_drift_factor of 0.033', color='k')\nplt.axvline(x=wind_drift_factor.mean(), label='Mean retieved wind_drift_factor of %.3f' % wind_drift_factor.mean(), color='r')\nplt.ylabel('Number')\nplt.xlabel('Wind drift factor  [fraction]')\nplt.legend()\nplt.show()"
      ]
    }
  ],
  "metadata": {
    "kernelspec": {
      "display_name": "Python 3",
      "language": "python",
      "name": "python3"
    },
    "language_info": {
      "codemirror_mode": {
        "name": "ipython",
        "version": 3
      },
      "file_extension": ".py",
      "mimetype": "text/x-python",
      "name": "python",
      "nbconvert_exporter": "python",
      "pygments_lexer": "ipython3",
      "version": "3.9.7"
    }
  },
  "nbformat": 4,
  "nbformat_minor": 0
}
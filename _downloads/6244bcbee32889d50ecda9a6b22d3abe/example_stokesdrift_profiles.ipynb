{
  "cells": [
    {
      "cell_type": "markdown",
      "metadata": {},
      "source": [
        "\n# Stokes drift vertical profiles\n"
      ]
    },
    {
      "cell_type": "code",
      "execution_count": null,
      "metadata": {
        "collapsed": false
      },
      "outputs": [],
      "source": [
        "import numpy as np\nfrom opendrift.models.physics_methods import stokes_drift_profile_breivik, plot_stokes_profile\n\nz = np.linspace(0, -10, 100)\nsu_surface = .3\nsv_surface = .1\nT = 8"
      ]
    },
    {
      "cell_type": "markdown",
      "metadata": {},
      "source": [
        "Plotting profiles of Stokes drift for significant wave heights of 1 and 2 meters\n\n"
      ]
    },
    {
      "cell_type": "code",
      "execution_count": null,
      "metadata": {
        "collapsed": false
      },
      "outputs": [],
      "source": [
        "hs = 1\nsu1, sv1, ss1 = stokes_drift_profile_breivik(su_surface, sv_surface, hs, T, z)\nhs = 2\nsu2, sv2, ss2 = stokes_drift_profile_breivik(su_surface, sv_surface, hs, T, z)\n\nprofiles = [\n    {'u': su1, 'v': sv1, 'z': z, 'kwargs': {'label': 'Stokes, Hs = 1m'}},\n    {'u': su2, 'v': sv2, 'z': z, 'kwargs': {'label': 'Stokes, Hs = 2m'}}\n    ]\n\nplot_stokes_profile(profiles)"
      ]
    }
  ],
  "metadata": {
    "kernelspec": {
      "display_name": "Python 3",
      "language": "python",
      "name": "python3"
    },
    "language_info": {
      "codemirror_mode": {
        "name": "ipython",
        "version": 3
      },
      "file_extension": ".py",
      "mimetype": "text/x-python",
      "name": "python",
      "nbconvert_exporter": "python",
      "pygments_lexer": "ipython3",
      "version": "3.11.4"
    }
  },
  "nbformat": 4,
  "nbformat_minor": 0
}
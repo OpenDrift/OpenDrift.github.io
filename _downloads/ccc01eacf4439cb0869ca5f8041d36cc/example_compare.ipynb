{
  "cells": [
    {
      "cell_type": "code",
      "execution_count": null,
      "metadata": {
        "collapsed": false
      },
      "outputs": [],
      "source": [
        "%matplotlib inline"
      ]
    },
    {
      "cell_type": "markdown",
      "metadata": {},
      "source": [
        "\nCompare\n=============\n\nComparing two oil drift simulation runs, with and without wind\n"
      ]
    },
    {
      "cell_type": "code",
      "execution_count": null,
      "metadata": {
        "collapsed": false
      },
      "outputs": [],
      "source": [
        "from datetime import timedelta\nfrom opendrift.readers import reader_netCDF_CF_generic\nfrom opendrift.models.openoil import OpenOil\n\no = OpenOil(loglevel=20)  # Set loglevel to 0 for debug information\n\n# Arome\nreader_arome = reader_netCDF_CF_generic.Reader(o.test_data_folder() +\n    '16Nov2015_NorKyst_z_surface/arome_subset_16Nov2015.nc')\n# Norkyst\nreader_norkyst = reader_netCDF_CF_generic.Reader(o.test_data_folder() +\n    '16Nov2015_NorKyst_z_surface/norkyst800_subset_16Nov2015.nc')\n\no.add_reader([reader_norkyst, reader_arome])\n\n# Seeding some particles\nlon = 4.3; lat = 60.0; # Outside Bergen\ntime = [reader_arome.start_time,\n        reader_arome.start_time + timedelta(hours=30)]\no.seed_elements(lon, lat, radius=50, number=5000, time=time,\n                wind_drift_factor=0.03) # 3% wind drift\n\n# Adjusting some configuration\no.set_config('processes:dispersion', False)\no.set_config('processes:evaporation', False)\no.set_config('processes:emulsification', False)\no.set_config('drift:current_uncertainty', .1)\no.set_config('drift:wind_uncertainty', 2)\n\n# Running model\no.run(steps=66*2, time_step=1800)\n\n# Second run, for comparison\no2 = OpenOil(loglevel=20)  # Set loglevel to 0 for debug information\no2.add_reader([reader_norkyst, reader_arome])\no2.seed_elements(lon, lat, radius=50, number=5000, time=time,\n                 wind_drift_factor=0.0) # No wind drift\no2.set_config('processes:dispersion', False)\no2.set_config('processes:evaporation', False)\no2.set_config('processes:emulsification', False)\no2.set_config('drift:current_uncertainty', .1)\no2.set_config('drift:wind_uncertainty', 2)\no2.run(steps=66*2, time_step=1800)\n\n\n# Animate and compare the two runs\no.animation(fast=True, compare=o2,\n            legend=['Current + 3 % wind drift', 'Current only'],\n            filename='compare.gif')"
      ]
    },
    {
      "cell_type": "markdown",
      "metadata": {},
      "source": [
        "![](/gallery/animations/compare.gif)\n\n\n"
      ]
    }
  ],
  "metadata": {
    "kernelspec": {
      "display_name": "Python 3",
      "language": "python",
      "name": "python3"
    },
    "language_info": {
      "codemirror_mode": {
        "name": "ipython",
        "version": 3
      },
      "file_extension": ".py",
      "mimetype": "text/x-python",
      "name": "python",
      "nbconvert_exporter": "python",
      "pygments_lexer": "ipython3",
      "version": "3.8.1"
    }
  },
  "nbformat": 4,
  "nbformat_minor": 0
}
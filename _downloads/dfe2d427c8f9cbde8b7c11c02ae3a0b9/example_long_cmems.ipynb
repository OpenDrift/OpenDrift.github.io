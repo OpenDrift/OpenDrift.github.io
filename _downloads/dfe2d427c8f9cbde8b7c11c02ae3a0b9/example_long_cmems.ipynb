{
  "cells": [
    {
      "cell_type": "code",
      "execution_count": null,
      "metadata": {
        "collapsed": false
      },
      "outputs": [],
      "source": [
        "%matplotlib inline"
      ]
    },
    {
      "cell_type": "markdown",
      "metadata": {},
      "source": [
        "\n# CMEMS\n\nThis example runs an OceanDrift simulation\nwith current data downloaded from CMEMS\nTo run this example, you need a CMEMS account created at\nhttps://marine.copernicus.eu, and you need to install the motuclient:\npython -m pip install motuclient\n\n## CMEMS username and password should be stored in a .netrc file with contents:\nmachine cmems\n    login <your username>\n    password <your password>\n```\n"
      ]
    },
    {
      "cell_type": "code",
      "execution_count": null,
      "metadata": {
        "collapsed": false
      },
      "outputs": [],
      "source": [
        "import os\nfrom datetime import datetime, timedelta\nimport numpy as np\n\nfrom opendrift.models.oceandrift import OceanDrift\nfrom opendrift.readers import reader_cmems\nfrom opendrift.readers import reader_netCDF_CF_generic"
      ]
    },
    {
      "cell_type": "markdown",
      "metadata": {},
      "source": [
        "Seed information\n\n"
      ]
    },
    {
      "cell_type": "code",
      "execution_count": null,
      "metadata": {
        "collapsed": false
      },
      "outputs": [],
      "source": [
        "lon = 4.8; lat = 60  # Bergen, Norway\nlon = -89; lat = 29.8  # New Orleans\nlon = 107; lat = 10  # Ho Chi Minh\nlon = 123; lat = -16.3  # Australia\n\n\ntime = datetime.utcnow()\nduration = timedelta(days=3)\nbufferlat = duration.total_seconds()/111000\nbufferlon = bufferlat*np.cos(lat*np.pi/180)"
      ]
    },
    {
      "cell_type": "markdown",
      "metadata": {},
      "source": [
        "By intialisation, only an XML-file with the contents is downloaded.\nThe netCDF file with data is downloaded later, after the simulation is started,\nwhen necessary coverage (time/space) is known ( <reader>.prepare() ) \n\n"
      ]
    },
    {
      "cell_type": "code",
      "execution_count": null,
      "metadata": {
        "collapsed": false
      },
      "outputs": [],
      "source": [
        "cmems = reader_cmems.Reader(\n    dataset='global-analysis-forecast-phy-001-024-hourly-merged-uv',\n    variable_mapping={  # Overriding the mapping in reader_cmems.py\n        'utotal': 'x_sea_water_velocity',\n        'vtotal': 'y_sea_water_velocity',\n        'utide': 'sea_ice_x_velocity',   # Fake mapping, as standard_name\n        'vtide': 'sea_ice_y_velocity'})  # must be unique for a reader\n\no = OceanDrift()\n\no.add_reader(cmems)\no.seed_elements(lon=lon, lat=lat, number=5000, radius=1000, time=time)\no.run(duration=duration)\n\n# Although total current (SMOC) has been used as forcing, we plot the tidal current as background field, disguised as ice velocity\no.animation(fast=True, clabel='Tidal current [m/s]', skip=1, scale=20, \n            background=[ 'sea_ice_x_velocity', 'sea_ice_y_velocity'])"
      ]
    },
    {
      "cell_type": "markdown",
      "metadata": {},
      "source": [
        "<img src=\"file://gallery/animations/example_cmems_0.gif\">\n\n"
      ]
    }
  ],
  "metadata": {
    "kernelspec": {
      "display_name": "Python 3",
      "language": "python",
      "name": "python3"
    },
    "language_info": {
      "codemirror_mode": {
        "name": "ipython",
        "version": 3
      },
      "file_extension": ".py",
      "mimetype": "text/x-python",
      "name": "python",
      "nbconvert_exporter": "python",
      "pygments_lexer": "ipython3",
      "version": "3.9.2"
    }
  },
  "nbformat": 4,
  "nbformat_minor": 0
}
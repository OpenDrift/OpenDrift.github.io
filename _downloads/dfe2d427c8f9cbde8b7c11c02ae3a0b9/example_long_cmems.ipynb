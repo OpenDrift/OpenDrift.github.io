{
  "cells": [
    {
      "cell_type": "code",
      "execution_count": null,
      "metadata": {
        "collapsed": false
      },
      "outputs": [],
      "source": [
        "%matplotlib inline"
      ]
    },
    {
      "cell_type": "markdown",
      "metadata": {},
      "source": [
        "\nCMEMS\n=============\n\nThis example runs a Leeway simulation, with current data downloaded\nfrom CMEMS, and wind data from an NCEP Thredds server.\nTo run this example, you need a CMEMS account created at\nhttp://marine.copernicus.eu, and you need to install the motuclient\navailable from https://github.com/clstoulouse/motu-client-python :\npython -m pip install motuclient\n"
      ]
    },
    {
      "cell_type": "code",
      "execution_count": null,
      "metadata": {
        "collapsed": false
      },
      "outputs": [],
      "source": [
        "import os\nfrom datetime import datetime, timedelta\nimport numpy as np\n\nfrom opendrift.models.oceandrift import OceanDrift\nfrom opendrift.readers import reader_cmems\nfrom opendrift.readers import reader_netCDF_CF_generic\n\ntry:\n    f = open('cmems_account.txt')\nexcept:\n    raise ValueError('Please store your CMEMS username and password '\n                     'in local file \"cmems_account.txt\"')\n\nusername = f.readline().strip()\npassword = f.readline().strip()\nf.close()\n\n# Seed information\nlon = 4.8; lat = 60  # Bergen, Norway\nlon = -89; lat = 29.8  # New Orleans\nlon = 107; lat = 10  # Ho Chi Minh\n\ntime = datetime.now()\nduration = timedelta(days=3)\nbufferlat = duration.total_seconds()/111000\nbufferlon = bufferlat*np.cos(lat*np.pi/180)\n\n# Fetching current data from CMEMS\ncmems_file = 'opendrift_cmems_download.nc'\nif os.path.exists(cmems_file):\n    # Reuising downloaded file, if existing. Delete it to force update.\n    cmems = reader_netCDF_CF_generic.Reader(cmems_file)\nelse:\n    cmems = reader_cmems.Reader(username=username, password=password,\n                                lon_min = lon - bufferlon,\n                                lon_max = lon + bufferlon,\n                                lat_min = lat - bufferlat,\n                                lat_max = lat + bufferlat,\n                                time_start = time - timedelta(hours=3),\n                                time_end = time + duration)\n\no = OceanDrift()\n\no.add_reader(cmems)\no.seed_elements(lon=lon, lat=lat, number=5000, radius=1000, time=time)\no.run(duration=duration)\no.animation(fast=True, filename='cmems.gif')"
      ]
    },
    {
      "cell_type": "markdown",
      "metadata": {},
      "source": [
        "![](/gallery/animations/cmems.gif)\n\n\n"
      ]
    }
  ],
  "metadata": {
    "kernelspec": {
      "display_name": "Python 3",
      "language": "python",
      "name": "python3"
    },
    "language_info": {
      "codemirror_mode": {
        "name": "ipython",
        "version": 3
      },
      "file_extension": ".py",
      "mimetype": "text/x-python",
      "name": "python",
      "nbconvert_exporter": "python",
      "pygments_lexer": "ipython3",
      "version": "3.7.3"
    }
  },
  "nbformat": 4,
  "nbformat_minor": 0
}
{
  "cells": [
    {
      "cell_type": "code",
      "execution_count": null,
      "metadata": {
        "collapsed": false
      },
      "outputs": [],
      "source": [
        "%matplotlib inline"
      ]
    },
    {
      "cell_type": "markdown",
      "metadata": {},
      "source": [
        "\nROMS native reader\n==================================\n"
      ]
    },
    {
      "cell_type": "code",
      "execution_count": null,
      "metadata": {
        "collapsed": false
      },
      "outputs": [],
      "source": [
        "import numpy as np\nfrom opendrift.readers import reader_ROMS_native\nfrom opendrift.models.oceandrift import OceanDrift\n\no = OceanDrift(loglevel=0)  # Set loglevel to 0 for debug information\n\n# Nordic 4km\nnordic_native = reader_ROMS_native.Reader(o.test_data_folder() +\n    '2Feb2016_Nordic_sigma_3d/Nordic-4km_SLEVELS_avg_00_subset2Feb2016.nc')\n\no.add_reader(nordic_native)\n\n# Seed elements at defined position and time\no.seed_elements(lon=12.0, lat=68.3, radius=0, number=10,\n                z=np.linspace(0, -150, 10), time=nordic_native.start_time)\n\n# Running model\no.run(time_step=3600)\n\n# Print and plot results\nprint(o)\no.plot(linecolor='z', fast=True)\n#o.animation()"
      ]
    }
  ],
  "metadata": {
    "kernelspec": {
      "display_name": "Python 3",
      "language": "python",
      "name": "python3"
    },
    "language_info": {
      "codemirror_mode": {
        "name": "ipython",
        "version": 3
      },
      "file_extension": ".py",
      "mimetype": "text/x-python",
      "name": "python",
      "nbconvert_exporter": "python",
      "pygments_lexer": "ipython3",
      "version": "3.8.1"
    }
  },
  "nbformat": 4,
  "nbformat_minor": 0
}
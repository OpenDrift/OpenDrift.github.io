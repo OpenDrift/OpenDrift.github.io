{
  "cells": [
    {
      "cell_type": "code",
      "execution_count": null,
      "metadata": {
        "collapsed": false
      },
      "outputs": [],
      "source": [
        "%matplotlib inline"
      ]
    },
    {
      "cell_type": "markdown",
      "metadata": {},
      "source": [
        "\nGrid\n=============\n"
      ]
    },
    {
      "cell_type": "code",
      "execution_count": null,
      "metadata": {
        "collapsed": false
      },
      "outputs": [],
      "source": [
        "#!/usr/bin/env python\n\nimport numpy as np\n\nfrom opendrift.readers import reader_basemap_landmask\nfrom opendrift.readers import reader_netCDF_CF_generic\nfrom opendrift.models.oceandrift import OceanDrift\n\no = OceanDrift(loglevel=0)  # Set loglevel to 0 for debug information\n\n# Norkyst\nreader_norkyst = reader_netCDF_CF_generic.Reader(o.test_data_folder() + '16Nov2015_NorKyst_z_surface/norkyst800_subset_16Nov2015.nc')\n\n# Making customised landmask (Basemap)\nreader_basemap = reader_basemap_landmask.Reader(\n                    llcrnrlon=3.5, llcrnrlat=59.9,\n                    urcrnrlon=5.5, urcrnrlat=61.2,\n                    resolution='h', projection='merc')\n\no.add_reader([reader_basemap, reader_norkyst])\n\n# Seeding some particles\nlons = np.linspace(3.5, 5.0, 100)\nlats = np.linspace(60, 61, 100)\nlons, lats = np.meshgrid(lons, lats)\nlons = lons.ravel()\nlats = lats.ravel()\n\n# Seed oil elements at defined position and time\no.seed_elements(lons, lats, radius=0, number=10000,\n                time=reader_norkyst.start_time)\n\n# Running model (until end of driver data)\no.run(steps=66*2, time_step=1800)\n\n# Print and plot results\nprint(o)\no.animation(filename='grid.gif')"
      ]
    },
    {
      "cell_type": "markdown",
      "metadata": {},
      "source": [
        "![](/gallery/animations/grid.gif)\n\no.plot()\n\n"
      ]
    }
  ],
  "metadata": {
    "kernelspec": {
      "display_name": "Python 3",
      "language": "python",
      "name": "python3"
    },
    "language_info": {
      "codemirror_mode": {
        "name": "ipython",
        "version": 3
      },
      "file_extension": ".py",
      "mimetype": "text/x-python",
      "name": "python",
      "nbconvert_exporter": "python",
      "pygments_lexer": "ipython3",
      "version": "3.8.0"
    }
  },
  "nbformat": 4,
  "nbformat_minor": 0
}
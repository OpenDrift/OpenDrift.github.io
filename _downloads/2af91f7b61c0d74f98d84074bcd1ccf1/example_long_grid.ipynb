{
  "cells": [
    {
      "cell_type": "code",
      "execution_count": null,
      "metadata": {
        "collapsed": false
      },
      "outputs": [],
      "source": [
        "%matplotlib inline"
      ]
    },
    {
      "cell_type": "markdown",
      "metadata": {},
      "source": [
        "\nGrid\n=============\n"
      ]
    },
    {
      "cell_type": "code",
      "execution_count": null,
      "metadata": {
        "collapsed": false
      },
      "outputs": [],
      "source": [
        "#!/usr/bin/env python\n\nimport numpy as np\n\nfrom opendrift.readers import reader_global_landmask\nfrom opendrift.readers import reader_netCDF_CF_generic\nfrom opendrift.models.oceandrift import OceanDrift\n\no = OceanDrift(loglevel=0)  # Set loglevel to 0 for debug information\n\n# Norkyst\nreader_norkyst = reader_netCDF_CF_generic.Reader(o.test_data_folder() + '16Nov2015_NorKyst_z_surface/norkyst800_subset_16Nov2015.nc')\n\n# Making customised landmask\nreader_landmask = reader_global_landmask.Reader(\n                    llcrnrlon=3.5, llcrnrlat=59.9,\n                    urcrnrlon=5.5, urcrnrlat=61.2)\n\no.add_reader([reader_landmask, reader_norkyst])\n\n# Seeding some particles\nlons = np.linspace(3.5, 5.0, 100)\nlats = np.linspace(60, 61, 100)\nlons, lats = np.meshgrid(lons, lats)\nlons = lons.ravel()\nlats = lats.ravel()\n\n# Seed oil elements at defined position and time\no.seed_elements(lons, lats, radius=0, number=10000,\n                time=reader_norkyst.start_time)\n\n# Running model (until end of driver data)\no.run(steps=66*2, time_step=1800)\n\n# Print and plot results\nprint(o)\no.animation(filename='grid.gif')"
      ]
    },
    {
      "cell_type": "markdown",
      "metadata": {},
      "source": [
        "![](https://camo.githubusercontent.com/aaf79a5e243ef601c015c290fc1f935d2ec70340/68747470733a2f2f646c2e64726f70626f7875736572636f6e74656e742e636f6d2f732f337933316c64773235636c6e7362392f6f70656e64726966745f677269642e6769663f646c3d30)\n\no.plot()\n .. image:: /gallery/animations/grid.gif\n\n"
      ]
    }
  ],
  "metadata": {
    "kernelspec": {
      "display_name": "Python 3",
      "language": "python",
      "name": "python3"
    },
    "language_info": {
      "codemirror_mode": {
        "name": "ipython",
        "version": 3
      },
      "file_extension": ".py",
      "mimetype": "text/x-python",
      "name": "python",
      "nbconvert_exporter": "python",
      "pygments_lexer": "ipython3",
      "version": "3.8.1"
    }
  },
  "nbformat": 4,
  "nbformat_minor": 0
}
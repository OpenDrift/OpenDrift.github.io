{
  "cells": [
    {
      "cell_type": "code",
      "execution_count": null,
      "metadata": {
        "collapsed": false
      },
      "outputs": [],
      "source": [
        "%matplotlib inline"
      ]
    },
    {
      "cell_type": "markdown",
      "metadata": {},
      "source": [
        "\n2D simulation profile\n=====================\n"
      ]
    },
    {
      "cell_type": "code",
      "execution_count": null,
      "metadata": {
        "collapsed": false
      },
      "outputs": [],
      "source": [
        "from datetime import datetime, timedelta\nimport numpy as np\nfrom opendrift.models.oceandrift import OceanDrift\n\no = OceanDrift(loglevel=20)  # Set loglevel to 0 for debug information\n\n# Disable any 3D motion\no.set_2d()\n\n# Define some constant current, wind and Stokes drift\no.fallback_values['x_wind'] = 7\no.fallback_values['x_sea_water_velocity'] = .1\no.fallback_values['sea_surface_wave_stokes_drift_x_velocity'] = .2\no.fallback_values['sea_surface_wave_significant_height'] = 2\no.fallback_values['sea_surface_wave_period_at_variance_spectral_density_maximum'] = 8\n\n# Seed elements between surface and 5m depth\ntime = datetime.now()\nz = -np.linspace(0, 5, 50)\no.seed_elements(lon=4.5, lat=60.0, z=z, radius=0, number=len(z), time=time)\n\n# Running model for 6 hours\no.run(duration=timedelta(hours=6), time_step=600)\n\n# To check that z is really kept constant for all particles\no.plot_property('z')\n\n# Vertical profile of advection. Note the decaying importance of Stokes drift, and the additional windage of the element at surface\no.animation_profile()"
      ]
    },
    {
      "cell_type": "markdown",
      "metadata": {},
      "source": [
        "![](/gallery/animations/example_2d_0.gif)\n\n\n"
      ]
    }
  ],
  "metadata": {
    "kernelspec": {
      "display_name": "Python 3",
      "language": "python",
      "name": "python3"
    },
    "language_info": {
      "codemirror_mode": {
        "name": "ipython",
        "version": 3
      },
      "file_extension": ".py",
      "mimetype": "text/x-python",
      "name": "python",
      "nbconvert_exporter": "python",
      "pygments_lexer": "ipython3",
      "version": "3.8.3"
    }
  },
  "nbformat": 4,
  "nbformat_minor": 0
}
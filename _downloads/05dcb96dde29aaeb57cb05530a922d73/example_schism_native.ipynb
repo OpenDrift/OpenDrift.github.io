{
  "cells": [
    {
      "cell_type": "code",
      "execution_count": null,
      "metadata": {
        "collapsed": false
      },
      "outputs": [],
      "source": [
        "%matplotlib inline"
      ]
    },
    {
      "cell_type": "markdown",
      "metadata": {},
      "source": [
        "\n# SCHISM native reader\n"
      ]
    },
    {
      "cell_type": "code",
      "execution_count": null,
      "metadata": {
        "collapsed": false
      },
      "outputs": [],
      "source": [
        "import numpy as np\nfrom datetime import timedelta, datetime\nfrom opendrift.readers import reader_schism_native\nfrom opendrift.readers import reader_global_landmask\nfrom opendrift.models.oceandrift import OceanDrift"
      ]
    },
    {
      "cell_type": "markdown",
      "metadata": {},
      "source": [
        "## MODEL\n\n"
      ]
    },
    {
      "cell_type": "code",
      "execution_count": null,
      "metadata": {
        "collapsed": false
      },
      "outputs": [],
      "source": [
        "o = OceanDrift(loglevel=0)  # Set loglevel to 0 for debug information"
      ]
    },
    {
      "cell_type": "markdown",
      "metadata": {},
      "source": [
        "## READERS\n Creating and adding reader using a native SCHISM netcdf output file\n SCHISM reader\n\n"
      ]
    },
    {
      "cell_type": "code",
      "execution_count": null,
      "metadata": {
        "collapsed": false
      },
      "outputs": [],
      "source": [
        "reader_landmask = reader_global_landmask.Reader(\n                    llcrnrlon=171.5, llcrnrlat=-43.5,\n                    urcrnrlon=177.0, urcrnrlat=-38.0)\n\n# NZTM proj4 string found at https://spatialreference.org/ref/epsg/nzgd2000-new-zealand-transverse-mercator-2000/\nproj4str_nztm = '+proj=tmerc +lat_0=0 +lon_0=173 +k=0.9996 +x_0=1600000 +y_0=10000000 +ellps=GRS80 +towgs84=0,0,0,0,0,0,0 +units=m +no_defs'\nschism_native = reader_schism_native.Reader(\n\tfilename = 'https://thredds.met.no/thredds/dodsC/metusers/knutfd/thredds/netcdf_unstructured_samples/schism_marl20080101_00z_3D.nc', \n\tproj4 = proj4str_nztm, \n\tuse_3d = True)\n# schism_native.plot_mesh(variable = ['sea_floor_depth_below_sea_level']) # check reader was correctly loaded\n\no.add_reader([reader_landmask,schism_native])\no.set_config('general:use_auto_landmask', False) # prevent opendrift from making a new dynamical landmask with global_landmask\n\n# Seed elements at defined positions, depth and time\no.seed_elements(lon=174.046669, lat=-40.928116, radius=20, number=100,\n                z=np.linspace(0,-10, 100), time=schism_native.start_time)\n\no.seed_elements(lon= 173.8839, lat=-40.9160, radius=20, number=100,\n                z=np.linspace(0,-10, 100), time=schism_native.start_time)\n\no.seed_elements(lon=174.2940, lat=-41.0888, radius=20, number=100,\n                z=np.linspace(0,-10, 100), time=schism_native.start_time)\n\no.disable_vertical_motion()  #Deactivate any vertical processes/advection\"\"\""
      ]
    },
    {
      "cell_type": "markdown",
      "metadata": {},
      "source": [
        "Running model\n\n"
      ]
    },
    {
      "cell_type": "code",
      "execution_count": null,
      "metadata": {
        "collapsed": false
      },
      "outputs": [],
      "source": [
        "o.run(time_step=900, \n\t  end_time = schism_native.start_time+timedelta(days=0.1))\n\t  # outfile='schism_native_output.nc')\n\n# Print and plot results\nprint(o)\no.plot(fast=True)\no.animation()\no.animation_profile()"
      ]
    }
  ],
  "metadata": {
    "kernelspec": {
      "display_name": "Python 3",
      "language": "python",
      "name": "python3"
    },
    "language_info": {
      "codemirror_mode": {
        "name": "ipython",
        "version": 3
      },
      "file_extension": ".py",
      "mimetype": "text/x-python",
      "name": "python",
      "nbconvert_exporter": "python",
      "pygments_lexer": "ipython3",
      "version": "3.10.2"
    }
  },
  "nbformat": 4,
  "nbformat_minor": 0
}
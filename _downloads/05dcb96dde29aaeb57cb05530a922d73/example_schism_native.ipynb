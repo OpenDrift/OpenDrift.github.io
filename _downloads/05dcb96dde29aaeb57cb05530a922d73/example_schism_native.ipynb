{
  "cells": [
    {
      "cell_type": "markdown",
      "metadata": {},
      "source": [
        "\n# SCHISM native reader\n"
      ]
    },
    {
      "cell_type": "code",
      "execution_count": null,
      "metadata": {
        "collapsed": false
      },
      "outputs": [],
      "source": [
        "import numpy as np\nfrom datetime import timedelta, datetime\nfrom opendrift.readers import reader_schism_native\nfrom opendrift.readers import reader_global_landmask\nfrom opendrift.models.oceandrift import OceanDrift\n\no = OceanDrift(loglevel=20)  # Set loglevel to 0 for debug information\n\n\ntry:\n    # NZTM proj4 string found at https://spatialreference.org/ref/epsg/nzgd2000-new-zealand-transverse-mercator-2000/\n    proj4str_nztm = '+proj=tmerc +lat_0=0 +lon_0=173 +k=0.9996 +x_0=1600000 +y_0=10000000 +ellps=GRS80 +towgs84=0,0,0,0,0,0,0 +units=m +no_defs'\n    schism_native = reader_schism_native.Reader(\n        filename = 'https://thredds.met.no/thredds/dodsC/metusers/knutfd/thredds/netcdf_unstructured_samples/schism_marl20080101_00z_3D.nc',\n        proj4 = proj4str_nztm,\n        use_3d = True)\nexcept:\n    print('Thredds server not available, cannot run example')\n    schism_native = None\n\n\nif schism_native is not None:\n    o.add_reader([schism_native])\n\n    # Seed elements at defined positions, depth and time\n    o.seed_elements(lon=174.046669, lat=-40.928116, radius=20, number=100,\n                    z=np.linspace(0,-10, 100), time=schism_native.start_time)\n\n    o.seed_elements(lon= 173.8839, lat=-40.9160, radius=20, number=100,\n                    z=np.linspace(0,-10, 100), time=schism_native.start_time)\n\n    o.seed_elements(lon=174.2940, lat=-41.0888, radius=20, number=100,\n                    z=np.linspace(0,-10, 100), time=schism_native.start_time)\n\n    #%%\n    # Running model\n    o.run(time_step=900,\n          end_time = schism_native.start_time+timedelta(days=0.1))\n          # outfile='schism_native_output.nc')\n\n    # Print and plot results\n    print(o)\n    o.plot(fast=True)\n    o.animation()\n    o.animation_profile()"
      ]
    }
  ],
  "metadata": {
    "kernelspec": {
      "display_name": "Python 3",
      "language": "python",
      "name": "python3"
    },
    "language_info": {
      "codemirror_mode": {
        "name": "ipython",
        "version": 3
      },
      "file_extension": ".py",
      "mimetype": "text/x-python",
      "name": "python",
      "nbconvert_exporter": "python",
      "pygments_lexer": "ipython3",
      "version": "3.13.3"
    }
  },
  "nbformat": 4,
  "nbformat_minor": 0
}
{
  "cells": [
    {
      "cell_type": "code",
      "execution_count": null,
      "metadata": {
        "collapsed": false
      },
      "outputs": [],
      "source": [
        "%matplotlib inline"
      ]
    },
    {
      "cell_type": "markdown",
      "metadata": {},
      "source": [
        "\nCod egg\n=============\n"
      ]
    },
    {
      "cell_type": "code",
      "execution_count": null,
      "metadata": {
        "collapsed": false
      },
      "outputs": [],
      "source": [
        "from opendrift.readers import reader_netCDF_CF_generic\nfrom opendrift.models.pelagicegg import PelagicEggDrift\nimport datetime\n\no = PelagicEggDrift(loglevel=0)  # Set loglevel to 0 for debug information\n\n# Arome\n#reader_arome = reader_netCDF_CF_generic.Reader(o.test_data_folder() + '16Nov2015_NorKyst_z_surface/arome_subset_16Nov2015.nc')\n#reader_arome = reader_netCDF_CF_generic.Reader('http://thredds.met.no/thredds/dodsC/meps25files/meps_det_extracted_2_5km_latest.nc')\n\n# Norkyst\n#reader_norkyst = reader_netCDF_CF_generic.Reader(o.test_data_folder() + '16Nov2015_NorKyst_z_surface/norkyst800_subset_16Nov2015.nc')\n#reader_norkyst = reader_netCDF_CF_generic.Reader('http://thredds.met.no/thredds/dodsC/sea/norkyst800m/1h/aggregate_be')\nreader_norkyst = reader_netCDF_CF_generic.Reader('http://thredds.met.no/thredds/dodsC/sea/norkyst800m/1h/aggregate_be')\nreader_norshelf = reader_netCDF_CF_generic.Reader('http://thredds.met.no/thredds/dodsC/sea_norshelf_his_ZDEPTHS_agg')\n\no.add_reader([reader_norkyst, reader_norshelf])\n\n# spawn NEA cod eggs at defined position and time\ntime = datetime.datetime.today() - datetime.timedelta(1)\no.seed_elements(14. , 68.1, z=-40, radius=2000, number=500,\n                time=time, diameter=0.0014, neutral_buoyancy_salinity=31.25)\no.seed_elements(12.5, 68., z=-40, radius=2000, number=500,\n                time=time, diameter=0.0014, neutral_buoyancy_salinity=31.25)\no.seed_elements(13.5, 68., z=-40, radius=2000, number=500,\n                time=time, diameter=0.0014, neutral_buoyancy_salinity=31.25)\no.seed_elements(13., 67.8, z=-40, radius=2000, number=500,\n                time=time, diameter=0.0014, neutral_buoyancy_salinity=31.25)\n\n\n\n# Adjusting some configuration\no.set_config('processes:turbulentmixing', True)\n#o.set_config('turbulentmixing:diffusivitymodel', 'windspeed_Sundby1983') # windspeed parameterization for eddy diffusivity\no.set_config('turbulentmixing:diffusivitymodel', 'environment') # use eddy diffusivity from ocean model\n# Vertical mixing requires fast time step\no.set_config('turbulentmixing:timestep', 60.) # seconds\n\n# Running model (until end of driver data)\no.run(steps=96, time_step=3600)\n\n# Print and plot results\nprint(o)\n\no.plot(filename='codegg_forecast.png', fast=True)\no.animation(filename='codegg_forecast.gif', fast=True)"
      ]
    },
    {
      "cell_type": "markdown",
      "metadata": {},
      "source": [
        "![](/gallery/animations/codegg_forecast.gif)\n\n\n"
      ]
    },
    {
      "cell_type": "code",
      "execution_count": null,
      "metadata": {
        "collapsed": false
      },
      "outputs": [],
      "source": [
        "o.plot_vertical_distribution()"
      ]
    }
  ],
  "metadata": {
    "kernelspec": {
      "display_name": "Python 3",
      "language": "python",
      "name": "python3"
    },
    "language_info": {
      "codemirror_mode": {
        "name": "ipython",
        "version": 3
      },
      "file_extension": ".py",
      "mimetype": "text/x-python",
      "name": "python",
      "nbconvert_exporter": "python",
      "pygments_lexer": "ipython3",
      "version": "3.7.3"
    }
  },
  "nbformat": 4,
  "nbformat_minor": 0
}
{
  "cells": [
    {
      "cell_type": "code",
      "execution_count": null,
      "metadata": {
        "collapsed": false
      },
      "outputs": [],
      "source": [
        "%matplotlib inline"
      ]
    },
    {
      "cell_type": "markdown",
      "metadata": {},
      "source": [
        "\nBack and forth\n=============\n"
      ]
    },
    {
      "cell_type": "code",
      "execution_count": null,
      "metadata": {
        "collapsed": false
      },
      "outputs": [],
      "source": [
        "import os\n\nfrom opendrift.readers import reader_global_landmask\nfrom opendrift.readers import reader_netCDF_CF_generic\n\nfrom opendrift.models.oceandrift import OceanDrift\n\nncfile = 'backandforth.nc'\n\no = OceanDrift(loglevel=0)  # Set loglevel to 0 for debug information\nreader_norkyst = reader_netCDF_CF_generic.Reader(o.test_data_folder() +\n    '16Nov2015_NorKyst_z_surface/norkyst800_subset_16Nov2015.nc')\n#reader_norkyst = reader_netCDF_CF_generic.Reader('http://thredds.met.no/thredds/dodsC/sea/norkyst800m/1h/aggregate_be')\n\nreader_landmask = reader_global_landmask.Reader(llcrnrlon=3, llcrnrlat=59,\n                urcrnrlon=6, urcrnrlat=62)\n\no.add_reader([reader_norkyst, reader_landmask])\n\n################\n# Forward run\n################\n# Seeding some particles\nlon = 4.2; lat = 60.1;\ntime = reader_norkyst.start_time\no.seed_elements(lon, lat, radius=1000, number=100, time=time)\n\no.run(steps=50*4, time_step=900, outfile=ncfile)\n\n# Print and plot results\nprint(o)\no.plot(buffer=.2, filename='forward.png')\n\n#################\n## Backward run\n#################\no = OceanDrift(loglevel=0)  # Set loglevel to 0 for debug information\n#o.add_reader([reader_norkyst, reader_landmask])\n# Import forward run, and seed elements at final positions and time\no.io_import_file(ncfile)\nelements_final = o.elements\ntime_final = o.time\ndel o\no = OceanDrift(loglevel=0)  # Set loglevel to 0 for debug information\no.add_reader([reader_norkyst, reader_landmask])\no.schedule_elements(elements_final, time_final)\n\n# Running model backwards from end of forward simulation\no.run(steps=50*4, time_step=-900)\n\n# Print and plot results\nprint(o)\no.plot(buffer=.2, filename='backward.png')\nos.remove(ncfile)\nprint('#############################################')\nprint('Compare plots forward.png and backward.png')\nprint('#############################################')"
      ]
    }
  ],
  "metadata": {
    "kernelspec": {
      "display_name": "Python 3",
      "language": "python",
      "name": "python3"
    },
    "language_info": {
      "codemirror_mode": {
        "name": "ipython",
        "version": 3
      },
      "file_extension": ".py",
      "mimetype": "text/x-python",
      "name": "python",
      "nbconvert_exporter": "python",
      "pygments_lexer": "ipython3",
      "version": "3.7.6"
    }
  },
  "nbformat": 4,
  "nbformat_minor": 0
}
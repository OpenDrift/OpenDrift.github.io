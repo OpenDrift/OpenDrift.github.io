{
  "cells": [
    {
      "cell_type": "code",
      "execution_count": null,
      "metadata": {
        "collapsed": false
      },
      "outputs": [],
      "source": [
        "%matplotlib inline"
      ]
    },
    {
      "cell_type": "markdown",
      "metadata": {},
      "source": [
        "\nCheckerboard\n============\n"
      ]
    },
    {
      "cell_type": "code",
      "execution_count": null,
      "metadata": {
        "collapsed": false
      },
      "outputs": [],
      "source": [
        "import numpy as np\n\nfrom opendrift.readers import reader_global_landmask\nfrom opendrift.readers import reader_netCDF_CF_generic\nfrom opendrift.models.oceandrift import OceanDrift\n\no = OceanDrift(loglevel=20)  # Set loglevel to 0 for debug information\n\n# Norkyst\n#reader_norkyst = reader_netCDF_CF_generic.Reader('http://thredds.met.no/thredds/dodsC/sea/norkyst800m/1h/aggregate_be')\nreader_norkyst = reader_netCDF_CF_generic.Reader(o.test_data_folder() + '16Nov2015_NorKyst_z_surface/norkyst800_subset_16Nov2015.nc')\n#reader_norkyst = reader_netCDF_CF_generic.Reader('test_data/16Nov2015_NorKyst_z_surface/norkyst800_subset_16Nov2015.nc')\n\n# Landmask\nreader_landmask = reader_global_landmask.Reader(\n                    llcrnrlon=3.5, llcrnrlat=59.9,\n                    urcrnrlon=5.5, urcrnrlat=61.2)\n\no.add_reader([reader_landmask, reader_norkyst])\n\n# Seeding particles in a checkerboard pattern\ndi = 5 # Horizontal number of particles per square\ndj = 5 # Vertical number of particles per square\nlons = np.linspace(3.5, 5.0, 100)\nlats = np.linspace(60, 61, 100)\n\nii = np.arange(len(lons))//di\njj = np.arange(len(lats))//dj\nii, jj = np.meshgrid(ii, jj)\nboard = (ii+jj)%2 > 0\n\nlons, lats = np.meshgrid(lons, lats)\n\nlons = lons[board].ravel()\nlats = lats[board].ravel()\n\n# Seed oil elements at defined position and time\no.seed_elements(lons, lats, radius=0, number=10000,\n                time=reader_norkyst.start_time)\n\n# Running model (until end of driver data)\no.run(steps=66*2, time_step=1800)\n\n# Print and plot results\nprint(o)\no.animation(filename=\"example_checkerboard_anim.gif\")"
      ]
    },
    {
      "cell_type": "markdown",
      "metadata": {},
      "source": [
        "![](/gallery/animations/example_checkerboard_anim.gif)\n\n\n"
      ]
    },
    {
      "cell_type": "code",
      "execution_count": null,
      "metadata": {
        "collapsed": false
      },
      "outputs": [],
      "source": [
        "#o.plot()"
      ]
    }
  ],
  "metadata": {
    "kernelspec": {
      "display_name": "Python 3",
      "language": "python",
      "name": "python3"
    },
    "language_info": {
      "codemirror_mode": {
        "name": "ipython",
        "version": 3
      },
      "file_extension": ".py",
      "mimetype": "text/x-python",
      "name": "python",
      "nbconvert_exporter": "python",
      "pygments_lexer": "ipython3",
      "version": "3.8.0"
    }
  },
  "nbformat": 4,
  "nbformat_minor": 0
}
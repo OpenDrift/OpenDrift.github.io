{
  "cells": [
    {
      "cell_type": "code",
      "execution_count": null,
      "metadata": {
        "collapsed": false
      },
      "outputs": [],
      "source": [
        "%matplotlib inline"
      ]
    },
    {
      "cell_type": "markdown",
      "metadata": {},
      "source": [
        "\nOil budget\n==================================\n"
      ]
    },
    {
      "cell_type": "code",
      "execution_count": null,
      "metadata": {
        "collapsed": false
      },
      "outputs": [],
      "source": [
        "from datetime import timedelta\n\nfrom opendrift.readers import reader_global_landmask\nfrom opendrift.readers import reader_netCDF_CF_generic\nfrom opendrift.models.openoil3D import OpenOil3D\n\no = OpenOil3D(loglevel=0)\n\n# Arome\nreader_arome = reader_netCDF_CF_generic.Reader(o.test_data_folder() +\n    '16Nov2015_NorKyst_z_surface/arome_subset_16Nov2015.nc')\n#reader_arome = reader_netCDF_CF_generic.Reader('http://thredds.met.no/thredds/dodsC/meps25files/meps_det_extracted_2_5km_latest.nc')\n\n# Norkyst\n#reader_norkyst = reader_netCDF_CF_generic.Reader(o.test_data_folder() +\n#    '16Nov2015_NorKyst_z_surface/norkyst800_subset_16Nov2015.nc')\n#reader_norkyst = reader_netCDF_CF_generic.Reader('http://thredds.met.no/thredds/dodsC/sea/norkyst800m/1h/aggregate_be')\n\n# Landmask\nreader_landmask = reader_global_landmask.Reader(\n                    llcrnrlon=4, llcrnrlat=59.7,\n                    urcrnrlon=7, urcrnrlat=61.5)\n\n#o.add_reader([reader_landmask, reader_norkyst, reader_arome])\no.fallback_values['x_wind'] = 7\no.fallback_values['y_wind'] = 0\no.fallback_values['x_sea_water_velocity'] = .7\no.fallback_values['y_sea_water_velocity'] = .3\n#o.fallback_values['land_binary_mask'] = 0\n#o.add_reader([reader_landmask, reader_norkyst])\no.add_reader([reader_landmask])\n\n# Seeding some particles\nlon = 4.8; lat = 60.0; # Outside Bergen\n\n#time = [reader_arome.start_time,\n#        reader_arome.start_time + timedelta(hours=30)]\ntime = reader_arome.start_time\n\n# Seed oil elements at defined position and time\no.seed_elements(lon, lat, radius=3000, number=1000, time=time, z=0,\n                oiltype='EKOFISK')\n\n# Adjusting some configuration\no.set_config('processes:dispersion', True)\no.set_config('processes:evaporation', True)\no.set_config('processes:emulsification', True)\no.set_config('processes:turbulentmixing', True)\no.set_config('turbulentmixing:TSprofiles', False)\no.set_config('turbulentmixing:diffusivitymodel', 'windspeed_Sundby1983')\no.set_config('turbulentmixing:timestep', 2.) # seconds\n\n# Running model (until end of driver data)\no.run(steps=4*20, time_step=900, export_buffer_length=10,\n      outfile='oil_budget.nc')\n\n# Print and plot results\nprint(o)\no.plot_oil_budget()\no.plot_property('water_fraction')\no.plot_property('water_fraction', mean=True)\no.plot()\no.plot_property('mass_oil')\no.plot_property('z')\no.plot_property('mass_evaporated')\no.plot_property('water_fraction')\no.plot_property('interfacial_area')\no.animation(filename='oil_budget.gif')"
      ]
    },
    {
      "cell_type": "markdown",
      "metadata": {},
      "source": [
        "![](/gallery/animations/oil_budget.gif)\n\n\n"
      ]
    }
  ],
  "metadata": {
    "kernelspec": {
      "display_name": "Python 3",
      "language": "python",
      "name": "python3"
    },
    "language_info": {
      "codemirror_mode": {
        "name": "ipython",
        "version": 3
      },
      "file_extension": ".py",
      "mimetype": "text/x-python",
      "name": "python",
      "nbconvert_exporter": "python",
      "pygments_lexer": "ipython3",
      "version": "3.8.0"
    }
  },
  "nbformat": 4,
  "nbformat_minor": 0
}
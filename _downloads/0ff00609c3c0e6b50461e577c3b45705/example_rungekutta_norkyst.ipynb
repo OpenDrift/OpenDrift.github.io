{
  "cells": [
    {
      "cell_type": "code",
      "execution_count": null,
      "metadata": {
        "collapsed": false
      },
      "outputs": [],
      "source": [
        "%matplotlib inline"
      ]
    },
    {
      "cell_type": "markdown",
      "metadata": {},
      "source": [
        "\n# Runge-Kutta scheme on Norkyst model\n\nIllustrating the difference between Euler and Runge-Kutta propagation\nschemes, using a \"real\" current fields from the NorKyst800 model\n"
      ]
    },
    {
      "cell_type": "code",
      "execution_count": null,
      "metadata": {
        "collapsed": false
      },
      "outputs": [],
      "source": [
        "from opendrift.readers import reader_global_landmask\nfrom opendrift.readers import reader_netCDF_CF_generic\nfrom opendrift.models.oceandrift import OceanDrift\n\no = OceanDrift(loglevel=20)  # Set loglevel to 0 for debug information\n\nreader_norkyst = reader_netCDF_CF_generic.Reader(o.test_data_folder() +\n    '16Nov2015_NorKyst_z_surface/norkyst800_subset_16Nov2015.nc')\ntime = reader_norkyst.start_time\n\nreader_landmask = reader_global_landmask.Reader(\n                    extent=[4, 5.5, 59.9, 61.5])\n\no.add_reader([reader_norkyst, reader_landmask])\nlon = 4.5; lat = 60.0;"
      ]
    },
    {
      "cell_type": "markdown",
      "metadata": {},
      "source": [
        "First run, with Euler scheme:\n\n"
      ]
    },
    {
      "cell_type": "code",
      "execution_count": null,
      "metadata": {
        "collapsed": false
      },
      "outputs": [],
      "source": [
        "o.set_config('drift:advection_scheme', 'euler')\no.seed_elements(lon, lat, radius=0, number=1, time=time)\no.run(steps=66*2, time_step=1800)"
      ]
    },
    {
      "cell_type": "markdown",
      "metadata": {},
      "source": [
        "Second run, with Runge-Kutta scheme:\n\n"
      ]
    },
    {
      "cell_type": "code",
      "execution_count": null,
      "metadata": {
        "collapsed": false
      },
      "outputs": [],
      "source": [
        "o2 = OceanDrift(loglevel=20)  # Set loglevel to 0 for debug information\no2.add_reader([reader_norkyst, reader_landmask])\no2.set_config('drift:advection_scheme', 'runge-kutta')\no2.seed_elements(lon, lat, radius=0, number=1, time=time)\no2.run(steps=66*2, time_step=1800)"
      ]
    },
    {
      "cell_type": "markdown",
      "metadata": {},
      "source": [
        "Animate and compare the two runs\n\n"
      ]
    },
    {
      "cell_type": "code",
      "execution_count": null,
      "metadata": {
        "collapsed": false
      },
      "outputs": [],
      "source": [
        "o.animation(compare=o2, legend=['Euler scheme', 'Runge-Kutta scheme'], fast=True)"
      ]
    },
    {
      "cell_type": "markdown",
      "metadata": {},
      "source": [
        "<img src=\"file://gallery/animations/example_rungekutta_norkyst_0.gif\">\n\n"
      ]
    }
  ],
  "metadata": {
    "kernelspec": {
      "display_name": "Python 3",
      "language": "python",
      "name": "python3"
    },
    "language_info": {
      "codemirror_mode": {
        "name": "ipython",
        "version": 3
      },
      "file_extension": ".py",
      "mimetype": "text/x-python",
      "name": "python",
      "nbconvert_exporter": "python",
      "pygments_lexer": "ipython3",
      "version": "3.9.1"
    }
  },
  "nbformat": 4,
  "nbformat_minor": 0
}
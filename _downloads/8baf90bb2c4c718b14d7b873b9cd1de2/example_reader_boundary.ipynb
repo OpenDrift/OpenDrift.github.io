{
  "cells": [
    {
      "cell_type": "code",
      "execution_count": null,
      "metadata": {
        "collapsed": false
      },
      "outputs": [],
      "source": [
        "%matplotlib inline"
      ]
    },
    {
      "cell_type": "markdown",
      "metadata": {},
      "source": [
        "\nReader boundary\n==================================\n\nSeeding elements around the border of a ocean model domain (NorKyst800)\nto demonstrate autmatic transition back and forth with another model\ncovering a larger domain (Nordic).\n"
      ]
    },
    {
      "cell_type": "code",
      "execution_count": null,
      "metadata": {
        "collapsed": false
      },
      "outputs": [],
      "source": [
        "import numpy as np\nfrom opendrift.readers import reader_netCDF_CF_generic\nfrom opendrift.models.oceandrift import OceanDrift\n\no = OceanDrift(loglevel=20)  # Set loglevel to 0 for debug information\n\n# Norkyst\nreader_norkyst = reader_netCDF_CF_generic.Reader('http://thredds.met.no/thredds/dodsC/sea/norkyst800m/1h/aggregate_be')\n\n# Nordic4\nreader_nordic4 = reader_netCDF_CF_generic.Reader('http://thredds.met.no/thredds/dodsC/sea/nordic4km/zdepths1h/aggregate_be')\n\no.add_reader([reader_norkyst, reader_nordic4])\no.fallback_values['land_binary_mask'] = 0\n\n# Seeding some particles\nlons = np.linspace(10.2, 12.2, 50)\nlats = np.linspace(69.8, 70.8, 50)\nlons, lats = np.meshgrid(lons, lats)\n\n# Seed oil elements at defined position and time\no.seed_elements(lons, lats, radius=0, number=2500,\n                time=reader_norkyst.start_time)\n\n# Running model (until end of driver data)\no.run(steps=16*4, time_step=900, time_step_output=1800)\n\n# Print and plot results\nprint(o)\no.animation(filename='reader_boundary.gif', fast=True)"
      ]
    },
    {
      "cell_type": "markdown",
      "metadata": {},
      "source": [
        "![](/gallery/animations/reader_boundary.gif)\n\n\n"
      ]
    }
  ],
  "metadata": {
    "kernelspec": {
      "display_name": "Python 3",
      "language": "python",
      "name": "python3"
    },
    "language_info": {
      "codemirror_mode": {
        "name": "ipython",
        "version": 3
      },
      "file_extension": ".py",
      "mimetype": "text/x-python",
      "name": "python",
      "nbconvert_exporter": "python",
      "pygments_lexer": "ipython3",
      "version": "3.8.1"
    }
  },
  "nbformat": 4,
  "nbformat_minor": 0
}
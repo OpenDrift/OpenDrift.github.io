{
  "cells": [
    {
      "cell_type": "code",
      "execution_count": null,
      "metadata": {
        "collapsed": false
      },
      "outputs": [],
      "source": [
        "%matplotlib inline"
      ]
    },
    {
      "cell_type": "markdown",
      "metadata": {},
      "source": [
        "\n3D\n=============\n"
      ]
    },
    {
      "cell_type": "code",
      "execution_count": null,
      "metadata": {
        "collapsed": false
      },
      "outputs": [],
      "source": [
        "from opendrift.readers import reader_netCDF_CF_generic\nfrom opendrift.models.oceandrift3D import OceanDrift3D\n\no = OceanDrift3D(loglevel=0)  # Set loglevel to 0 for debug information\n\n# Arome\nreader_arome = reader_netCDF_CF_generic.Reader('http://thredds.met.no/thredds/dodsC/meps25files/meps_det_extracted_2_5km_latest.nc')\n\n# Norkyst\nreader_norkyst = reader_netCDF_CF_generic.Reader('http://thredds.met.no/thredds/dodsC/sea/norkyst800m/1h/aggregate_be')\n\no.add_reader([reader_norkyst, reader_arome])\n\n# Seed elements at defined position and time\nimport numpy as np\nz = -np.random.rand(1000)*50  # Giving elements a random depth\no.seed_elements(lon=4.8, lat=60.0, z=z, radius=0, number=1000,\n                time=reader_arome.start_time)\n\nprint(o)\n\n# Adding some diffusion\no.set_config('drift:current_uncertainty', .1)\no.set_config('drift:wind_uncertainty', 2)\n\n# Running model (until end of driver data)\no.run(steps=60*2, time_step=1800, outfile='openoil.nc',\n      export_buffer_length=5)  # Writing to netCDF file every 5 time steps\n\n# Print and plot results\nprint(o)\no.plot(linecolor='z', fast=True)  # Color lines according to depth\no.animation(filename='example_3d.gif', color='z', fast=True)"
      ]
    },
    {
      "cell_type": "markdown",
      "metadata": {},
      "source": [
        "![](/gallery/animations/example_3d.gif)\n\n\n"
      ]
    }
  ],
  "metadata": {
    "kernelspec": {
      "display_name": "Python 3",
      "language": "python",
      "name": "python3"
    },
    "language_info": {
      "codemirror_mode": {
        "name": "ipython",
        "version": 3
      },
      "file_extension": ".py",
      "mimetype": "text/x-python",
      "name": "python",
      "nbconvert_exporter": "python",
      "pygments_lexer": "ipython3",
      "version": "3.8.1"
    }
  },
  "nbformat": 4,
  "nbformat_minor": 0
}
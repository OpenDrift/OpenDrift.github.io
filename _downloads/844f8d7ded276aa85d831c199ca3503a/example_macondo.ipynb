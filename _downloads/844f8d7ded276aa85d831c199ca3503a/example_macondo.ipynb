{
  "cells": [
    {
      "cell_type": "code",
      "execution_count": null,
      "metadata": {
        "collapsed": false
      },
      "outputs": [],
      "source": [
        "%matplotlib inline"
      ]
    },
    {
      "cell_type": "markdown",
      "metadata": {},
      "source": [
        "\nMacondo\n==================================\n"
      ]
    },
    {
      "cell_type": "code",
      "execution_count": null,
      "metadata": {
        "collapsed": false
      },
      "outputs": [],
      "source": [
        "from datetime import datetime, timedelta\nfrom opendrift.readers import reader_netCDF_CF_generic\nfrom opendrift.models.openoil import OpenOil"
      ]
    },
    {
      "cell_type": "markdown",
      "metadata": {},
      "source": [
        "This is a highly simplified 2D simulation, for illustration purpose only\n\n"
      ]
    },
    {
      "cell_type": "code",
      "execution_count": null,
      "metadata": {
        "collapsed": false
      },
      "outputs": [],
      "source": [
        "o = OpenOil(loglevel=20)  # Set loglevel to 0 for debug information"
      ]
    },
    {
      "cell_type": "markdown",
      "metadata": {},
      "source": [
        "For this datasource which does not contain standard_name, we impose a variable mapping\n\n"
      ]
    },
    {
      "cell_type": "code",
      "execution_count": null,
      "metadata": {
        "collapsed": false
      },
      "outputs": [],
      "source": [
        "reader_globcurrent = reader_netCDF_CF_generic.Reader(\n    'http://tds0.ifremer.fr/thredds/dodsC/GLOBCURRENT-L4-CUREUL_HS-ALT_SUM-V03.0',\n    standard_name_mapping={'eastward_eulerian_current_velocity': 'x_sea_water_velocity',\n                           'northward_eulerian_current_velocity': 'y_sea_water_velocity'})\n\nreader_oceanwind = reader_netCDF_CF_generic.Reader('https://tds0.ifremer.fr/thredds/dodsC/CERSAT-GLO-CLIM_WIND_L4-OBS_FULL_TIME_SERIE')\n\n# Add readers\no.add_reader([reader_globcurrent, reader_oceanwind])\n\n# Seed some particles\nlon = -88.387161; lat = 28.736669  # Macondo location\nstarttime = datetime(2010, 4, 21, 6, 0, 0)  # 4 hours after explosion\ntime = [starttime, starttime + timedelta(hours=24*30)]\no.seed_elements(lon, lat, radius=0, number=15000, time=time, oiltype='LIGHT LOUISIANNA SWEET, BP')\n\n# Run model\nprint(o)\no.run(duration=timedelta(days=30),\n      time_step=timedelta(hours=3),\n      time_step_output=timedelta(hours=6))\n\n# Print and plot results\nprint(o)\no.plot(fast=True)\no.plot_oil_budget()\no.animation(fast=True)"
      ]
    },
    {
      "cell_type": "markdown",
      "metadata": {},
      "source": [
        "![](/gallery/animations/example_macondo_0.gif)\n\n\n"
      ]
    }
  ],
  "metadata": {
    "kernelspec": {
      "display_name": "Python 3",
      "language": "python",
      "name": "python3"
    },
    "language_info": {
      "codemirror_mode": {
        "name": "ipython",
        "version": 3
      },
      "file_extension": ".py",
      "mimetype": "text/x-python",
      "name": "python",
      "nbconvert_exporter": "python",
      "pygments_lexer": "ipython3",
      "version": "3.8.5"
    }
  },
  "nbformat": 4,
  "nbformat_minor": 0
}
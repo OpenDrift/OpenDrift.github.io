{
  "cells": [
    {
      "cell_type": "code",
      "execution_count": null,
      "metadata": {
        "collapsed": false
      },
      "outputs": [],
      "source": [
        "%matplotlib inline"
      ]
    },
    {
      "cell_type": "markdown",
      "metadata": {},
      "source": [
        "\nMacondo\n==================================\n"
      ]
    },
    {
      "cell_type": "code",
      "execution_count": null,
      "metadata": {
        "collapsed": false
      },
      "outputs": [],
      "source": [
        "from datetime import datetime, timedelta\n\nfrom opendrift.readers import reader_global_landmask\nfrom opendrift.readers import reader_netCDF_CF_generic\nfrom opendrift.models.openoil import OpenOil\n\n# This is a highly simplified 2D simulation, for illustration purpose only\n\no = OpenOil(loglevel=0)  # Set loglevel to 0 for debug information\n\n#reader_hycom = reader_netCDF_CF_generic.Reader('http://tds.hycom.org/thredds/dodsC/GLBu0.08/expt_19.1/2010/3hrly')\n#print(reader_hycom0)\nreader_globcurrent = reader_netCDF_CF_generic.Reader('http://tds0.ifremer.fr/thredds/dodsC/CLS-L4-CUREUL_HS-ALT_SUM-V02.0_FULL_TIME_SERIE')  # Total\n\nreader_oceanwind = reader_netCDF_CF_generic.Reader('http://tds0.ifremer.fr/thredds/dodsC/CERSAT-GLO-CLIM_WIND_L4-OBS_FULL_TIME_SERIE')\n#print(reader_oceanwind)\n\n# XXX: not-relevant\n# For longer simulations, it is better to pre-generate a landmask:\n# Landmask\nreader_landmask = reader_global_landmask.Reader(\n                    llcrnrlon=-94, llcrnrlat=20,\n                    urcrnrlon=-80, urcrnrlat=32)\n\n# Add readers\no.add_reader([reader_landmask, reader_globcurrent, reader_oceanwind])\n\n# Seed some particles\nlon = -88.387161; lat = 28.736669  # Macondo location\nstarttime = datetime(2010, 4, 21, 6, 0, 0)  # 4 hours after explosion\ntime = [starttime, starttime + timedelta(hours=24*40)]\no.seed_elements(lon, lat, radius=0, number=5000, time=time)\n\n# Run model\nprint(o)\no.run(duration=timedelta(days=40),\n      time_step=timedelta(hours=3),\n      time_step_output=timedelta(days=1))\n\n# Print and plot results\nprint(o)\no.plot()\no.animation(filename='macondo.gif')"
      ]
    },
    {
      "cell_type": "markdown",
      "metadata": {},
      "source": [
        "![](/gallery/animations/macondo.gif)\n\n\n"
      ]
    }
  ],
  "metadata": {
    "kernelspec": {
      "display_name": "Python 3",
      "language": "python",
      "name": "python3"
    },
    "language_info": {
      "codemirror_mode": {
        "name": "ipython",
        "version": 3
      },
      "file_extension": ".py",
      "mimetype": "text/x-python",
      "name": "python",
      "nbconvert_exporter": "python",
      "pygments_lexer": "ipython3",
      "version": "3.7.6"
    }
  },
  "nbformat": 4,
  "nbformat_minor": 0
}
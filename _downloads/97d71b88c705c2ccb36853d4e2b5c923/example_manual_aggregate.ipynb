{
  "cells": [
    {
      "cell_type": "markdown",
      "metadata": {},
      "source": [
        "\n# Manual aggregate\n"
      ]
    },
    {
      "cell_type": "code",
      "execution_count": null,
      "metadata": {
        "collapsed": false
      },
      "outputs": [],
      "source": [
        "from datetime import datetime, timedelta\nimport pandas as pd\nimport matplotlib.pyplot as plt\nfrom opendrift.readers import reader_netCDF_CF_generic\nfrom opendrift.readers import open_mfdataset_overlap\nfrom opendrift.models.oceandrift import OceanDrift\n\n#%\n# Create manual aggregate from individual URLs, for NorKyst ocean model initialized at 00 hours every day\n\nstart_time = datetime.now().date()-timedelta(days=5)\nend_time = datetime.now().date()-timedelta(days=3)\nds = open_mfdataset_overlap(\n    'https://thredds.met.no/thredds/dodsC/fou-hi/norkyst800m-1h/NorKyst-800m_ZDEPTHS_his.an.%Y%m%d%H.nc',\n    time_series=pd.date_range(start_time, end_time, freq='1D'))\n\n#%\n# Create reader from Xarray dataset\nrm = reader_netCDF_CF_generic.Reader(ds, name='NorKyst manual aggregate')\nprint(rm)\n\nom = OceanDrift()\nom.add_reader(rm)\nom.seed_elements(lon=4.5, lat=60.0, number=1000, radius=100, time=rm.start_time)\nom.run(end_time=rm.end_time)\n\n#%\n# Second simulation using ready made aggregate from thredds\not = OceanDrift()\not.add_readers_from_list(['https://thredds.met.no/thredds/dodsC/sea/norkyst800m/1h/aggregate_be'])\not.seed_elements(lon=4.5, lat=60.0, number=1000, radius=100, time=rm.start_time)\not.run(end_time=rm.end_time)\n\n#%\n# Simulation should be identical, but we see that manual aggregate is significantly slower than using thredds aggregate\nom.animation(compare=ot,\n             legend=[f'NorKyst manual aggregate {om.timing[\"total time\"]}',\n                     f'NorKyst thredds aggregate {ot.timing[\"total time\"]}'])"
      ]
    },
    {
      "cell_type": "markdown",
      "metadata": {},
      "source": [
        "<img src=\"file://gallery/animations/example_manual_aggregate_0.gif\">\n\n"
      ]
    }
  ],
  "metadata": {
    "kernelspec": {
      "display_name": "Python 3",
      "language": "python",
      "name": "python3"
    },
    "language_info": {
      "codemirror_mode": {
        "name": "ipython",
        "version": 3
      },
      "file_extension": ".py",
      "mimetype": "text/x-python",
      "name": "python",
      "nbconvert_exporter": "python",
      "pygments_lexer": "ipython3",
      "version": "3.13.3"
    }
  },
  "nbformat": 4,
  "nbformat_minor": 0
}
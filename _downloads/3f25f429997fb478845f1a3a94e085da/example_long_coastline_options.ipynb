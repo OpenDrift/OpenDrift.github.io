{
  "cells": [
    {
      "cell_type": "code",
      "execution_count": null,
      "metadata": {
        "collapsed": false
      },
      "outputs": [],
      "source": [
        "%matplotlib inline"
      ]
    },
    {
      "cell_type": "markdown",
      "metadata": {},
      "source": [
        "\nCoastline with options\n=============\n\nExample to illustrate stranding options using an artificial\neast-west oscillating current field\nKnut-Frode Dagestad, Feb 2017\n"
      ]
    },
    {
      "cell_type": "code",
      "execution_count": null,
      "metadata": {
        "collapsed": false
      },
      "outputs": [],
      "source": [
        "from opendrift.readers import reader_ROMS_native\nfrom opendrift.readers import reader_oscillating\n\nfrom opendrift.models.oceandrift import OceanDrift\n\no = OceanDrift(loglevel=0)  # Set loglevel to 0 for debug information\n\n# Adding nordic reader for coastline\nreader_nordic = reader_ROMS_native.Reader(o.test_data_folder() +\n    '2Feb2016_Nordic_sigma_3d/Nordic-4km_SLEVELS_avg_00_subset2Feb2016.nc')\nreader_nordic.variables = ['land_binary_mask']\n\nreader_osc = reader_oscillating.Reader('x_sea_water_velocity', amplitude=1,\n                                       zero_time=reader_nordic.start_time)\no.add_reader([reader_osc])  # Oscillating east-west current component\n\no.fallback_values['y_sea_water_velocity'] = .2  # Adding northwards drift"
      ]
    },
    {
      "cell_type": "markdown",
      "metadata": {},
      "source": [
        "Try different options: 'previous', 'stranding', 'none'\n\n"
      ]
    },
    {
      "cell_type": "code",
      "execution_count": null,
      "metadata": {
        "collapsed": false
      },
      "outputs": [],
      "source": [
        "o.set_config('general:coastline_action', 'previous')"
      ]
    },
    {
      "cell_type": "code",
      "execution_count": null,
      "metadata": {
        "collapsed": false
      },
      "outputs": [],
      "source": [
        "time = reader_osc.zero_time\nlon = 12.2; lat = 67.7\no.seed_elements(lon, lat, radius=5000, number=15, time=time)\n\no.run(steps=36*4, time_step=900)\n\n# Print and plot results\nprint(o)\no.plot()\n#o.plot(background=['x_sea_water_velocity', 'y_sea_water_velocity'])\no.animation(filename='coastline_options.gif')"
      ]
    },
    {
      "cell_type": "markdown",
      "metadata": {},
      "source": [
        "![](/gallery/animations/coastline_options.gif)\n\n\n"
      ]
    }
  ],
  "metadata": {
    "kernelspec": {
      "display_name": "Python 3",
      "language": "python",
      "name": "python3"
    },
    "language_info": {
      "codemirror_mode": {
        "name": "ipython",
        "version": 3
      },
      "file_extension": ".py",
      "mimetype": "text/x-python",
      "name": "python",
      "nbconvert_exporter": "python",
      "pygments_lexer": "ipython3",
      "version": "3.7.3"
    }
  },
  "nbformat": 4,
  "nbformat_minor": 0
}
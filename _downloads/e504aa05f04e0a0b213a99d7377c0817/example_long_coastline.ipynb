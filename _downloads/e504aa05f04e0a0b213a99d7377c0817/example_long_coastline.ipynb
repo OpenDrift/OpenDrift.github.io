{
  "cells": [
    {
      "cell_type": "code",
      "execution_count": null,
      "metadata": {
        "collapsed": false
      },
      "outputs": [],
      "source": [
        "%matplotlib inline"
      ]
    },
    {
      "cell_type": "markdown",
      "metadata": {},
      "source": [
        "\nCoastline\n=============\n"
      ]
    },
    {
      "cell_type": "code",
      "execution_count": null,
      "metadata": {
        "collapsed": false
      },
      "outputs": [],
      "source": [
        "import numpy as np\n\nfrom opendrift.readers import reader_netCDF_CF_generic\nfrom opendrift.readers import reader_ROMS_native\n\nfrom opendrift.models.oceandrift import OceanDrift\n\no = OceanDrift(loglevel=0)  # Set loglevel to 0 for debug information\no.max_speed = 3\n\n# This example works better using hourly input from Thredds than the daily data from test folder\nreader_nordic = reader_netCDF_CF_generic.Reader('http://thredds.met.no/thredds/dodsC/sea/nordic4km/zdepths1h/aggregate_be')\n#reader_nordic = reader_ROMS_native.Reader(o.test_data_folder() +\n#    '2Feb2016_Nordic_sigma_3d/Nordic-4km_SLEVELS_avg_00_subset2Feb2016.nc')\n\no.add_reader([reader_nordic])\no.set_config('general:coastline_action', 'previous')\n\n# Seeding elements on a grid\nlons = np.linspace(12, 14.5, 30)\nlats = np.linspace(67.5, 68.5, 30)\nlons, lats = np.meshgrid(lons, lats)\nlon = lons.ravel()\nlat = lats.ravel()\n\ntime = reader_nordic.start_time\no.seed_elements(lon, lat, radius=0, number=30*30, time=time)\n\no.run(steps=24*2, time_step=3600)\n\n# Print and plot results\nprint(o)\no.plot()\n#o.plot(background=['x_sea_water_velocity', 'y_sea_water_velocity'])\no.animation(filename='coastline.gif')"
      ]
    },
    {
      "cell_type": "markdown",
      "metadata": {},
      "source": [
        "![](/gallery/animations/coastline.gif)\n\n\n"
      ]
    }
  ],
  "metadata": {
    "kernelspec": {
      "display_name": "Python 3",
      "language": "python",
      "name": "python3"
    },
    "language_info": {
      "codemirror_mode": {
        "name": "ipython",
        "version": 3
      },
      "file_extension": ".py",
      "mimetype": "text/x-python",
      "name": "python",
      "nbconvert_exporter": "python",
      "pygments_lexer": "ipython3",
      "version": "3.8.1"
    }
  },
  "nbformat": 4,
  "nbformat_minor": 0
}
{
  "cells": [
    {
      "cell_type": "markdown",
      "metadata": {},
      "source": [
        "\n# Use Telemac (selafin) output\n"
      ]
    },
    {
      "cell_type": "code",
      "execution_count": null,
      "metadata": {
        "collapsed": false
      },
      "outputs": [],
      "source": [
        "from datetime import timedelta, datetime\nfrom os import sep\nfrom pyproj import Proj\nfrom opendrift.readers import reader_telemac_selafin\nfrom opendrift.models.oceandrift import OceanDrift\n\no = OceanDrift(loglevel=0)\nfilename='{}Telemac_3D{}r3d_tide_open_drift.slf'.format(o.test_data_folder(),sep)\n#Lambert North\nproj=\"+proj=lcc +lat_1=49.50000000000001 +lat_0=49.50000000000001 +lon_0=0 \\\n     +k_0=0.999877341 +x_0=600000 +y_0=200000 +a=6378249.2 +b=6356515 \\\n      +units=m +no_defs\"\nstart_time= datetime(2021,1,1,00,00)\nselafin = reader_telemac_selafin.Reader(filename=filename,proj4 = proj, start_time=start_time)\no.add_reader(selafin)\no.set_config('general:coastline_action', 'previous')\n# start_time = selafin.start_time generally wrong\ntime_step = timedelta(seconds=selafin.slf.tags[\"times\"][1])\nlength=timedelta(seconds=selafin.slf.tags[\"times\"][-1])\nnum_steps = len(selafin.slf.tags[\"times\"])\n# center seeds in the middle\nx,y = (selafin.x.max()-selafin.x.min())/2+selafin.x.min(),\\\n      (selafin.y.max()-selafin.y.min())/2+selafin.y.min()\np= Proj(proj, preserve_units=False)\nlon, lat = p(x,y,inverse=True)\no.seed_elements(lon=lon, lat=lat, radius=20000, number= 200, z= 0, \\\n   time= start_time)\no.run(time_step=time_step/10, duration=length)\n\no.plot(fast = True)"
      ]
    }
  ],
  "metadata": {
    "kernelspec": {
      "display_name": "Python 3",
      "language": "python",
      "name": "python3"
    },
    "language_info": {
      "codemirror_mode": {
        "name": "ipython",
        "version": 3
      },
      "file_extension": ".py",
      "mimetype": "text/x-python",
      "name": "python",
      "nbconvert_exporter": "python",
      "pygments_lexer": "ipython3",
      "version": "3.11.12"
    }
  },
  "nbformat": 4,
  "nbformat_minor": 0
}
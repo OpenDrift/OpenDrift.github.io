{
  "cells": [
    {
      "cell_type": "code",
      "execution_count": null,
      "metadata": {
        "collapsed": false
      },
      "outputs": [],
      "source": [
        "%matplotlib inline"
      ]
    },
    {
      "cell_type": "markdown",
      "metadata": {},
      "source": [
        "\n# Use Telemac (selafin) output\n"
      ]
    },
    {
      "cell_type": "code",
      "execution_count": null,
      "metadata": {
        "collapsed": false
      },
      "outputs": [],
      "source": [
        "# tuto\nfrom datetime import timedelta\nimport numpy as np\nfrom os import sep\nfrom pyproj import Proj\nfrom opendrift.readers import reader_telemac_selafin\nfrom opendrift.readers import reader_global_landmask\nfrom opendrift.models.oceandrift import OceanDrift\n\no = OceanDrift(loglevel=0)\nfilename='{}Telemac_3D{}r3d_tide_open_drift.slf'.format(o.test_data_folder(),sep)\n#Lambert North\nproj=\"+proj=lcc +lat_1=49.50000000000001 +lat_0=49.50000000000001 +lon_0=0 \\\n     +k_0=0.999877341 +x_0=600000 +y_0=200000 +a=6378249.2 +b=6356515 \\\n      +units=m +no_defs\"\nselafin = reader_telemac_selafin.Reader(filename=filename,proj4 = proj)\no.add_reader(selafin)\no.set_config('general:coastline_action', 'previous')\nstart_time = selafin.start_time\ntime_step = timedelta(seconds=selafin.slf.tags[\"times\"][1])\nlength=timedelta(seconds=selafin.slf.tags[\"times\"][-1])\nnum_steps = len(selafin.slf.tags[\"times\"])\n\n# center seeds in the middle\nlon, lat = selafin.center()\n\no.seed_elements(lon=lon, lat=lat, radius=20000, number= 200, z= 0, \\\n   time= start_time)\no.run(time_step=time_step/10, duration=length)"
      ]
    }
  ],
  "metadata": {
    "kernelspec": {
      "display_name": "Python 3",
      "language": "python",
      "name": "python3"
    },
    "language_info": {
      "codemirror_mode": {
        "name": "ipython",
        "version": 3
      },
      "file_extension": ".py",
      "mimetype": "text/x-python",
      "name": "python",
      "nbconvert_exporter": "python",
      "pygments_lexer": "ipython3",
      "version": "3.9.7"
    }
  },
  "nbformat": 4,
  "nbformat_minor": 0
}
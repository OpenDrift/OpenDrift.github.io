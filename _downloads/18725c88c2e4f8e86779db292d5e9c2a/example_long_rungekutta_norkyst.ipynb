{
  "cells": [
    {
      "cell_type": "code",
      "execution_count": null,
      "metadata": {
        "collapsed": false
      },
      "outputs": [],
      "source": [
        "%matplotlib inline"
      ]
    },
    {
      "cell_type": "markdown",
      "metadata": {},
      "source": [
        "\nRunge-Kutta scheme on Norkyst model\n==================================\n\nIllustrating the difference between Euler and Runge-Kutta propagation\nschemes, using a \"real\" current fields from the NorKyst800 model\n"
      ]
    },
    {
      "cell_type": "code",
      "execution_count": null,
      "metadata": {
        "collapsed": false
      },
      "outputs": [],
      "source": [
        "from opendrift.readers import reader_global_landmask\nfrom opendrift.readers import reader_netCDF_CF_generic\nfrom opendrift.models.oceandrift import OceanDrift\n\no = OceanDrift(loglevel=20)  # Set loglevel to 0 for debug information\n\nreader_norkyst = reader_netCDF_CF_generic.Reader(o.test_data_folder() +\n    '16Nov2015_NorKyst_z_surface/norkyst800_subset_16Nov2015.nc')\ntime = reader_norkyst.start_time\nreader_norkyst.interpolation = 'linearND'\n\nreader_landmask = reader_global_landmask.Reader(\n                    llcrnrlon=4, llcrnrlat=59.9,\n                    urcrnrlon=5.5, urcrnrlat=61.5, resolution='h')\n\no.add_reader([reader_norkyst, reader_landmask])\nlon = 4.5; lat = 60.0;\n\n# First run, with Euler scheme:\no.set_config('drift:scheme', 'euler')\no.seed_elements(lon, lat, radius=0, number=1, time=time)\no.run(steps=66*2, time_step=1800)\n\n# Second run, with Runge-Kutta scheme:\no2 = OceanDrift(loglevel=20)  # Set loglevel to 0 for debug information\no2.add_reader([reader_norkyst, reader_landmask])\no2.set_config('drift:scheme', 'runge-kutta')\no2.seed_elements(lon, lat, radius=0, number=1, time=time)\no2.run(steps=66*2, time_step=1800)\n\n# Animate and compare the two runs\no.animation(compare=o2, legend=['Euler scheme', 'Runge-Kutta scheme'], filename='rungekutta_norkyst.gif')"
      ]
    },
    {
      "cell_type": "markdown",
      "metadata": {},
      "source": [
        "![](/gallery/animations/rungekutta_norkyst.gif)\n\n\n"
      ]
    }
  ],
  "metadata": {
    "kernelspec": {
      "display_name": "Python 3",
      "language": "python",
      "name": "python3"
    },
    "language_info": {
      "codemirror_mode": {
        "name": "ipython",
        "version": 3
      },
      "file_extension": ".py",
      "mimetype": "text/x-python",
      "name": "python",
      "nbconvert_exporter": "python",
      "pygments_lexer": "ipython3",
      "version": "3.7.3"
    }
  },
  "nbformat": 4,
  "nbformat_minor": 0
}
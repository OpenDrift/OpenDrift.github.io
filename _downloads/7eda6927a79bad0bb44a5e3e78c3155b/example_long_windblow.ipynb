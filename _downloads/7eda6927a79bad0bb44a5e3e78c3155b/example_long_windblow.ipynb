{
  "cells": [
    {
      "cell_type": "code",
      "execution_count": null,
      "metadata": {
        "collapsed": false
      },
      "outputs": [],
      "source": [
        "%matplotlib inline"
      ]
    },
    {
      "cell_type": "markdown",
      "metadata": {},
      "source": [
        "\nWind blow model\n==================================\n"
      ]
    },
    {
      "cell_type": "code",
      "execution_count": null,
      "metadata": {
        "collapsed": false
      },
      "outputs": [],
      "source": [
        "from opendrift.readers import reader_netCDF_CF_generic\nfrom opendrift.models.windblow import WindBlow\n\no = WindBlow(loglevel=0)  # Set loglevel to 0 for debug information"
      ]
    },
    {
      "cell_type": "markdown",
      "metadata": {},
      "source": [
        "Example of elements blowing with the wind, also over land\n#############################################################\n\n"
      ]
    },
    {
      "cell_type": "code",
      "execution_count": null,
      "metadata": {
        "collapsed": false
      },
      "outputs": [],
      "source": [
        "#reader_arome = reader_netCDF_CF_generic.Reader('http://thredds.met.no/thredds/dodsC/meps25files/meps_det_extracted_2_5km_latest.nc')\nreader_arome = reader_netCDF_CF_generic.Reader(o.test_data_folder() +\n    '2Feb2016_Nordic_sigma_3d/AROME_MetCoOp_00_DEF.nc_20160202_subset')\n\no.add_reader([reader_arome])\n\n# Seeding some particles\nlat = 68.5; lon = 16.0  # Lofoten\no.seed_elements(lon, lat, radius=5000, number=1000,\n                time=reader_arome.start_time)\n\n# Running model\no.run(steps=48*4, time_step=900)\n\n# Print and plot results\nprint(o)\no.plot(buffer=.5)\no.animation(filename='windblow.gif')"
      ]
    },
    {
      "cell_type": "markdown",
      "metadata": {},
      "source": [
        "![](/gallery/animations/windblow.gif)\n\n\n"
      ]
    }
  ],
  "metadata": {
    "kernelspec": {
      "display_name": "Python 3",
      "language": "python",
      "name": "python3"
    },
    "language_info": {
      "codemirror_mode": {
        "name": "ipython",
        "version": 3
      },
      "file_extension": ".py",
      "mimetype": "text/x-python",
      "name": "python",
      "nbconvert_exporter": "python",
      "pygments_lexer": "ipython3",
      "version": "3.8.1"
    }
  },
  "nbformat": 4,
  "nbformat_minor": 0
}
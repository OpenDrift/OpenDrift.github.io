{
  "cells": [
    {
      "cell_type": "code",
      "execution_count": null,
      "metadata": {
        "collapsed": false
      },
      "outputs": [],
      "source": [
        "%matplotlib inline"
      ]
    },
    {
      "cell_type": "markdown",
      "metadata": {},
      "source": [
        "\nShip drift\n==================================\n"
      ]
    },
    {
      "cell_type": "code",
      "execution_count": null,
      "metadata": {
        "collapsed": false
      },
      "outputs": [],
      "source": [
        "from datetime import datetime, timedelta\n\nfrom opendrift.models.shipdrift import ShipDrift\n\no = ShipDrift(loglevel=0)\n\no.add_readers_from_list([\n    'http://thredds.met.no/thredds/dodsC/sea/nordic4km/zdepths1h/aggregate_be',\n    'http://thredds.met.no/thredds/dodsC/meps25files/meps_det_extracted_2_5km_latest.nc',\n    'http://thredds.met.no/thredds/dodsC/sea/mywavewam4/mywavewam4_be'\n    ])\n\n# Seeding some particles\nlon = 5.0; lat = 63.0; # Outside Bergen\n\n#time = reader_arome.start_time\n#time = datetime(2016, 12, 20, 17, 0)\ntime = datetime.now()\n\n# Seed oil elements at defined position and time\no.seed_elements(lon, lat, radius=1000, number=1000, time=time,\n                length=80.0, beam=10.0, height=9.0, draft=4.0)\n\nprint(o.elements_scheduled)\nprint(o)\n\n#o.set_projection('+proj=merc')\n\n# Running model\no.run(steps=24, stop_on_error=True)\n\n# Print and plot results\nprint(o)\no.plot(linecolor='orientation')\n#o.animation()"
      ]
    }
  ],
  "metadata": {
    "kernelspec": {
      "display_name": "Python 3",
      "language": "python",
      "name": "python3"
    },
    "language_info": {
      "codemirror_mode": {
        "name": "ipython",
        "version": 3
      },
      "file_extension": ".py",
      "mimetype": "text/x-python",
      "name": "python",
      "nbconvert_exporter": "python",
      "pygments_lexer": "ipython3",
      "version": "3.7.3"
    }
  },
  "nbformat": 4,
  "nbformat_minor": 0
}
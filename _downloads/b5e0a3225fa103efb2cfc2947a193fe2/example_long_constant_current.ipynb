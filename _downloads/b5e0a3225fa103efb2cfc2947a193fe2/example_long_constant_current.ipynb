{
  "cells": [
    {
      "cell_type": "code",
      "execution_count": null,
      "metadata": {
        "collapsed": false
      },
      "outputs": [],
      "source": [
        "%matplotlib inline"
      ]
    },
    {
      "cell_type": "markdown",
      "metadata": {},
      "source": [
        "\nConstant current\n=============\n"
      ]
    },
    {
      "cell_type": "code",
      "execution_count": null,
      "metadata": {
        "collapsed": false
      },
      "outputs": [],
      "source": [
        "from datetime import datetime\n\nfrom opendrift.models.oceandrift import OceanDrift\n\no = OceanDrift(loglevel=0)  # Set loglevel to 0 for debug information\n\n# Adding no input models, but instead constant northwards current of 1 m/s\no.fallback_values['x_sea_water_velocity'] = 0\no.fallback_values['y_sea_water_velocity'] = 1\no.fallback_values['land_binary_mask'] = 0\n\n# Seeding some particles\nlon = 4.3; lat = 60.0; # Outside Bergen\ntime = datetime(2015, 9, 22, 6, 0, 0)\n# Seed elements at defined position and time\no.seed_elements(lon, lat, radius=5000, number=100, time=time)\n\nprint(o)\n\n# Running model for 50 hours\no.run(steps=50)\n\n# Print and plot results\nprint(o)\no.plot()"
      ]
    }
  ],
  "metadata": {
    "kernelspec": {
      "display_name": "Python 3",
      "language": "python",
      "name": "python3"
    },
    "language_info": {
      "codemirror_mode": {
        "name": "ipython",
        "version": 3
      },
      "file_extension": ".py",
      "mimetype": "text/x-python",
      "name": "python",
      "nbconvert_exporter": "python",
      "pygments_lexer": "ipython3",
      "version": "3.7.3"
    }
  },
  "nbformat": 4,
  "nbformat_minor": 0
}
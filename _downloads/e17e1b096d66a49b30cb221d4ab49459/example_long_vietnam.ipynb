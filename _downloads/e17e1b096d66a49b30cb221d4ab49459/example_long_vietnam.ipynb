{
  "cells": [
    {
      "cell_type": "code",
      "execution_count": null,
      "metadata": {
        "collapsed": false
      },
      "outputs": [],
      "source": [
        "%matplotlib inline"
      ]
    },
    {
      "cell_type": "markdown",
      "metadata": {},
      "source": [
        "\nVietnam\n==================================\n"
      ]
    },
    {
      "cell_type": "code",
      "execution_count": null,
      "metadata": {
        "collapsed": false
      },
      "outputs": [],
      "source": [
        "from datetime import datetime, timedelta\n\nfrom opendrift.readers import reader_netCDF_CF_generic\nfrom opendrift.models.openoil import OpenOil\n\no = OpenOil(loglevel=0)  # Set loglevel to 0 for debug information\n\n# Adding readers for global Thredds datasets:\n# - Ocean forecast from UK Met Office (FOAM model)\n# - Weather forecast from NOAA/NCEP\no.add_readers_from_list([\n    'http://tds.hycom.org/thredds/dodsC/GLBy0.08/latest',\n    'http://oos.soest.hawaii.edu/thredds/dodsC/hioos/model/atm/ncep_global/NCEP_Global_Atmospheric_Model_best.ncd'])\n\n\n\n# Seed some particles\nlat=10.0; lon=107.8\n#time = datetime(2010, 3, 23, 6, 0, 0)\ntime = datetime.now()\no.seed_elements(lon, lat, radius=1000, number=1000, time=time)\n\n# Run model\nprint(o)\no.run(duration=timedelta(days=5),\n      time_step=timedelta(minutes=15),\n      time_step_output=timedelta(hours=3))\n\n# Print and plot results\nprint(o)\no.plot()\no.animation()"
      ]
    }
  ],
  "metadata": {
    "kernelspec": {
      "display_name": "Python 3",
      "language": "python",
      "name": "python3"
    },
    "language_info": {
      "codemirror_mode": {
        "name": "ipython",
        "version": 3
      },
      "file_extension": ".py",
      "mimetype": "text/x-python",
      "name": "python",
      "nbconvert_exporter": "python",
      "pygments_lexer": "ipython3",
      "version": "3.8.1"
    }
  },
  "nbformat": 4,
  "nbformat_minor": 0
}